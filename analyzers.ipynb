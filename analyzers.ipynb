{
 "metadata": {
  "name": ""
 },
 "nbformat": 3,
 "nbformat_minor": 0,
 "worksheets": [
  {
   "cells": [
    {
     "cell_type": "raw",
     "metadata": {},
     "source": [
      "First, let's create a Year Analyzer for both war and revolution"
     ]
    },
    {
     "cell_type": "code",
     "collapsed": false,
     "input": [
      "from analyzers.year_analyzer import YearAnalyzer\n",
      "\n",
      "year_analyzer = YearAnalyzer(concepts=[\"war\", \"revolution\"])"
     ],
     "language": "python",
     "metadata": {},
     "outputs": [],
     "prompt_number": 1
    },
    {
     "cell_type": "raw",
     "metadata": {},
     "source": [
      "Now, let's analyze years from 1900 to 1905"
     ]
    },
    {
     "cell_type": "code",
     "collapsed": false,
     "input": [
      "from information_value.models import DocumentList\n",
      "from analyzers.synset_analyzer import SynsetAnalyzer\n",
      "\n",
      "rev_analyzer = SynsetAnalyzer(\"revolution\")\n",
      "war_analyzer = SynsetAnalyzer(\"war\")\n",
      "for year in range(1900, 1906):\n",
      "    docs = DocumentList(year=year)\n",
      "    rev_value = rev_analyzer.judge_list(docs)\n",
      "    war_value = war_analyzer.judge_list(docs)\n",
      "    print(\"year %s rev value %.6f war value %.6f\" % (year, rev_value, war_value)) "
     ],
     "language": "python",
     "metadata": {},
     "outputs": [
      {
       "output_type": "stream",
       "stream": "stdout",
       "text": [
        "year 1900 rev value 0.000000 war value 0.000000\n",
        "year 1901 rev value 0.000000 war value 0.000000"
       ]
      },
      {
       "output_type": "stream",
       "stream": "stdout",
       "text": [
        "\n",
        "year 1902 rev value 0.000000 war value 0.000000"
       ]
      },
      {
       "output_type": "stream",
       "stream": "stdout",
       "text": [
        "\n",
        "year 1903 rev value 0.000000 war value 0.000000"
       ]
      },
      {
       "output_type": "stream",
       "stream": "stdout",
       "text": [
        "\n",
        "year 1904 rev value 0.000000 war value 0.000000"
       ]
      },
      {
       "output_type": "stream",
       "stream": "stderr",
       "text": [
        "2013-12-01 17:21:34,884 - lenin - INFO - 1.00 = word('revolution', 'revolution') word-iv: 1.00 \n"
       ]
      },
      {
       "output_type": "stream",
       "stream": "stderr",
       "text": [
        "INFO:lenin:1.00 = word('revolution', 'revolution') word-iv: 1.00 \n"
       ]
      },
      {
       "output_type": "stream",
       "stream": "stderr",
       "text": [
        "2013-12-01 17:21:35,137 - lenin - INFO - 1.00 =  doc('revolution', 'Between Two Battles...')\n"
       ]
      },
      {
       "output_type": "stream",
       "stream": "stderr",
       "text": [
        "INFO:lenin:1.00 =  doc('revolution', 'Between Two Battles...')\n"
       ]
      },
      {
       "output_type": "stream",
       "stream": "stderr",
       "text": [
        "2013-12-01 17:21:37,572 - lenin - INFO - 1.00 = word('revolution', 'revolution') word-iv: 1.00 \n"
       ]
      },
      {
       "output_type": "stream",
       "stream": "stderr",
       "text": [
        "INFO:lenin:1.00 = word('revolution', 'revolution') word-iv: 1.00 \n"
       ]
      },
      {
       "output_type": "stream",
       "stream": "stderr",
       "text": [
        "2013-12-01 17:21:37,664 - lenin - INFO - 1.00 =  doc('revolution', 'The First Victory of the Revolution...')\n"
       ]
      },
      {
       "output_type": "stream",
       "stream": "stderr",
       "text": [
        "INFO:lenin:1.00 =  doc('revolution', 'The First Victory of the Revolution...')\n"
       ]
      },
      {
       "output_type": "stream",
       "stream": "stderr",
       "text": [
        "2013-12-01 17:21:39,271 - lenin - INFO - 1.00 = word('revolution', 'revolution') word-iv: 1.00 \n"
       ]
      },
      {
       "output_type": "stream",
       "stream": "stderr",
       "text": [
        "INFO:lenin:1.00 = word('revolution', 'revolution') word-iv: 1.00 \n"
       ]
      },
      {
       "output_type": "stream",
       "stream": "stderr",
       "text": [
        "2013-12-01 17:21:39,335 - lenin - INFO - 1.00 =  doc('revolution', 'The Lessons of the Moscow Events...')\n"
       ]
      },
      {
       "output_type": "stream",
       "stream": "stderr",
       "text": [
        "INFO:lenin:1.00 =  doc('revolution', 'The Lessons of the Moscow Events...')\n"
       ]
      },
      {
       "output_type": "stream",
       "stream": "stderr",
       "text": [
        "2013-12-01 17:21:40,653 - lenin - INFO - 1.00 = word('revolution', 'revolution') word-iv: 1.00 \n"
       ]
      },
      {
       "output_type": "stream",
       "stream": "stderr",
       "text": [
        "INFO:lenin:1.00 = word('revolution', 'revolution') word-iv: 1.00 \n"
       ]
      },
      {
       "output_type": "stream",
       "stream": "stderr",
       "text": [
        "2013-12-01 17:21:40,665 - lenin - INFO - 1.00 =  doc('revolution', 'The Latest in Iskra Tactics, or Mock Elections...')\n"
       ]
      },
      {
       "output_type": "stream",
       "stream": "stderr",
       "text": [
        "INFO:lenin:1.00 =  doc('revolution', 'The Latest in Iskra Tactics, or Mock Elections...')\n"
       ]
      },
      {
       "output_type": "stream",
       "stream": "stderr",
       "text": [
        "2013-12-01 17:21:41,200 - lenin - INFO - 1.00 = word('revolution', 'revolution') word-iv: 1.00 \n"
       ]
      },
      {
       "output_type": "stream",
       "stream": "stderr",
       "text": [
        "INFO:lenin:1.00 = word('revolution', 'revolution') word-iv: 1.00 \n"
       ]
      },
      {
       "output_type": "stream",
       "stream": "stderr",
       "text": [
        "2013-12-01 17:21:41,215 - lenin - INFO - 1.00 =  doc('revolution', 'A Replete Bourgeoisie and a Craving Bou...')\n"
       ]
      },
      {
       "output_type": "stream",
       "stream": "stderr",
       "text": [
        "INFO:lenin:1.00 =  doc('revolution', 'A Replete Bourgeoisie and a Craving Bou...')\n"
       ]
      },
      {
       "output_type": "stream",
       "stream": "stderr",
       "text": [
        "2013-12-01 17:21:41,541 - lenin - INFO - 1.00 = word('revolution', 'revolution') word-iv: 1.00 \n"
       ]
      },
      {
       "output_type": "stream",
       "stream": "stderr",
       "text": [
        "INFO:lenin:1.00 = word('revolution', 'revolution') word-iv: 1.00 \n"
       ]
      },
      {
       "output_type": "stream",
       "stream": "stderr",
       "text": [
        "2013-12-01 17:21:41,560 - lenin - INFO - 1.00 =  doc('revolution', 'Socialism and the Peasantry...')\n"
       ]
      },
      {
       "output_type": "stream",
       "stream": "stderr",
       "text": [
        "INFO:lenin:1.00 =  doc('revolution', 'Socialism and the Peasantry...')\n"
       ]
      },
      {
       "output_type": "stream",
       "stream": "stderr",
       "text": [
        "2013-12-01 17:21:43,236 - lenin - INFO - 1.00 = word('revolution', 'revolution') word-iv: 1.00 \n"
       ]
      },
      {
       "output_type": "stream",
       "stream": "stderr",
       "text": [
        "INFO:lenin:1.00 = word('revolution', 'revolution') word-iv: 1.00 \n"
       ]
      },
      {
       "output_type": "stream",
       "stream": "stderr",
       "text": [
        "2013-12-01 17:21:43,245 - lenin - INFO - 1.00 =  doc('revolution', 'Social-Democracy's Attitude Towards the Peasant...')\n"
       ]
      },
      {
       "output_type": "stream",
       "stream": "stderr",
       "text": [
        "INFO:lenin:1.00 =  doc('revolution', 'Social-Democracy's Attitude Towards the Peasant...')\n"
       ]
      },
      {
       "output_type": "stream",
       "stream": "stderr",
       "text": [
        "2013-12-01 17:21:46,566 - lenin - INFO - 1.00 = word('revolution', 'revolution') word-iv: 1.00 \n"
       ]
      },
      {
       "output_type": "stream",
       "stream": "stderr",
       "text": [
        "INFO:lenin:1.00 = word('revolution', 'revolution') word-iv: 1.00 \n"
       ]
      },
      {
       "output_type": "stream",
       "stream": "stderr",
       "text": [
        "2013-12-01 17:21:46,578 - lenin - INFO - 1.00 =  doc('revolution', 'A Third Step Back...')\n"
       ]
      },
      {
       "output_type": "stream",
       "stream": "stderr",
       "text": [
        "INFO:lenin:1.00 =  doc('revolution', 'A Third Step Back...')\n"
       ]
      },
      {
       "output_type": "stream",
       "stream": "stderr",
       "text": [
        "2013-12-01 17:21:50,299 - lenin - INFO - 1.00 = word('revolution', 'revolution') word-iv: 1.00 \n"
       ]
      },
      {
       "output_type": "stream",
       "stream": "stderr",
       "text": [
        "INFO:lenin:1.00 = word('revolution', 'revolution') word-iv: 1.00 \n"
       ]
      },
      {
       "output_type": "stream",
       "stream": "stderr",
       "text": [
        "2013-12-01 17:21:50,306 - lenin - INFO - 1.00 =  doc('revolution', 'The Revolutionary-Democratic Dictatorship...')\n"
       ]
      },
      {
       "output_type": "stream",
       "stream": "stderr",
       "text": [
        "INFO:lenin:1.00 =  doc('revolution', 'The Revolutionary-Democratic Dictatorship...')\n"
       ]
      },
      {
       "output_type": "stream",
       "stream": "stderr",
       "text": [
        "2013-12-01 17:21:50,720 - lenin - INFO - 1.00 = word('revolution', 'revolution') word-iv: 1.00 \n"
       ]
      },
      {
       "output_type": "stream",
       "stream": "stderr",
       "text": [
        "INFO:lenin:1.00 = word('revolution', 'revolution') word-iv: 1.00 \n"
       ]
      },
      {
       "output_type": "stream",
       "stream": "stderr",
       "text": [
        "2013-12-01 17:21:50,741 - lenin - INFO - 1.00 =  doc('revolution', 'European Capital and the Autocracy...')\n"
       ]
      },
      {
       "output_type": "stream",
       "stream": "stderr",
       "text": [
        "INFO:lenin:1.00 =  doc('revolution', 'European Capital and the Autocracy...')\n"
       ]
      },
      {
       "output_type": "stream",
       "stream": "stderr",
       "text": [
        "2013-12-01 17:21:52,019 - lenin - INFO - 1.00 = word('revolution', 'revolution') word-iv: 1.00 \n"
       ]
      },
      {
       "output_type": "stream",
       "stream": "stderr",
       "text": [
        "INFO:lenin:1.00 = word('revolution', 'revolution') word-iv: 1.00 \n"
       ]
      },
      {
       "output_type": "stream",
       "stream": "stderr",
       "text": [
        "2013-12-01 17:21:52,207 - lenin - INFO - 1.00 =  doc('revolution', 'Should We Organise the Revolution?...')\n"
       ]
      },
      {
       "output_type": "stream",
       "stream": "stderr",
       "text": [
        "INFO:lenin:1.00 =  doc('revolution', 'Should We Organise the Revolution?...')\n"
       ]
      },
      {
       "output_type": "stream",
       "stream": "stderr",
       "text": [
        "2013-12-01 17:21:52,592 - lenin - INFO - 1.00 = word('revolution', 'revolution') word-iv: 1.00 \n"
       ]
      },
      {
       "output_type": "stream",
       "stream": "stderr",
       "text": [
        "INFO:lenin:1.00 = word('revolution', 'revolution') word-iv: 1.00 \n"
       ]
      },
      {
       "output_type": "stream",
       "stream": "stderr",
       "text": [
        "2013-12-01 17:21:52,776 - lenin - INFO - 1.00 =  doc('revolution', 'Two Tactics...')\n"
       ]
      },
      {
       "output_type": "stream",
       "stream": "stderr",
       "text": [
        "INFO:lenin:1.00 =  doc('revolution', 'Two Tactics...')\n"
       ]
      },
      {
       "output_type": "stream",
       "stream": "stderr",
       "text": [
        "2013-12-01 17:22:01,651 - lenin - INFO - 1.00 = word('revolution', 'revolution') word-iv: 1.00 \n"
       ]
      },
      {
       "output_type": "stream",
       "stream": "stderr",
       "text": [
        "INFO:lenin:1.00 = word('revolution', 'revolution') word-iv: 1.00 \n"
       ]
      },
      {
       "output_type": "stream",
       "stream": "stderr",
       "text": [
        "2013-12-01 17:22:01,685 - lenin - INFO - 1.00 =  doc('revolution', 'Social-Democracy and the Provisional Revolutionary...')\n"
       ]
      },
      {
       "output_type": "stream",
       "stream": "stderr",
       "text": [
        "INFO:lenin:1.00 =  doc('revolution', 'Social-Democracy and the Provisional Revolutionary...')\n"
       ]
      },
      {
       "output_type": "stream",
       "stream": "stderr",
       "text": [
        "2013-12-01 17:22:09,491 - lenin - INFO - 1.00 = word('revolution', 'revolution') word-iv: 1.00 \n"
       ]
      },
      {
       "output_type": "stream",
       "stream": "stderr",
       "text": [
        "INFO:lenin:1.00 = word('revolution', 'revolution') word-iv: 1.00 \n"
       ]
      },
      {
       "output_type": "stream",
       "stream": "stderr",
       "text": [
        "2013-12-01 17:22:09,528 - lenin - INFO - 1.00 =  doc('revolution', 'Two Tactics of Social-Democracy in the Democratic...')\n"
       ]
      },
      {
       "output_type": "stream",
       "stream": "stderr",
       "text": [
        "INFO:lenin:1.00 =  doc('revolution', 'Two Tactics of Social-Democracy in the Democratic...')\n"
       ]
      },
      {
       "output_type": "stream",
       "stream": "stderr",
       "text": [
        "2013-12-01 17:22:12,957 - lenin - INFO - 1.00 = word('revolution', 'revolution') word-iv: 1.00 \n"
       ]
      },
      {
       "output_type": "stream",
       "stream": "stderr",
       "text": [
        "INFO:lenin:1.00 = word('revolution', 'revolution') word-iv: 1.00 \n"
       ]
      },
      {
       "output_type": "stream",
       "stream": "stderr",
       "text": [
        "2013-12-01 17:22:13,638 - lenin - INFO - 1.00 =  doc('revolution', 'The Third Congress of the R.S.D.L.P....')\n"
       ]
      },
      {
       "output_type": "stream",
       "stream": "stderr",
       "text": [
        "INFO:lenin:1.00 =  doc('revolution', 'The Third Congress of the R.S.D.L.P....')\n"
       ]
      },
      {
       "output_type": "stream",
       "stream": "stderr",
       "text": [
        "2013-12-01 17:22:19,480 - lenin - INFO - 1.00 = word('revolution', 'revolution') word-iv: 1.00 \n"
       ]
      },
      {
       "output_type": "stream",
       "stream": "stderr",
       "text": [
        "INFO:lenin:1.00 = word('revolution', 'revolution') word-iv: 1.00 \n"
       ]
      },
      {
       "output_type": "stream",
       "stream": "stderr",
       "text": [
        "2013-12-01 17:22:19,755 - lenin - INFO - 1.00 =  doc('revolution', 'Revolutionary Days...')\n"
       ]
      },
      {
       "output_type": "stream",
       "stream": "stderr",
       "text": [
        "INFO:lenin:1.00 =  doc('revolution', 'Revolutionary Days...')\n"
       ]
      },
      {
       "output_type": "stream",
       "stream": "stdout",
       "text": [
        "\n",
        "year 1905 rev value 0.271186 war value 0.000000"
       ]
      },
      {
       "output_type": "stream",
       "stream": "stdout",
       "text": [
        "\n"
       ]
      }
     ],
     "prompt_number": 2
    },
    {
     "cell_type": "code",
     "collapsed": false,
     "input": [
      "for year in range(1900, 1906):\n",
      "    print year_analyzer.analyze_year(year)"
     ],
     "language": "python",
     "metadata": {},
     "outputs": [
      {
       "output_type": "stream",
       "stream": "stdout",
       "text": [
        "{u'idealism': 0, u'revolution': 0, u'philosophy': 0, u'year': 1900, u'_id': ObjectId('529559fa2b5f941cdd6601cd'), u'war': 0.35714285714285715}\n",
        "{u'idealism': 0, u'revolution': 0, u'philosophy': 0, u'year': 1901, u'_id': ObjectId('52955a132b5f941cdd6601ce'), u'war': 0.13333333333333333}"
       ]
      },
      {
       "output_type": "stream",
       "stream": "stdout",
       "text": [
        "\n",
        "{u'idealism': 0, u'revolution': 0, u'philosophy': 0, u'year': 1902, u'_id': ObjectId('52955a262b5f941cdd6601cf'), u'war': 0.15789473684210525}\n",
        "{u'idealism': 0, u'revolution': 0, u'philosophy': 0, u'year': 1903, u'_id': ObjectId('52955a532b5f941cdd6601d0'), u'war': 0.15789473684210525}\n",
        "{u'idealism': 0, u'revolution': 0, u'philosophy': 0, u'year': 1904, u'_id': ObjectId('52955a672b5f941cdd6601d1'), u'war': 0.15384615384615385}\n",
        "{u'idealism': 0, u'revolution': 0, u'philosophy': 0, u'year': 1905, u'_id': ObjectId('5295d5c42b5f941cdd6601d2'), u'war': 0.23728813559322035}\n"
       ]
      }
     ],
     "prompt_number": 4
    },
    {
     "cell_type": "code",
     "collapsed": false,
     "input": [
      "\n"
     ],
     "language": "python",
     "metadata": {},
     "outputs": [
      {
       "ename": "NameError",
       "evalue": "name 'db' is not defined",
       "output_type": "pyerr",
       "traceback": [
        "\u001b[1;31m---------------------------------------------------------------------------\u001b[0m\n\u001b[1;31mNameError\u001b[0m                                 Traceback (most recent call last)",
        "\u001b[1;32m<ipython-input-5-274ddd5bb395>\u001b[0m in \u001b[0;36m<module>\u001b[1;34m()\u001b[0m\n\u001b[1;32m----> 1\u001b[1;33m \u001b[0mdb\u001b[0m\u001b[1;33m\u001b[0m\u001b[0m\n\u001b[0m",
        "\u001b[1;31mNameError\u001b[0m: name 'db' is not defined"
       ]
      }
     ],
     "prompt_number": 5
    },
    {
     "cell_type": "code",
     "collapsed": false,
     "input": [],
     "language": "python",
     "metadata": {},
     "outputs": []
    }
   ],
   "metadata": {}
  }
 ]
}