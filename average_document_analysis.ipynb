{
 "metadata": {
  "name": ""
 },
 "nbformat": 3,
 "nbformat_minor": 0,
 "worksheets": [
  {
   "cells": [
    {
     "cell_type": "code",
     "collapsed": false,
     "input": [
      "from interpreter import *\n",
      "from analyzers import similarity\n",
      "from analyzers.document_analyzer import DocumentAnalyzer\n",
      "from analyzers.synset_analyzer import average_judge_function\n",
      "import string\n",
      "\n",
      "synsets = [wn.synset(word) for word in [\n",
      "           \"war.n.01\",\n",
      "           \"capitalism.n.01\",\n",
      "           \"theory.n.01\",\n",
      "           \"toilet.n.04\",\n",
      "           \"imperialism.n.02\",\n",
      "           \"proletarian.n.01\",\n",
      "           \"practice.n.03\",\n",
      "           \"revolution.n.01\",\n",
      "           \"money.n.01\",\n",
      "           \"philosophy.n.02\",\n",
      "           \"idealism.n.01\",\n",
      "           \"strategy.n.02\",\n",
      "           \"materialism.n.02\",\n",
      "           \"lion.n.01\",\n",
      "           \"television_receiver.n.01\",\n",
      "           \"hair.n.01\",\n",
      "           \"sugar.n.01\",\n",
      "           \"car.n.01\"\n",
      "]]\n",
      "\n",
      "\n",
      "\n",
      "\n",
      "def print_analysis(doc, analyzer):\n",
      "    analysis = analyzer.analyze_document(doc)\n",
      "    sorted_words = sorted(analysis.iteritems(), key= lambda(word, similarity): similarity, reverse=True)\n",
      "    print(\"=\" * 30)\n",
      "    print analyzer.name\n",
      "    for synset, similarity in sorted_words:\n",
      "        print \"%s %s \" % (string.rjust(synset,25), \n",
      "                                  string.rjust(str(similarity), 25))\n",
      "        \n",
      "        "
     ],
     "language": "python",
     "metadata": {},
     "outputs": [],
     "prompt_number": 10
    },
    {
     "cell_type": "raw",
     "metadata": {},
     "source": [
      "Now, analyzers! (using average)"
     ]
    },
    {
     "cell_type": "code",
     "collapsed": false,
     "input": [
      "analyzers = [DocumentAnalyzer(synsets=synsets, similarity_function=sim_fun, judge_function=average_judge_function) \n",
      "             for sim_fun in similarity.functions]"
     ],
     "language": "python",
     "metadata": {},
     "outputs": [],
     "prompt_number": 11
    },
    {
     "cell_type": "raw",
     "metadata": {},
     "source": [
      "Documents.."
     ]
    },
    {
     "cell_type": "code",
     "collapsed": false,
     "input": [
      "state_and_revolution = Document.query.find({\"name\":{\"$regex\":\"State and Revolution\" }}).next()\n",
      "imperialism_capitalism = Document.query.find({\"name\":{\"$regex\":\"Imperialism.*Capitalism.*\" }}).next()\n",
      "materialism_criticism = Document.query.find({\"name\": \"Lenin: MATERIALISM and EMPIRIO-CRITICISM\"}).next()\n",
      "what_is_to_be_done = Document.query.find({\"name\": {\"$regex\": \".*What Is To Be Done.*\"}}).next()\n",
      "agrarian_programme = Document.query.find({\"name\": u'Lenin: The Agrarian Programme of Social-Democracy in the First Russian Revolution, 1905-1907'}).next()\n",
      "documents = [state_and_revolution, imperialism_capitalism, materialism_criticism, what_is_to_be_done, agrarian_programme]\n",
      "\n"
     ],
     "language": "python",
     "metadata": {},
     "outputs": [],
     "prompt_number": 12
    },
    {
     "cell_type": "raw",
     "metadata": {},
     "source": [
      "Let's analyze the documents..."
     ]
    },
    {
     "cell_type": "code",
     "collapsed": false,
     "input": [
      "for doc in documents:\n",
      "    print \"*****************\"\n",
      "    print doc.name\n",
      "    print \"*****************\"\n",
      "    for index, sense in enumerate(doc.top_senses(),1):\n",
      "        print \"%s\" %  sense\n",
      "    print \"---------------\"\n",
      "    for analyzer in analyzers:\n",
      "        print_analysis(doc, analyzer)\n",
      "        "
     ],
     "language": "python",
     "metadata": {},
     "outputs": [
      {
       "output_type": "stream",
       "stream": "stdout",
       "text": [
        "*****************\n",
        "The State and Revolution\n",
        "*****************\n",
        "Synset('marx.n.03')"
       ]
      },
      {
       "output_type": "stream",
       "stream": "stdout",
       "text": [
        "\n",
        "Synset('revolution.n.01')\n",
        "Synset('plant.n.01')\n",
        "Synset('engels.n.01')\n",
        "Synset('club.n.02')\n",
        "Synset('power.n.01')\n",
        "Synset('party.n.01')\n",
        "Synset('sociable.n.01')\n",
        "Synset('experience.n.03')\n",
        "Synset('bernstein.n.01')\n",
        "Synset('question.n.02')\n",
        "Synset('equality.n.01')\n",
        "Synset('phase.n.01')\n",
        "Synset('commune.n.02')\n",
        "Synset('one.n.01')\n",
        "Synset('democracy.n.02')\n",
        "Synset('class.n.07')\n",
        "Synset('law.n.04')\n",
        "Synset('communism.n.02')\n",
        "Synset('peer.n.01')\n",
        "---------------\n",
        "=============================="
       ]
      }
     ],
     "prompt_number": "*"
    },
    {
     "cell_type": "code",
     "collapsed": false,
     "input": [],
     "language": "python",
     "metadata": {},
     "outputs": []
    }
   ],
   "metadata": {}
  }
 ]
}