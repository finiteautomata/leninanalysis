{
 "metadata": {
  "name": "State and Revolution"
 },
 "nbformat": 3,
 "nbformat_minor": 0,
 "worksheets": [
  {
   "cells": [
    {
     "cell_type": "markdown",
     "metadata": {},
     "source": [
      "Busquemos primero el documento \"Estado y Revoluci\u00f3n\""
     ]
    },
    {
     "cell_type": "code",
     "collapsed": false,
     "input": [
      "import interpreter\n",
      "from information_value.models import Document\n",
      "\n",
      "doc =  Document.query.find({'name': {'$regex': r'(?i).*State and Rev.*' }}).next()"
     ],
     "language": "python",
     "metadata": {},
     "outputs": [],
     "prompt_number": 1
    },
    {
     "cell_type": "markdown",
     "metadata": {},
     "source": [
      "Consigamos las top words de dicho documento"
     ]
    },
    {
     "cell_type": "code",
     "collapsed": false,
     "input": [
      "doc.top_words()\n"
     ],
     "language": "python",
     "metadata": {},
     "outputs": [
      {
       "output_type": "pyout",
       "prompt_number": 2,
       "text": [
        "[(u'works', 0.12079966939734411),\n",
        " (u'kautsky', 0.09980378034341893),\n",
        " (u'engels', 0.088243150368483),\n",
        " (u'communism', 0.06360973323514625),\n",
        " (u'democracy', 0.05439312335993149),\n",
        " (u'society', 0.04963571428094192),\n",
        " (u'revolution', 0.04179247239102269),\n",
        " (u'power', 0.041399052545779656),\n",
        " (u'law', 0.040680730746337566),\n",
        " (u'republic', 0.040559086322831214),\n",
        " (u'class', 0.039154726678418066),\n",
        " (u'labor', 0.03843749427671621),\n",
        " (u'bernstein', 0.038344210807729366),\n",
        " (u'away', 0.03803809788756404),\n",
        " (u'phase', 0.03663627066330898),\n",
        " (u'officials', 0.034963762756302606),\n",
        " (u'equal', 0.034759509164299526),\n",
        " (u'parliamentarism', 0.03466082331690826),\n",
        " (u'party', 0.033207469226845095),\n",
        " (u'proletariat', 0.03088112223067114)]"
       ]
      }
     ],
     "prompt_number": 2
    },
    {
     "cell_type": "code",
     "collapsed": false,
     "input": [],
     "language": "python",
     "metadata": {},
     "outputs": [],
     "prompt_number": 2
    }
   ],
   "metadata": {}
  }
 ]
}