{
 "metadata": {
  "name": ""
 },
 "nbformat": 3,
 "nbformat_minor": 0,
 "worksheets": [
  {
   "cells": [
    {
     "cell_type": "raw",
     "metadata": {},
     "source": [
      "Let's gather some documents"
     ]
    },
    {
     "cell_type": "code",
     "collapsed": false,
     "input": [
      "from interpreter import *\n",
      "from analyzers import similarity\n",
      "from analyzers.document_analyzer import DocumentAnalyzer\n",
      "import string\n",
      "\n",
      "state_and_revolution = Document.query.find({\"name\":{\"$regex\":\"State and Revolution\" }}).next()\n",
      "imperialism_capitalism = Document.query.find({\"name\":{\"$regex\":\"Imperialism.*Capitalism.*\" }}).next()\n",
      "materialism_criticism = Document.query.find({\"name\": \"Lenin: MATERIALISM and EMPIRIO-CRITICISM\"}).next()\n",
      "what_is_to_be_done = Document.query.find({\"name\": {\"$regex\": \".*What Is To Be Done.*\"}}).next()\n",
      "agrarian_programme = Document.query.find({\"name\": u'Lenin: The Agrarian Programme of Social-Democracy in the First Russian Revolution, 1905-1907'}).next()\n",
      "documents = [state_and_revolution, imperialism_capitalism, materialism_criticism, what_is_to_be_done, agrarian_programme]\n"
     ],
     "language": "python",
     "metadata": {},
     "outputs": [],
     "prompt_number": 1
    },
    {
     "cell_type": "code",
     "collapsed": false,
     "input": [
      "for document in documents:\n",
      "    print \"=\"* 80\n",
      "    print document.name\n",
      "    for word, _ in document.top_words():\n",
      "        print word\n",
      "    \n",
      "    for sense in document.top_senses():\n",
      "        print \"%s --  %s \" % (string.rjust(sense.name,35), \n",
      "            string.rjust(sense.definition, 55))"
     ],
     "language": "python",
     "metadata": {},
     "outputs": [
      {
       "output_type": "stream",
       "stream": "stdout",
       "text": [
        "================================================================================\n",
        "The State and Revolution\n",
        "kautsky"
       ]
      },
      {
       "output_type": "stream",
       "stream": "stdout",
       "text": [
        "\n",
        "marx\n",
        "revolution\n",
        "works\n",
        "engels\n",
        "society\n",
        "power\n",
        "party\n",
        "social\n",
        "experience\n",
        "bernstein\n",
        "question\n",
        "equality\n",
        "phase\n",
        "1917\n",
        "commune\n",
        "one\n",
        "republic\n",
        "class\n",
        "law\n",
        "                          marx.n.03 --  United States comedian; one of four brothers who made motion pictures together (1891-1961) "
       ]
      },
      {
       "output_type": "stream",
       "stream": "stdout",
       "text": [
        "\n",
        "                    revolution.n.01 --  a drastic and far-reaching change in ways of thinking and behaving \n",
        "                          work.v.01 --  exert oneself by doing mental or physical work for a purpose or out of necessity \n",
        "                        engels.n.01 --  socialist who wrote the Communist Manifesto with Karl Marx in 1848 (1820-1895) \n",
        "                          club.n.02 --    a formal association of people with similar interests \n",
        "                         power.n.01 --                      possession of controlling influence \n",
        "                         party.n.01 --                  an organization to gain political power \n",
        "                      sociable.n.01 --  a party of people assembled to promote sociability and communal activity \n",
        "                    experience.n.03 --                                  an event as apprehended \n",
        "                     bernstein.n.01 --         United States conductor and composer (1918-1990) \n",
        "                      question.v.03 --                                          pose a question \n",
        "                      equality.n.01 --  the quality of being the same in quantity or measure or value or status \n",
        "                         phase.n.01 --         any distinct time period in a sequence of events \n",
        "                       commune.n.02 --  a body of people or families living together and sharing everything \n",
        "                           one.n.01 --  the smallest whole number or a numeral representing this number \n",
        "                     democracy.n.02 --  a political system in which the supreme power lies in a body of citizens who can elect people to represent them \n",
        "                         class.n.07 --  (biology) a taxonomic group containing one or more orders \n",
        "                           law.n.04 --  a generalization that describes recurring facts or events in nature \n",
        "                     communism.n.02 --  a political theory favoring collectivism in a classless society \n",
        "                          peer.n.01 --  a person who is of equal standing with another in a group \n",
        "================================================================================\n",
        "Lenin: Imperialism, the Highest Stage of Capitalism\n",
        "enterprises"
       ]
      },
      {
       "output_type": "stream",
       "stream": "stdout",
       "text": [
        "\n",
        "bank\n",
        "imperialism\n",
        "world\n",
        "million\n",
        "colonies\n",
        "kautsky\n",
        "colonial\n",
        "production\n",
        "cent\n",
        "economic\n",
        "company\n",
        "capitalist\n",
        "monopoly\n",
        "big\n",
        "countries\n",
        "policy\n",
        "powers\n",
        "000\n",
        "banks\n",
        "                    enterprise.n.02 --            an organization created for business ventures "
       ]
      },
      {
       "output_type": "stream",
       "stream": "stdout",
       "text": [
        "\n",
        "depository_financial_institution.n.01 --  a financial institution that accepts deposits and channels the money into lending activities \n",
        "                   imperialism.n.01 --   a policy of extending your rule over foreign countries \n",
        "                      universe.n.01 --                          everything that exists anywhere \n",
        "                       million.n.01 --  the number that is represented as a one followed by 6 zeros \n",
        "                        colony.n.01 --  a body of people who settle far from home but maintain ties with their homeland; inhabitants remain nationals of their home state but are not literally under the home state's system of government \n",
        "                      colonial.n.01 --                                   a resident of a colony \n",
        "                       product.n.02 --  an artifact that has been created by someone or some process \n",
        "                         penny.n.02 --  a coin worth one-hundredth of the value of the basic unit \n",
        "                      economic.a.01 --  of or relating to an economy, the system of production and management of material wealth \n",
        "                       company.n.01 --               an institution created to conduct business \n",
        "                    capitalist.n.02 --  a person who invests capital in a business (especially a large business) \n",
        "                      monopoly.n.01 --  (economics) a market in which there are many buyers but only one seller \n",
        "                         large.a.01 --  above average in size or number or quantity or magnitude or extent \n",
        "                          area.n.01 --  a particular geographical region of indefinite boundary (usually serving some special purpose or distinguished by its people or culture or geography) \n",
        "                        policy.n.01 --  a plan of action adopted by an individual or social group \n",
        "                         power.n.01 --                      possession of controlling influence \n",
        "                         trust.v.01 --                              have confidence or faith in \n",
        "                        worker.n.01 --              a person who works at a specific occupation \n",
        "                   imperialist.n.01 --                                a believer in imperialism \n",
        "================================================================================\n",
        "Lenin: MATERIALISM and EMPIRIO-CRITICISM\n",
        "physics"
       ]
      },
      {
       "output_type": "stream",
       "stream": "stdout",
       "text": [
        "\n",
        "social\n",
        "avenarius\n",
        "space\n",
        "time\n",
        "dietzgen\n",
        "berkeley\n",
        "truth\n",
        "rey\n",
        "objective\n",
        "sensation\n",
        "experience\n",
        "pp\n",
        "engels\n",
        "motion\n",
        "marx\n",
        "book\n",
        "works\n",
        "vol\n",
        "general\n",
        "                       physics.n.01 --  the science of matter and energy and their interactions "
       ]
      },
      {
       "output_type": "stream",
       "stream": "stdout",
       "text": [
        "\n",
        "                      sociable.n.01 --  a party of people assembled to promote sociability and communal activity \n",
        "                         space.n.02 --  an empty area (usually bounded in some way between things) \n",
        "                          time.n.05 --  the continuum of experience in which events pass from the future through the present to the past \n",
        "                      berkeley.n.01 --  Irish philosopher and Anglican bishop who opposed the materialism of Thomas Hobbes (1685-1753) \n",
        "                         truth.n.03 --                                         a true statement \n",
        "                           aim.n.02 --  the goal intended to be attained (and which is believed to be attainable) \n",
        "                     sensation.n.01 --      an unelaborated elementary awareness of stimulation \n",
        "                          feel.v.01 --  undergo an emotional sensation or be in a particular state of mind \n",
        "                        engels.n.01 --  socialist who wrote the Communist Manifesto with Karl Marx in 1848 (1820-1895) \n",
        "                        motion.n.03 --  a change of position that does not entail a change of location \n",
        "                          marx.n.03 --  United States comedian; one of four brothers who made motion pictures together (1891-1961) \n",
        "                          book.n.01 --  a written work or composition that has been published (printed on pages bound together) \n",
        "                          work.v.01 --  exert oneself by doing mental or physical work for a purpose or out of necessity \n",
        "                       general.n.01 --                    a general officer of the highest rank \n",
        "                         state.v.01 --                                         express in words \n",
        "                     helmholtz.n.01 --            German physiologist and physicist (1821-1894) \n",
        "                     necessity.n.02 --                                   anything indispensable \n",
        "                           law.n.04 --  a generalization that describes recurring facts or events in nature \n",
        "                     sensation.n.01 --      an unelaborated elementary awareness of stimulation \n",
        "================================================================================\n",
        "Lenin: What Is To Be Done?\n",
        "local"
       ]
      },
      {
       "output_type": "stream",
       "stream": "stdout",
       "text": [
        "\n",
        "organisation\n",
        "abroad\n",
        "union\n",
        "criticism\n",
        "economic\n",
        "political\n",
        "revolutionaries\n",
        "freedom\n",
        "newspapers\n",
        "workers\n",
        "nadezhdin\n",
        "consciousness\n",
        "newspaper\n",
        "bourgeois\n",
        "masses\n",
        "martynov\n",
        "would\n",
        "movement\n",
        "german\n",
        "              local_anesthetic.n.01 --      anesthetic that numbs a particular area of the body "
       ]
      },
      {
       "output_type": "stream",
       "stream": "stdout",
       "text": [
        "\n",
        "                  organization.n.01 --                      a group of people who work together \n",
        "                        afield.r.01 --           far away from home or one's usual surroundings \n",
        "                      marriage.n.01 --  the state of being a married couple voluntarily joined for life (or until divorce) \n",
        "                     criticism.n.03 --             a written evaluation of a work of literature \n",
        "                      economic.a.01 --  of or relating to an economy, the system of production and management of material wealth \n",
        "                     political.a.02 --  of or relating to your views about social relationships involving authority or power \n",
        "                 revolutionist.n.01 --    a radical supporter of political or social revolution \n",
        "                       freedom.n.01 --  the condition of being free; the power to act or speak or think without externally imposed restraints \n",
        "                     newspaper.n.01 --  a daily or weekly publication on folded sheets; contains news and articles and advertisements \n",
        "                        worker.n.01 --              a person who works at a specific occupation \n",
        "                 consciousness.n.01 --  an alert cognitive state in which you are aware of yourself and your situation \n",
        "                     newspaper.n.01 --  a daily or weekly publication on folded sheets; contains news and articles and advertisements \n",
        "                businessperson.n.01 --  a capitalist who engages in industrial commercial enterprise \n",
        "                          mass.n.01 --  the property of a body that causes it to have weight in a gravitational field \n",
        "                        motion.n.03 --  a change of position that does not entail a change of location \n",
        "                        german.n.02 --  the standard German language; developed historically from West Germanic \n",
        "                    government.n.01 --  the organization that is the governing authority of a political unit \n",
        "         political_orientation.n.01 --  an orientation that characterizes the thinking of a group or nation \n",
        "                         party.n.01 --                  an organization to gain political power \n",
        "================================================================================\n",
        "Lenin: The Agrarian Programme of Social-Democracy in the First Russian Revolution, 1905-1907\n",
        "rent"
       ]
      },
      {
       "output_type": "stream",
       "stream": "stdout",
       "text": [
        "\n",
        "dessiatins\n",
        "000\n",
        "land\n",
        "maslov\n",
        "peasants\n",
        "capital\n",
        "revolution\n",
        "marx\n",
        "people\n",
        "nationalisation\n",
        "plekhanov\n",
        "restoration\n",
        "right\n",
        "latifundia\n",
        "private\n",
        "farming\n",
        "free\n",
        "central\n",
        "lands\n",
        "                          rent.n.01 --  a payment or series of payments made by the lessee to an owner for use of some property, facility, equipment, or service "
       ]
      },
      {
       "output_type": "stream",
       "stream": "stdout",
       "text": [
        "\n",
        "                          land.n.04 --                    the solid part of the earth's surface \n",
        "                       peasant.n.01 --                                         a country person \n",
        "                       capital.n.01 --  assets available for use in the production of further assets \n",
        "                    revolution.n.01 --  a drastic and far-reaching change in ways of thinking and behaving \n",
        "                          marx.n.01 --  United States comedian; one of four brothers who made motion pictures together (1901-1979) \n",
        "                        people.n.01 --  (plural) any group of human beings (men or women or children) collectively \n",
        "               nationalization.n.03 --  changing something from private to state ownership or control \n",
        "                   restoration.n.02 --  the act of restoring something or someone to a satisfactory state \n",
        "                         right.n.01 --  an abstract idea of that which is due to a person or governmental body by law or tradition or nature; it is something that nobody can take away\" \n",
        "                       private.n.01 --  an enlisted man of the lowest rank in the Army or Marines \n",
        "                       farming.n.01 --    the practice of cultivating the land or raising stock \n",
        "                          free.v.06 --                          free from obligations or duties \n",
        "                       central.n.01 --  a workplace that serves as a telecommunications facility where lines from telephones can be connected together to permit communication \n",
        "                          land.n.04 --                    the solid part of the earth's surface \n",
        "                    capitalism.n.01 --  an economic system based on private ownership of capital \n",
        "                     democracy.n.02 --  a political system in which the supreme power lies in a body of citizens who can elect people to represent them \n",
        "                      landlord.n.01 --                         a landowner who leases to others \n",
        "                       farming.n.01 --    the practice of cultivating the land or raising stock \n",
        "                        agency.n.01 --                     an administrative unit of government \n"
       ]
      }
     ],
     "prompt_number": 2
    },
    {
     "cell_type": "code",
     "collapsed": false,
     "input": [],
     "language": "python",
     "metadata": {},
     "outputs": []
    }
   ],
   "metadata": {}
  }
 ]
}