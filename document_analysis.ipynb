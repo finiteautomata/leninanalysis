{
 "metadata": {
  "name": ""
 },
 "nbformat": 3,
 "nbformat_minor": 0,
 "worksheets": [
  {
   "cells": [
    {
     "cell_type": "raw",
     "metadata": {},
     "source": [
      "Now, create Document Analyzer"
     ]
    },
    {
     "cell_type": "code",
     "collapsed": false,
     "input": [
      "from interpreter import *\n",
      "from analyzers import similarity\n",
      "from analyzers.document_analyzer import DocumentAnalyzer\n",
      "import string\n",
      "\n",
      "synsets = [\n",
      "           \"war.n.01\",\n",
      "           \"capitalism.n.01\",\n",
      "           \"theory.n.01\",\n",
      "           \"toilet.n.04\",\n",
      "           \"imperialism.n.02\",\n",
      "           \"proletarian.n.01\",\n",
      "           \"practice.n.03\",\n",
      "           \"revolution.n.01\",\n",
      "           \"money.n.01\",\n",
      "           \"philosophy.n.02\",\n",
      "           \"idealism.n.01\",\n",
      "           \"strategy.n.02\",\n",
      "           \"materialism.n.02\",\n",
      "           \"lion.n.01\",\n",
      "           \"television_receiver.n.01\",\n",
      "           \"hair.n.01\",\n",
      "           \"sugar.n.01\",\n",
      "           \"car.n.01\"\n",
      "           ]\n",
      "\n",
      "\n",
      "\n",
      "analyzers = [DocumentAnalyzer(synsets=synsets, similarity_function=sim_fun) \n",
      "             for sim_fun in similarity.functions]\n",
      "\n",
      "def print_analysis(doc, analyzer):\n",
      "    analysis = analyzer.analyze_document(doc)\n",
      "    sorted_words = sorted(analysis.iteritems(), key= lambda(word, similarity): similarity, reverse=True)\n",
      "    print(\"=\" * 30)\n",
      "    print analyzer.name\n",
      "    for word, similarity in sorted_words:\n",
      "        print \"%s %s\" % (string.rjust(word,25), string.rjust(str(similarity), 10))\n",
      "        "
     ],
     "language": "python",
     "metadata": {},
     "outputs": [
      {
       "ename": "TypeError",
       "evalue": "__init__() got an unexpected keyword argument 'synsets'",
       "output_type": "pyerr",
       "traceback": [
        "\u001b[1;31m---------------------------------------------------------------------------\u001b[0m\n\u001b[1;31mTypeError\u001b[0m                                 Traceback (most recent call last)",
        "\u001b[1;32m<ipython-input-1-29f304e4a708>\u001b[0m in \u001b[0;36m<module>\u001b[1;34m()\u001b[0m\n\u001b[0;32m     28\u001b[0m \u001b[1;33m\u001b[0m\u001b[0m\n\u001b[0;32m     29\u001b[0m analyzers = [DocumentAnalyzer(synsets=synsets, similarity_function=sim_fun) \n\u001b[1;32m---> 30\u001b[1;33m              for sim_fun in similarity.functions]\n\u001b[0m\u001b[0;32m     31\u001b[0m \u001b[1;33m\u001b[0m\u001b[0m\n\u001b[0;32m     32\u001b[0m \u001b[1;32mdef\u001b[0m \u001b[0mprint_analysis\u001b[0m\u001b[1;33m(\u001b[0m\u001b[0mdoc\u001b[0m\u001b[1;33m,\u001b[0m \u001b[0manalyzer\u001b[0m\u001b[1;33m)\u001b[0m\u001b[1;33m:\u001b[0m\u001b[1;33m\u001b[0m\u001b[0m\n",
        "\u001b[1;31mTypeError\u001b[0m: __init__() got an unexpected keyword argument 'synsets'"
       ]
      }
     ],
     "prompt_number": 1
    },
    {
     "cell_type": "code",
     "collapsed": false,
     "input": [
      "state_and_revolution = Document.query.find({\"name\":{\"$regex\":\"State and Revolution\" }}).next()\n",
      "imperialism_capitalism = Document.query.find({\"name\":{\"$regex\":\"Imperialism.*Capitalism.*\" }}).next()\n",
      "materialism_criticism = Document.query.find({\"name\": \"Lenin: MATERIALISM and EMPIRIO-CRITICISM\"}).next()\n",
      "what_is_to_be_done = Document.query.find({\"name\": {\"$regex\": \".*What Is To Be Done.*\"}}).next()\n",
      "agrarian_programme = Document.query.find({\"name\": u'Lenin: The Agrarian Programme of Social-Democracy in the First Russian Revolution, 1905-1907'}).next()\n",
      "documents = [state_and_revolution, imperialism_capitalism, materialism_criticism, what_is_to_be_done, agrarian_programme]\n",
      "\n"
     ],
     "language": "python",
     "metadata": {},
     "outputs": [],
     "prompt_number": 2
    },
    {
     "cell_type": "raw",
     "metadata": {},
     "source": [
      "Top words for documents"
     ]
    },
    {
     "cell_type": "code",
     "collapsed": false,
     "input": [
      "for doc in documents:\n",
      "    print \"*****************\"\n",
      "    print doc.name\n",
      "    print \"*****************\"\n",
      "    for index, word in enumerate(doc.top_words(),1):\n",
      "        print \"%s\" %  word[0]\n",
      "    print \"---------------\"\n",
      "    for analyzer in analyzers:\n",
      "        print_analysis(doc, analyzer)\n",
      "    "
     ],
     "language": "python",
     "metadata": {},
     "outputs": [
      {
       "output_type": "stream",
       "stream": "stdout",
       "text": [
        "*****************\n",
        "The State and Revolution\n",
        "*****************\n",
        "kautsky"
       ]
      },
      {
       "output_type": "stream",
       "stream": "stdout",
       "text": [
        "\n",
        "marx\n",
        "revolution\n",
        "works\n",
        "engels\n",
        "society\n",
        "power\n",
        "party\n",
        "social\n",
        "experience\n",
        "bernstein\n",
        "question\n",
        "equality\n",
        "phase\n",
        "1917\n",
        "commune\n",
        "one\n",
        "republic\n",
        "class\n",
        "law\n",
        "---------------\n",
        "==============================\n",
        "path_similarity\n",
        "None\n",
        "               revolution        1.0\n",
        "               philosophy        0.5\n",
        "                   theory 0.333333333333\n",
        "                   worker 0.333333333333\n",
        "              imperialism       0.25\n",
        "                      war       0.25\n",
        "                 idealism        0.2\n",
        "                   praxis        0.2\n",
        "                 toilette 0.166666666667\n",
        "                     hair 0.166666666667\n",
        "                 strategy 0.166666666667\n",
        "                     lion 0.166666666667\n",
        "                   tactic 0.166666666667\n",
        "              materialism 0.166666666667\n",
        "                    money 0.142857142857\n",
        "                      car 0.142857142857\n",
        "               capitalism 0.142857142857\n",
        "               television      0.125\n",
        "                    sugar      0.125\n",
        "==============================\n",
        "lch_similarity\n",
        "None\n",
        "               revolution 3.63758615973\n",
        "               philosophy 2.94443897917\n",
        "                   theory 2.53897387106\n",
        "                   worker 2.53897387106\n",
        "              imperialism 2.25129179861\n",
        "                      war 2.25129179861\n",
        "                 idealism 2.02814824729\n",
        "                   praxis 2.02814824729\n",
        "                 toilette 1.8458266905\n",
        "                     hair 1.8458266905\n",
        "                 strategy 1.8458266905\n",
        "                     lion 1.8458266905\n",
        "                   tactic 1.8458266905\n",
        "              materialism 1.8458266905\n",
        "                    money 1.69167601067\n",
        "                      car 1.69167601067\n",
        "               capitalism 1.69167601067\n",
        "               television 1.55814461805\n",
        "                    sugar 1.55814461805\n",
        "==============================\n",
        "lin_similarity\n",
        "None\n",
        "               revolution        1.0\n",
        "               philosophy 0.976848075428\n",
        "                   theory 0.63963433141\n",
        "                 strategy 0.55722227875\n",
        "                      car 0.500831005388\n",
        "                      war 0.490875072994\n",
        "                   tactic 0.478058857594\n",
        "                 idealism 0.4183893913\n",
        "                    money 0.381214020012\n",
        "                   worker 0.373391259809\n",
        "              materialism 0.349363567448\n",
        "                     hair 0.348681159971\n",
        "               television 0.334132625785\n",
        "                    sugar 0.333570829194\n",
        "                 toilette 0.318321536281\n",
        "               capitalism 0.317825134317\n",
        "              imperialism 0.287201915311\n",
        "                   praxis 0.26395984401\n",
        "                     lion 0.241343504896\n",
        "==============================\n",
        "jcn_similarity\n",
        "None\n",
        "               revolution     1e+300\n",
        "               philosophy 2.54425354975\n",
        "                   theory 0.204126843361\n",
        "                 strategy 0.15327640284\n",
        "                   worker 0.130526548804\n",
        "                      car 0.126066503581\n",
        "                    money 0.114463788126\n",
        "                   tactic 0.114382424618\n",
        "                      war 0.106563401763\n",
        "                     hair 0.0994659778911\n",
        "                    sugar 0.0929980369243\n",
        "                 idealism 0.0907253212743\n",
        "                   praxis 0.0890575424118\n",
        "              materialism 0.082699934766\n",
        "               capitalism 0.0815852680019\n",
        "               television 0.0791521116976\n",
        "                 toilette 0.075141999107\n",
        "              imperialism 0.0749362801747\n",
        "                     lion 0.0696821577951\n",
        "==============================\n",
        "res_similarity\n",
        "None\n",
        "               revolution 10.3880624692\n",
        "               philosophy 8.29181380916\n",
        "                 strategy 5.58877614988\n",
        "                      war 4.52385364841\n",
        "                   theory 4.34768669983\n",
        "                   tactic 4.00378311412\n",
        "                      car 3.9793661552\n",
        "                 idealism 3.96451288798\n",
        "              materialism 3.29228159341\n",
        "               television 3.25767902589\n",
        "                 toilette 3.14352023311\n",
        "              imperialism 3.14352023311\n",
        "               capitalism 2.85529368615\n",
        "                    money 2.69110280536\n",
        "                    sugar 2.69110280536\n",
        "                     hair 2.69110280536\n",
        "                   worker 2.33354524374\n",
        "                     lion 2.33354524374\n",
        "                   praxis 2.33223775508\n",
        "*****************\n",
        "Lenin: Imperialism, the Highest Stage of Capitalism\n",
        "*****************\n",
        "enterprises"
       ]
      },
      {
       "output_type": "stream",
       "stream": "stdout",
       "text": [
        "\n",
        "bank\n",
        "imperialism\n",
        "world\n",
        "million\n",
        "colonies\n",
        "kautsky\n",
        "colonial\n",
        "production\n",
        "cent\n",
        "economic\n",
        "company\n",
        "capitalist\n",
        "monopoly\n",
        "big\n",
        "countries\n",
        "policy\n",
        "powers\n",
        "000\n",
        "banks\n",
        "---------------\n",
        "==============================\n",
        "path_similarity\n",
        "None\n",
        "              imperialism        1.0\n",
        "                   worker 0.333333333333\n",
        "                 strategy 0.333333333333\n",
        "                   tactic 0.333333333333\n",
        "               revolution       0.25\n",
        "                   praxis       0.25\n",
        "                     hair       0.25\n",
        "                      car       0.25\n",
        "                      war       0.25\n",
        "                 idealism        0.2\n",
        "                   theory        0.2\n",
        "                    money        0.2\n",
        "               philosophy        0.2\n",
        "                     lion 0.166666666667\n",
        "               capitalism 0.166666666667\n",
        "               television 0.142857142857\n",
        "                 toilette 0.142857142857\n",
        "                    sugar 0.142857142857\n",
        "              materialism 0.142857142857\n",
        "==============================\n",
        "lch_similarity\n",
        "None\n",
        "              imperialism 3.63758615973\n",
        "                   worker 2.53897387106\n",
        "                 strategy 2.53897387106\n",
        "                   tactic 2.53897387106\n",
        "               revolution 2.25129179861\n",
        "                   praxis 2.25129179861\n",
        "                     hair 2.25129179861\n",
        "                      car 2.25129179861\n",
        "                      war 2.25129179861\n",
        "                 idealism 2.02814824729\n",
        "                   theory 2.02814824729\n",
        "                    money 2.02814824729\n",
        "               philosophy 2.02814824729\n",
        "                     lion 1.8458266905\n",
        "               capitalism 1.8458266905\n",
        "               television 1.69167601067\n",
        "                 toilette 1.69167601067\n",
        "                    sugar 1.69167601067\n",
        "              materialism 1.69167601067\n",
        "==============================\n",
        "lin_similarity\n",
        "None\n",
        "              imperialism        1.0\n",
        "                 strategy 0.775971767285\n",
        "                      war 0.764863896593\n",
        "                    money 0.733969426851\n",
        "                   tactic 0.686922127303\n",
        "                   theory 0.673087888911\n",
        "                    sugar 0.656318885691\n",
        "                     hair 0.646495819603\n",
        "                   worker 0.633105027455\n",
        "                     lion 0.616573220457\n",
        "                      car 0.599529711525\n",
        "               revolution 0.495856539959\n",
        "               philosophy 0.424292293525\n",
        "              materialism 0.418698259087\n",
        "                 idealism 0.4183893913\n",
        "               television 0.33114059664\n",
        "                 toilette 0.324686891115\n",
        "               capitalism 0.318309463186\n",
        "                   praxis 0.269873184363\n",
        "==============================\n",
        "jcn_similarity\n",
        "None\n",
        "              imperialism     1e+300\n",
        "                 strategy 0.260839969111\n",
        "                      war 0.260293814963\n",
        "                    money 0.220543285308\n",
        "                     hair 0.185089245333\n",
        "                   theory 0.181275716945\n",
        "                   worker 0.174441120338\n",
        "                   tactic 0.165228935415\n",
        "                    sugar 0.152653460382\n",
        "                     lion 0.148512052197\n",
        "                      car 0.143793273094\n",
        "               philosophy 0.136679382864\n",
        "               revolution 0.108708465563\n",
        "               television 0.0930731185513\n",
        "                 idealism 0.0907253212743\n",
        "                   praxis 0.0890575424118\n",
        "              materialism 0.0850428410869\n",
        "               capitalism 0.0817676477438\n",
        "                 toilette 0.0764739141189\n",
        "==============================\n",
        "res_similarity\n",
        "None\n",
        "              imperialism 13.7724527325\n",
        "                 strategy 6.63955589954\n",
        "                   tactic 6.63955589954\n",
        "                    money 6.44500076317\n",
        "                    sugar 6.2549318819\n",
        "                      war 6.2484313173\n",
        "                   theory 5.678990458\n",
        "                     lion 5.41390363453\n",
        "                      car 5.2056126012\n",
        "                     hair 5.19125241111\n",
        "                   worker 4.94601169072\n",
        "               revolution 4.52385364841\n",
        "              materialism 4.2347889903\n",
        "                 idealism 3.96451288798\n",
        "               philosophy 3.29228159341\n",
        "               television 3.25767902589\n",
        "                 toilette 3.14352023311\n",
        "               capitalism 2.85529368615\n",
        "                   praxis 2.33223775508\n",
        "*****************\n",
        "Lenin: MATERIALISM and EMPIRIO-CRITICISM\n",
        "*****************\n",
        "physics"
       ]
      },
      {
       "output_type": "stream",
       "stream": "stdout",
       "text": [
        "\n",
        "social\n",
        "avenarius\n",
        "space\n",
        "time\n",
        "dietzgen\n",
        "berkeley\n",
        "truth\n",
        "rey\n",
        "objective\n",
        "sensation\n",
        "experience\n",
        "pp\n",
        "engels\n",
        "motion\n",
        "marx\n",
        "book\n",
        "works\n",
        "vol\n",
        "general\n",
        "---------------\n",
        "==============================\n",
        "path_similarity\n",
        "None\n",
        "               revolution 0.333333333333\n",
        "                   theory       0.25\n",
        "               philosophy       0.25\n",
        "                   worker       0.25\n",
        "              imperialism       0.25\n",
        "                      war       0.25\n",
        "                 idealism        0.2\n",
        "                   praxis        0.2\n",
        "                 toilette 0.166666666667\n",
        "                     hair 0.166666666667\n",
        "                 strategy 0.166666666667\n",
        "                   tactic 0.166666666667\n",
        "              materialism 0.166666666667\n",
        "                    money 0.142857142857\n",
        "                     lion 0.142857142857\n",
        "                      car 0.142857142857\n",
        "               capitalism 0.142857142857\n",
        "               television      0.125\n",
        "                    sugar      0.125\n",
        "motion"
       ]
      },
      {
       "output_type": "stream",
       "stream": "stdout",
       "text": [
        "\n",
        "book"
       ]
      },
      {
       "output_type": "stream",
       "stream": "stdout",
       "text": [
        "\n",
        "experience"
       ]
      },
      {
       "output_type": "stream",
       "stream": "stdout",
       "text": [
        "\n",
        "works"
       ]
      },
      {
       "output_type": "stream",
       "stream": "stdout",
       "text": [
        "\n",
        "works"
       ]
      },
      {
       "output_type": "stream",
       "stream": "stdout",
       "text": [
        "\n",
        "sensation"
       ]
      },
      {
       "output_type": "stream",
       "stream": "stdout",
       "text": [
        "\n",
        "works"
       ]
      },
      {
       "output_type": "stream",
       "stream": "stdout",
       "text": [
        "\n",
        "motion"
       ]
      },
      {
       "output_type": "stream",
       "stream": "stdout",
       "text": [
        "\n",
        "space"
       ]
      },
      {
       "output_type": "stream",
       "stream": "stdout",
       "text": [
        "\n",
        "experience"
       ]
      },
      {
       "output_type": "stream",
       "stream": "stdout",
       "text": [
        "\n",
        "truth"
       ]
      },
      {
       "output_type": "stream",
       "stream": "stdout",
       "text": [
        "\n",
        "physics"
       ]
      },
      {
       "output_type": "stream",
       "stream": "stdout",
       "text": [
        "\n",
        "sensation"
       ]
      },
      {
       "output_type": "stream",
       "stream": "stdout",
       "text": [
        "\n",
        "sensation"
       ]
      },
      {
       "output_type": "stream",
       "stream": "stdout",
       "text": [
        "\n",
        "works"
       ]
      },
      {
       "output_type": "stream",
       "stream": "stdout",
       "text": [
        "\n",
        "space"
       ]
      },
      {
       "output_type": "stream",
       "stream": "stdout",
       "text": [
        "\n",
        "space"
       ]
      },
      {
       "output_type": "stream",
       "stream": "stdout",
       "text": [
        "\n",
        "experience"
       ]
      },
      {
       "output_type": "stream",
       "stream": "stdout",
       "text": [
        "\n",
        "works"
       ]
      },
      {
       "output_type": "stream",
       "stream": "stdout",
       "text": [
        "\n",
        "==============================\n",
        "lch_similarity\n",
        "None\n",
        "               revolution 2.53897387106\n",
        "                   theory 2.25129179861\n",
        "               philosophy 2.25129179861\n",
        "                   worker 2.25129179861\n",
        "              imperialism 2.25129179861\n",
        "                      war 2.25129179861\n",
        "                 idealism 2.02814824729\n",
        "                   praxis 2.02814824729\n",
        "              materialism 1.8458266905\n",
        "                 toilette 1.8458266905\n",
        "                     hair 1.8458266905\n",
        "                   tactic 1.8458266905\n",
        "                 strategy 1.8458266905\n",
        "                    money 1.69167601067\n",
        "               capitalism 1.69167601067\n",
        "                     lion 1.69167601067\n",
        "                      car 1.69167601067\n",
        "               television 1.55814461805\n",
        "                    sugar 1.55814461805\n",
        "motion"
       ]
      },
      {
       "output_type": "stream",
       "stream": "stdout",
       "text": [
        "\n",
        "social"
       ]
      },
      {
       "output_type": "stream",
       "stream": "stdout",
       "text": [
        "\n",
        "sensation"
       ]
      },
      {
       "output_type": "stream",
       "stream": "stdout",
       "text": [
        "\n",
        "works"
       ]
      },
      {
       "output_type": "stream",
       "stream": "stdout",
       "text": [
        "\n",
        "sensation"
       ]
      },
      {
       "output_type": "stream",
       "stream": "stdout",
       "text": [
        "\n",
        "general"
       ]
      },
      {
       "output_type": "stream",
       "stream": "stdout",
       "text": [
        "\n",
        "motion"
       ]
      },
      {
       "output_type": "stream",
       "stream": "stdout",
       "text": [
        "\n",
        "motion"
       ]
      },
      {
       "output_type": "stream",
       "stream": "stdout",
       "text": [
        "\n",
        "time"
       ]
      },
      {
       "output_type": "stream",
       "stream": "stdout",
       "text": [
        "\n",
        "physics"
       ]
      },
      {
       "output_type": "stream",
       "stream": "stdout",
       "text": [
        "\n",
        "truth"
       ]
      },
      {
       "output_type": "stream",
       "stream": "stdout",
       "text": [
        "\n",
        "physics"
       ]
      },
      {
       "output_type": "stream",
       "stream": "stdout",
       "text": [
        "\n",
        "sensation"
       ]
      },
      {
       "output_type": "stream",
       "stream": "stdout",
       "text": [
        "\n",
        "general"
       ]
      },
      {
       "output_type": "stream",
       "stream": "stdout",
       "text": [
        "\n",
        "objective"
       ]
      },
      {
       "output_type": "stream",
       "stream": "stdout",
       "text": [
        "\n",
        "time"
       ]
      },
      {
       "output_type": "stream",
       "stream": "stdout",
       "text": [
        "\n",
        "time"
       ]
      },
      {
       "output_type": "stream",
       "stream": "stdout",
       "text": [
        "\n",
        "experience"
       ]
      },
      {
       "output_type": "stream",
       "stream": "stdout",
       "text": [
        "\n",
        "works"
       ]
      },
      {
       "output_type": "stream",
       "stream": "stdout",
       "text": [
        "\n",
        "==============================\n",
        "lin_similarity\n",
        "None\n",
        "               revolution 0.846344857059\n",
        "                   worker 0.768622832845\n",
        "              materialism 0.730658448491\n",
        "               philosophy 0.619941000616\n",
        "                 strategy 0.529421413479\n",
        "                   theory 0.529419405948\n",
        "                      car 0.500831005388\n",
        "              imperialism 0.418051621192\n",
        "                   tactic 0.38139307047\n",
        "                    money 0.378850360998\n",
        "                 idealism 0.366597369636\n",
        "                      war 0.357541539443\n",
        "                     hair 0.346702669684\n",
        "               television 0.334263985379\n",
        "                    sugar 0.331759656376\n",
        "                   praxis 0.319651726399\n",
        "                 toilette 0.296346253722\n",
        "               capitalism 0.27940619133\n",
        "                     lion 0.253021358544\n",
        "motion"
       ]
      },
      {
       "output_type": "stream",
       "stream": "stdout",
       "text": [
        "\n",
        "social"
       ]
      },
      {
       "output_type": "stream",
       "stream": "stdout",
       "text": [
        "\n",
        "experience"
       ]
      },
      {
       "output_type": "stream",
       "stream": "stdout",
       "text": [
        "\n",
        "motion"
       ]
      },
      {
       "output_type": "stream",
       "stream": "stdout",
       "text": [
        "\n",
        "sensation"
       ]
      },
      {
       "output_type": "stream",
       "stream": "stdout",
       "text": [
        "\n",
        "general"
       ]
      },
      {
       "output_type": "stream",
       "stream": "stdout",
       "text": [
        "\n",
        "motion"
       ]
      },
      {
       "output_type": "stream",
       "stream": "stdout",
       "text": [
        "\n",
        "motion"
       ]
      },
      {
       "output_type": "stream",
       "stream": "stdout",
       "text": [
        "\n",
        "time"
       ]
      },
      {
       "output_type": "stream",
       "stream": "stdout",
       "text": [
        "\n",
        "physics"
       ]
      },
      {
       "output_type": "stream",
       "stream": "stdout",
       "text": [
        "\n",
        "time"
       ]
      },
      {
       "output_type": "stream",
       "stream": "stdout",
       "text": [
        "\n",
        "experience"
       ]
      },
      {
       "output_type": "stream",
       "stream": "stdout",
       "text": [
        "\n",
        "sensation"
       ]
      },
      {
       "output_type": "stream",
       "stream": "stdout",
       "text": [
        "\n",
        "general"
       ]
      },
      {
       "output_type": "stream",
       "stream": "stdout",
       "text": [
        "\n",
        "works"
       ]
      },
      {
       "output_type": "stream",
       "stream": "stdout",
       "text": [
        "\n",
        "time"
       ]
      },
      {
       "output_type": "stream",
       "stream": "stdout",
       "text": [
        "\n",
        "time"
       ]
      },
      {
       "output_type": "stream",
       "stream": "stdout",
       "text": [
        "\n",
        "experience"
       ]
      },
      {
       "output_type": "stream",
       "stream": "stdout",
       "text": [
        "\n",
        "works"
       ]
      },
      {
       "output_type": "stream",
       "stream": "stdout",
       "text": [
        "\n",
        "==============================\n",
        "jcn_similarity\n",
        "None\n",
        "               revolution 0.476768518671\n",
        "                   worker 0.36764255676\n",
        "              materialism 0.155672530009\n",
        "               philosophy 0.145932703696\n",
        "                   theory 0.132906906802\n",
        "                      car 0.126066503581\n",
        "                 strategy 0.118182313355\n",
        "                      war 0.116614732958\n",
        "                    money 0.113321204917\n",
        "                   praxis 0.100726315955\n",
        "                     hair 0.0986020666724\n",
        "                   tactic 0.0936334548049\n",
        "                    sugar 0.0922424004436\n",
        "                 toilette 0.0832824361253\n",
        "              imperialism 0.0819145755973\n",
        "               television 0.0791521116976\n",
        "                 idealism 0.0741014163821\n",
        "                     lion 0.0725776292581\n",
        "               capitalism 0.0678992095349\n",
        "works"
       ]
      },
      {
       "output_type": "stream",
       "stream": "stdout",
       "text": [
        "\n",
        "social"
       ]
      },
      {
       "output_type": "stream",
       "stream": "stdout",
       "text": [
        "\n",
        "sensation"
       ]
      },
      {
       "output_type": "stream",
       "stream": "stdout",
       "text": [
        "\n",
        "works"
       ]
      },
      {
       "output_type": "stream",
       "stream": "stdout",
       "text": [
        "\n",
        "sensation"
       ]
      },
      {
       "output_type": "stream",
       "stream": "stdout",
       "text": [
        "\n",
        "general"
       ]
      },
      {
       "output_type": "stream",
       "stream": "stdout",
       "text": [
        "\n",
        "motion"
       ]
      },
      {
       "output_type": "stream",
       "stream": "stdout",
       "text": [
        "\n",
        "motion"
       ]
      },
      {
       "output_type": "stream",
       "stream": "stdout",
       "text": [
        "\n",
        "space"
       ]
      },
      {
       "output_type": "stream",
       "stream": "stdout",
       "text": [
        "\n",
        "physics"
       ]
      },
      {
       "output_type": "stream",
       "stream": "stdout",
       "text": [
        "\n",
        "truth"
       ]
      },
      {
       "output_type": "stream",
       "stream": "stdout",
       "text": [
        "\n",
        "physics"
       ]
      },
      {
       "output_type": "stream",
       "stream": "stdout",
       "text": [
        "\n",
        "sensation"
       ]
      },
      {
       "output_type": "stream",
       "stream": "stdout",
       "text": [
        "\n",
        "sensation"
       ]
      },
      {
       "output_type": "stream",
       "stream": "stdout",
       "text": [
        "\n",
        "objective"
       ]
      },
      {
       "output_type": "stream",
       "stream": "stdout",
       "text": [
        "\n",
        "space"
       ]
      },
      {
       "output_type": "stream",
       "stream": "stdout",
       "text": [
        "\n",
        "space"
       ]
      },
      {
       "output_type": "stream",
       "stream": "stdout",
       "text": [
        "\n",
        "physics"
       ]
      },
      {
       "output_type": "stream",
       "stream": "stdout",
       "text": [
        "\n",
        "works"
       ]
      },
      {
       "output_type": "stream",
       "stream": "stdout",
       "text": [
        "\n",
        "==============================\n",
        "res_similarity\n",
        "None\n",
        "              materialism 8.71302727424\n",
        "               revolution 5.77647225774\n",
        "               philosophy 5.58877614988\n",
        "                 strategy 5.58877614988\n",
        "                   worker 4.51790410586\n",
        "                   theory 4.38484522248\n",
        "              imperialism 4.38484522248\n",
        "                      car 3.9793661552\n",
        "                 idealism 3.96451288798\n",
        "                   tactic 3.29228159341\n",
        "               television 3.25767902589\n",
        "                 toilette 3.14352023311\n",
        "                      war 3.14352023311\n",
        "               capitalism 2.85529368615\n",
        "                    sugar 2.69110280536\n",
        "                    money 2.69110280536\n",
        "                     hair 2.69110280536\n",
        "                     lion 2.33354524374\n",
        "                   praxis 2.33223775508\n",
        "*****************\n",
        "Lenin: What Is To Be Done?\n",
        "*****************\n",
        "local"
       ]
      },
      {
       "output_type": "stream",
       "stream": "stdout",
       "text": [
        "\n",
        "organisation\n",
        "abroad\n",
        "union\n",
        "criticism\n",
        "economic\n",
        "political\n",
        "revolutionaries\n",
        "freedom\n",
        "newspapers\n",
        "workers\n",
        "nadezhdin\n",
        "consciousness\n",
        "newspaper\n",
        "bourgeois\n",
        "masses\n",
        "martynov\n",
        "would\n",
        "movement\n",
        "german\n",
        "---------------\n",
        "movement"
       ]
      },
      {
       "output_type": "stream",
       "stream": "stdout",
       "text": [
        "\n",
        "masses"
       ]
      },
      {
       "output_type": "stream",
       "stream": "stdout",
       "text": [
        "\n",
        "organisation"
       ]
      },
      {
       "output_type": "stream",
       "stream": "stdout",
       "text": [
        "\n",
        "organisation"
       ]
      },
      {
       "output_type": "stream",
       "stream": "stdout",
       "text": [
        "\n",
        "organisation"
       ]
      },
      {
       "output_type": "stream",
       "stream": "stdout",
       "text": [
        "\n",
        "workers"
       ]
      },
      {
       "output_type": "stream",
       "stream": "stdout",
       "text": [
        "\n",
        "organisation"
       ]
      },
      {
       "output_type": "stream",
       "stream": "stdout",
       "text": [
        "\n",
        "movement"
       ]
      },
      {
       "output_type": "stream",
       "stream": "stdout",
       "text": [
        "\n",
        "masses"
       ]
      },
      {
       "output_type": "stream",
       "stream": "stdout",
       "text": [
        "\n",
        "organisation"
       ]
      },
      {
       "output_type": "stream",
       "stream": "stdout",
       "text": [
        "\n",
        "organisation"
       ]
      },
      {
       "output_type": "stream",
       "stream": "stdout",
       "text": [
        "\n",
        "organisation"
       ]
      },
      {
       "output_type": "stream",
       "stream": "stdout",
       "text": [
        "\n",
        "union"
       ]
      },
      {
       "output_type": "stream",
       "stream": "stdout",
       "text": [
        "\n",
        "workers"
       ]
      },
      {
       "output_type": "stream",
       "stream": "stdout",
       "text": [
        "\n",
        "newspapers"
       ]
      },
      {
       "output_type": "stream",
       "stream": "stdout",
       "text": [
        "\n",
        "newspapers"
       ]
      },
      {
       "output_type": "stream",
       "stream": "stdout",
       "text": [
        "\n",
        "newspapers"
       ]
      },
      {
       "output_type": "stream",
       "stream": "stdout",
       "text": [
        "\n",
        "organisation"
       ]
      },
      {
       "output_type": "stream",
       "stream": "stdout",
       "text": [
        "\n",
        "local"
       ]
      },
      {
       "output_type": "stream",
       "stream": "stdout",
       "text": [
        "\n",
        "==============================\n",
        "path_similarity\n",
        "None\n",
        "                   worker        1.0\n",
        "                      war        0.5\n",
        "               revolution 0.333333333333\n",
        "              imperialism       0.25\n",
        "                   praxis        0.2\n",
        "                   theory 0.166666666667\n",
        "               philosophy 0.166666666667\n",
        "                 toilette 0.166666666667\n",
        "               capitalism 0.166666666667\n",
        "                     hair 0.166666666667\n",
        "                     lion 0.166666666667\n",
        "                      car 0.166666666667\n",
        "                 idealism 0.142857142857\n",
        "               television 0.142857142857\n",
        "              materialism 0.142857142857\n",
        "                    sugar      0.125\n",
        "                    money      0.125\n",
        "                   tactic      0.125\n",
        "                 strategy      0.125\n",
        "movement"
       ]
      },
      {
       "output_type": "stream",
       "stream": "stdout",
       "text": [
        "\n",
        "masses"
       ]
      },
      {
       "output_type": "stream",
       "stream": "stdout",
       "text": [
        "\n",
        "organisation"
       ]
      },
      {
       "output_type": "stream",
       "stream": "stdout",
       "text": [
        "\n",
        "organisation"
       ]
      },
      {
       "output_type": "stream",
       "stream": "stdout",
       "text": [
        "\n",
        "organisation"
       ]
      },
      {
       "output_type": "stream",
       "stream": "stdout",
       "text": [
        "\n",
        "workers"
       ]
      },
      {
       "output_type": "stream",
       "stream": "stdout",
       "text": [
        "\n",
        "organisation"
       ]
      },
      {
       "output_type": "stream",
       "stream": "stdout",
       "text": [
        "\n",
        "movement"
       ]
      },
      {
       "output_type": "stream",
       "stream": "stdout",
       "text": [
        "\n",
        "masses"
       ]
      },
      {
       "output_type": "stream",
       "stream": "stdout",
       "text": [
        "\n",
        "organisation"
       ]
      },
      {
       "output_type": "stream",
       "stream": "stdout",
       "text": [
        "\n",
        "organisation"
       ]
      },
      {
       "output_type": "stream",
       "stream": "stdout",
       "text": [
        "\n",
        "organisation"
       ]
      },
      {
       "output_type": "stream",
       "stream": "stdout",
       "text": [
        "\n",
        "union"
       ]
      },
      {
       "output_type": "stream",
       "stream": "stdout",
       "text": [
        "\n",
        "workers"
       ]
      },
      {
       "output_type": "stream",
       "stream": "stdout",
       "text": [
        "\n",
        "newspapers"
       ]
      },
      {
       "output_type": "stream",
       "stream": "stdout",
       "text": [
        "\n",
        "newspapers"
       ]
      },
      {
       "output_type": "stream",
       "stream": "stdout",
       "text": [
        "\n",
        "newspapers"
       ]
      },
      {
       "output_type": "stream",
       "stream": "stdout",
       "text": [
        "\n",
        "organisation"
       ]
      },
      {
       "output_type": "stream",
       "stream": "stdout",
       "text": [
        "\n",
        "local"
       ]
      },
      {
       "output_type": "stream",
       "stream": "stdout",
       "text": [
        "\n",
        "==============================\n",
        "lch_similarity\n",
        "None\n",
        "                   worker 3.63758615973\n",
        "                      war 2.94443897917\n",
        "               revolution 2.53897387106\n",
        "              imperialism 2.25129179861\n",
        "                   praxis 2.02814824729\n",
        "                   theory 1.8458266905\n",
        "               philosophy 1.8458266905\n",
        "                 toilette 1.8458266905\n",
        "               capitalism 1.8458266905\n",
        "                     hair 1.8458266905\n",
        "                     lion 1.8458266905\n",
        "                      car 1.8458266905\n",
        "                 idealism 1.69167601067\n",
        "               television 1.69167601067\n",
        "              materialism 1.69167601067\n",
        "                    sugar 1.55814461805\n",
        "                    money 1.55814461805\n",
        "                   tactic 1.55814461805\n",
        "                 strategy 1.55814461805\n",
        "movement"
       ]
      },
      {
       "output_type": "stream",
       "stream": "stdout",
       "text": [
        "\n",
        "organisation"
       ]
      },
      {
       "output_type": "stream",
       "stream": "stdout",
       "text": [
        "\n",
        "consciousness"
       ]
      },
      {
       "output_type": "stream",
       "stream": "stdout",
       "text": [
        "\n",
        "movement"
       ]
      },
      {
       "output_type": "stream",
       "stream": "stdout",
       "text": [
        "\n",
        "movement"
       ]
      },
      {
       "output_type": "stream",
       "stream": "stdout",
       "text": [
        "\n",
        "workers"
       ]
      },
      {
       "output_type": "stream",
       "stream": "stdout",
       "text": [
        "\n",
        "movement"
       ]
      },
      {
       "output_type": "stream",
       "stream": "stdout",
       "text": [
        "\n",
        "movement"
       ]
      },
      {
       "output_type": "stream",
       "stream": "stdout",
       "text": [
        "\n",
        "newspapers"
       ]
      },
      {
       "output_type": "stream",
       "stream": "stdout",
       "text": [
        "\n",
        "organisation"
       ]
      },
      {
       "output_type": "stream",
       "stream": "stdout",
       "text": [
        "\n",
        "organisation"
       ]
      },
      {
       "output_type": "stream",
       "stream": "stdout",
       "text": [
        "\n",
        "organisation"
       ]
      },
      {
       "output_type": "stream",
       "stream": "stdout",
       "text": [
        "\n",
        "freedom"
       ]
      },
      {
       "output_type": "stream",
       "stream": "stdout",
       "text": [
        "\n",
        "workers"
       ]
      },
      {
       "output_type": "stream",
       "stream": "stdout",
       "text": [
        "\n",
        "newspapers"
       ]
      },
      {
       "output_type": "stream",
       "stream": "stdout",
       "text": [
        "\n",
        "newspapers"
       ]
      },
      {
       "output_type": "stream",
       "stream": "stdout",
       "text": [
        "\n",
        "local"
       ]
      },
      {
       "output_type": "stream",
       "stream": "stdout",
       "text": [
        "\n",
        "organisation"
       ]
      },
      {
       "output_type": "stream",
       "stream": "stdout",
       "text": [
        "\n",
        "local"
       ]
      },
      {
       "output_type": "stream",
       "stream": "stdout",
       "text": [
        "\n",
        "==============================\n",
        "lin_similarity\n",
        "None\n",
        "                   worker        1.0\n",
        "                      war 0.921188505255\n",
        "               revolution 0.846344857059\n",
        "               television 0.773371818173\n",
        "                      car 0.702880218461\n",
        "                   theory 0.576851690261\n",
        "              imperialism 0.53254850484\n",
        "                     lion 0.491490657562\n",
        "                    sugar 0.461833980698\n",
        "                 idealism 0.385675492032\n",
        "              materialism 0.385307569133\n",
        "               capitalism 0.366071452787\n",
        "               philosophy 0.355617535085\n",
        "                 strategy 0.344950148296\n",
        "                 toilette 0.331203589827\n",
        "                    money 0.32704732305\n",
        "                   praxis 0.319651726399\n",
        "                   tactic 0.30134909293\n",
        "                     hair 0.261537830775\n",
        "movement"
       ]
      },
      {
       "output_type": "stream",
       "stream": "stdout",
       "text": [
        "\n",
        "organisation"
       ]
      },
      {
       "output_type": "stream",
       "stream": "stdout",
       "text": [
        "\n",
        "consciousness"
       ]
      },
      {
       "output_type": "stream",
       "stream": "stdout",
       "text": [
        "\n",
        "movement"
       ]
      },
      {
       "output_type": "stream",
       "stream": "stdout",
       "text": [
        "\n",
        "movement"
       ]
      },
      {
       "output_type": "stream",
       "stream": "stdout",
       "text": [
        "\n",
        "workers"
       ]
      },
      {
       "output_type": "stream",
       "stream": "stdout",
       "text": [
        "\n",
        "movement"
       ]
      },
      {
       "output_type": "stream",
       "stream": "stdout",
       "text": [
        "\n",
        "movement"
       ]
      },
      {
       "output_type": "stream",
       "stream": "stdout",
       "text": [
        "\n",
        "organisation"
       ]
      },
      {
       "output_type": "stream",
       "stream": "stdout",
       "text": [
        "\n",
        "organisation"
       ]
      },
      {
       "output_type": "stream",
       "stream": "stdout",
       "text": [
        "\n",
        "organisation"
       ]
      },
      {
       "output_type": "stream",
       "stream": "stdout",
       "text": [
        "\n",
        "organisation"
       ]
      },
      {
       "output_type": "stream",
       "stream": "stdout",
       "text": [
        "\n",
        "freedom"
       ]
      },
      {
       "output_type": "stream",
       "stream": "stdout",
       "text": [
        "\n",
        "workers"
       ]
      },
      {
       "output_type": "stream",
       "stream": "stdout",
       "text": [
        "\n",
        "newspapers"
       ]
      },
      {
       "output_type": "stream",
       "stream": "stdout",
       "text": [
        "\n",
        "workers"
       ]
      },
      {
       "output_type": "stream",
       "stream": "stdout",
       "text": [
        "\n",
        "local"
       ]
      },
      {
       "output_type": "stream",
       "stream": "stdout",
       "text": [
        "\n",
        "organisation"
       ]
      },
      {
       "output_type": "stream",
       "stream": "stdout",
       "text": [
        "\n",
        "local"
       ]
      },
      {
       "output_type": "stream",
       "stream": "stdout",
       "text": [
        "\n",
        "==============================\n",
        "jcn_similarity\n",
        "None\n",
        "                   worker     1e+300\n",
        "                      war 0.795134431389\n",
        "               revolution 0.476768518671\n",
        "               television 0.24303000403\n",
        "                      car 0.205033607022\n",
        "                   theory 0.135687824974\n",
        "                     hair 0.107698235698\n",
        "               philosophy 0.104342794013\n",
        "               capitalism 0.101121795595\n",
        "                   praxis 0.100726315955\n",
        "                 strategy 0.0995646087532\n",
        "                     lion 0.097708241356\n",
        "              imperialism 0.0943185135905\n",
        "                    sugar 0.0929714058017\n",
        "                    money 0.0929667353193\n",
        "                 toilette 0.0832824361253\n",
        "                   tactic 0.0815516344372\n",
        "                 idealism 0.0791779714898\n",
        "              materialism 0.07400957396\n",
        "movement"
       ]
      },
      {
       "output_type": "stream",
       "stream": "stdout",
       "text": [
        "\n",
        "organisation"
       ]
      },
      {
       "output_type": "stream",
       "stream": "stdout",
       "text": [
        "\n",
        "consciousness"
       ]
      },
      {
       "output_type": "stream",
       "stream": "stdout",
       "text": [
        "\n",
        "organisation"
       ]
      },
      {
       "output_type": "stream",
       "stream": "stdout",
       "text": [
        "\n",
        "movement"
       ]
      },
      {
       "output_type": "stream",
       "stream": "stdout",
       "text": [
        "\n",
        "workers"
       ]
      },
      {
       "output_type": "stream",
       "stream": "stdout",
       "text": [
        "\n",
        "organisation"
       ]
      },
      {
       "output_type": "stream",
       "stream": "stdout",
       "text": [
        "\n",
        "movement"
       ]
      },
      {
       "output_type": "stream",
       "stream": "stdout",
       "text": [
        "\n",
        "newspapers"
       ]
      },
      {
       "output_type": "stream",
       "stream": "stdout",
       "text": [
        "\n",
        "organisation"
       ]
      },
      {
       "output_type": "stream",
       "stream": "stdout",
       "text": [
        "\n",
        "organisation"
       ]
      },
      {
       "output_type": "stream",
       "stream": "stdout",
       "text": [
        "\n",
        "organisation"
       ]
      },
      {
       "output_type": "stream",
       "stream": "stdout",
       "text": [
        "\n",
        "freedom"
       ]
      },
      {
       "output_type": "stream",
       "stream": "stdout",
       "text": [
        "\n",
        "workers"
       ]
      },
      {
       "output_type": "stream",
       "stream": "stdout",
       "text": [
        "\n",
        "newspapers"
       ]
      },
      {
       "output_type": "stream",
       "stream": "stdout",
       "text": [
        "\n",
        "local"
       ]
      },
      {
       "output_type": "stream",
       "stream": "stdout",
       "text": [
        "\n",
        "newspapers"
       ]
      },
      {
       "output_type": "stream",
       "stream": "stdout",
       "text": [
        "\n",
        "organisation"
       ]
      },
      {
       "output_type": "stream",
       "stream": "stdout",
       "text": [
        "\n",
        "local"
       ]
      },
      {
       "output_type": "stream",
       "stream": "stdout",
       "text": [
        "\n",
        "==============================\n",
        "res_similarity\n",
        "None\n",
        "                   worker 9.6949152886\n",
        "                      war 7.35001778688\n",
        "               television 7.02076663917\n",
        "              imperialism 6.03942612003\n",
        "               revolution 5.77647225774\n",
        "                      car 5.76892251967\n",
        "                   theory 5.02343378939\n",
        "                     lion 4.94601169072\n",
        "                    sugar 4.69296163895\n",
        "              materialism 4.2347889903\n",
        "                 idealism 3.96451288798\n",
        "                 toilette 3.14352023311\n",
        "                    money 3.03657793231\n",
        "               capitalism 2.85529368615\n",
        "               philosophy 2.64452085446\n",
        "                   tactic 2.64452085446\n",
        "                 strategy 2.64452085446\n",
        "                   praxis 2.33223775508\n",
        "                     hair 2.30584873145\n",
        "*****************\n",
        "Lenin: The Agrarian Programme of Social-Democracy in the First Russian Revolution, 1905-1907\n",
        "*****************\n",
        "rent"
       ]
      },
      {
       "output_type": "stream",
       "stream": "stdout",
       "text": [
        "\n",
        "dessiatins\n",
        "000\n",
        "land\n",
        "maslov\n",
        "peasants\n",
        "capital\n",
        "revolution\n",
        "marx\n",
        "people\n",
        "nationalisation\n",
        "plekhanov\n",
        "restoration\n",
        "right\n",
        "latifundia\n",
        "private\n",
        "farming\n",
        "free\n",
        "central\n",
        "lands\n",
        "---------------\n",
        "revolution"
       ]
      },
      {
       "output_type": "stream",
       "stream": "stdout",
       "text": [
        "\n",
        "people"
       ]
      },
      {
       "output_type": "stream",
       "stream": "stdout",
       "text": [
        "\n",
        "right"
       ]
      },
      {
       "output_type": "stream",
       "stream": "stdout",
       "text": [
        "\n",
        "land"
       ]
      },
      {
       "output_type": "stream",
       "stream": "stdout",
       "text": [
        "\n",
        "land"
       ]
      },
      {
       "output_type": "stream",
       "stream": "stdout",
       "text": [
        "\n",
        "peasants"
       ]
      },
      {
       "output_type": "stream",
       "stream": "stdout",
       "text": [
        "\n",
        "revolution"
       ]
      },
      {
       "output_type": "stream",
       "stream": "stdout",
       "text": [
        "\n",
        "revolution"
       ]
      },
      {
       "output_type": "stream",
       "stream": "stdout",
       "text": [
        "\n",
        "land"
       ]
      },
      {
       "output_type": "stream",
       "stream": "stdout",
       "text": [
        "\n",
        "right"
       ]
      },
      {
       "output_type": "stream",
       "stream": "stdout",
       "text": [
        "\n",
        "right"
       ]
      },
      {
       "output_type": "stream",
       "stream": "stdout",
       "text": [
        "\n",
        "right"
       ]
      },
      {
       "output_type": "stream",
       "stream": "stdout",
       "text": [
        "\n",
        "restoration"
       ]
      },
      {
       "output_type": "stream",
       "stream": "stdout",
       "text": [
        "\n",
        "peasants"
       ]
      },
      {
       "output_type": "stream",
       "stream": "stdout",
       "text": [
        "\n",
        "restoration"
       ]
      },
      {
       "output_type": "stream",
       "stream": "stdout",
       "text": [
        "\n",
        "restoration"
       ]
      },
      {
       "output_type": "stream",
       "stream": "stdout",
       "text": [
        "\n",
        "land"
       ]
      },
      {
       "output_type": "stream",
       "stream": "stdout",
       "text": [
        "\n",
        "right"
       ]
      },
      {
       "output_type": "stream",
       "stream": "stdout",
       "text": [
        "\n",
        "restoration"
       ]
      },
      {
       "output_type": "stream",
       "stream": "stdout",
       "text": [
        "\n",
        "==============================\n",
        "path_similarity\n",
        "None\n",
        "               revolution        1.0\n",
        "                   theory       0.25\n",
        "                   worker       0.25\n",
        "                     hair       0.25\n",
        "                      war       0.25\n",
        "                    money        0.2\n",
        "              imperialism        0.2\n",
        "                   praxis        0.2\n",
        "                 idealism 0.166666666667\n",
        "               capitalism 0.166666666667\n",
        "                      car 0.166666666667\n",
        "               television 0.142857142857\n",
        "              materialism 0.142857142857\n",
        "               philosophy 0.142857142857\n",
        "                 toilette 0.142857142857\n",
        "                   tactic 0.142857142857\n",
        "                 strategy 0.142857142857\n",
        "                    sugar      0.125\n",
        "                     lion      0.125\n",
        "revolution"
       ]
      },
      {
       "output_type": "stream",
       "stream": "stdout",
       "text": [
        "\n",
        "people"
       ]
      },
      {
       "output_type": "stream",
       "stream": "stdout",
       "text": [
        "\n",
        "right"
       ]
      },
      {
       "output_type": "stream",
       "stream": "stdout",
       "text": [
        "\n",
        "land"
       ]
      },
      {
       "output_type": "stream",
       "stream": "stdout",
       "text": [
        "\n",
        "land"
       ]
      },
      {
       "output_type": "stream",
       "stream": "stdout",
       "text": [
        "\n",
        "peasants"
       ]
      },
      {
       "output_type": "stream",
       "stream": "stdout",
       "text": [
        "\n",
        "revolution"
       ]
      },
      {
       "output_type": "stream",
       "stream": "stdout",
       "text": [
        "\n",
        "revolution"
       ]
      },
      {
       "output_type": "stream",
       "stream": "stdout",
       "text": [
        "\n",
        "land"
       ]
      },
      {
       "output_type": "stream",
       "stream": "stdout",
       "text": [
        "\n",
        "right"
       ]
      },
      {
       "output_type": "stream",
       "stream": "stdout",
       "text": [
        "\n",
        "right"
       ]
      },
      {
       "output_type": "stream",
       "stream": "stdout",
       "text": [
        "\n",
        "right"
       ]
      },
      {
       "output_type": "stream",
       "stream": "stdout",
       "text": [
        "\n",
        "restoration"
       ]
      },
      {
       "output_type": "stream",
       "stream": "stdout",
       "text": [
        "\n",
        "peasants"
       ]
      },
      {
       "output_type": "stream",
       "stream": "stdout",
       "text": [
        "\n",
        "restoration"
       ]
      },
      {
       "output_type": "stream",
       "stream": "stdout",
       "text": [
        "\n",
        "restoration"
       ]
      },
      {
       "output_type": "stream",
       "stream": "stdout",
       "text": [
        "\n",
        "land"
       ]
      },
      {
       "output_type": "stream",
       "stream": "stdout",
       "text": [
        "\n",
        "right"
       ]
      },
      {
       "output_type": "stream",
       "stream": "stdout",
       "text": [
        "\n",
        "restoration"
       ]
      },
      {
       "output_type": "stream",
       "stream": "stdout",
       "text": [
        "\n",
        "==============================\n",
        "lch_similarity\n",
        "None\n",
        "               revolution 3.63758615973\n",
        "                   theory 2.25129179861\n",
        "                   worker 2.25129179861\n",
        "                     hair 2.25129179861\n",
        "                      war 2.25129179861\n",
        "                    money 2.02814824729\n",
        "              imperialism 2.02814824729\n",
        "                   praxis 2.02814824729\n",
        "                 idealism 1.8458266905\n",
        "               capitalism 1.8458266905\n",
        "                      car 1.8458266905\n",
        "               television 1.69167601067\n",
        "              materialism 1.69167601067\n",
        "               philosophy 1.69167601067\n",
        "                 toilette 1.69167601067\n",
        "                   tactic 1.69167601067\n",
        "                 strategy 1.69167601067\n",
        "                    sugar 1.55814461805\n",
        "                     lion 1.55814461805\n",
        "revolution"
       ]
      },
      {
       "output_type": "stream",
       "stream": "stdout",
       "text": [
        "\n",
        "people"
       ]
      },
      {
       "output_type": "stream",
       "stream": "stdout",
       "text": [
        "\n",
        "right"
       ]
      },
      {
       "output_type": "stream",
       "stream": "stdout",
       "text": [
        "\n",
        "land"
       ]
      },
      {
       "output_type": "stream",
       "stream": "stdout",
       "text": [
        "\n",
        "land"
       ]
      },
      {
       "output_type": "stream",
       "stream": "stdout",
       "text": [
        "\n",
        "peasants"
       ]
      },
      {
       "output_type": "stream",
       "stream": "stdout",
       "text": [
        "\n",
        "right"
       ]
      },
      {
       "output_type": "stream",
       "stream": "stdout",
       "text": [
        "\n",
        "revolution"
       ]
      },
      {
       "output_type": "stream",
       "stream": "stdout",
       "text": [
        "\n",
        "land"
       ]
      },
      {
       "output_type": "stream",
       "stream": "stdout",
       "text": [
        "\n",
        "right"
       ]
      },
      {
       "output_type": "stream",
       "stream": "stdout",
       "text": [
        "\n",
        "right"
       ]
      },
      {
       "output_type": "stream",
       "stream": "stdout",
       "text": [
        "\n",
        "right"
       ]
      },
      {
       "output_type": "stream",
       "stream": "stdout",
       "text": [
        "\n",
        "restoration"
       ]
      },
      {
       "output_type": "stream",
       "stream": "stdout",
       "text": [
        "\n",
        "private"
       ]
      },
      {
       "output_type": "stream",
       "stream": "stdout",
       "text": [
        "\n",
        "restoration"
       ]
      },
      {
       "output_type": "stream",
       "stream": "stdout",
       "text": [
        "\n",
        "right"
       ]
      },
      {
       "output_type": "stream",
       "stream": "stdout",
       "text": [
        "\n",
        "right"
       ]
      },
      {
       "output_type": "stream",
       "stream": "stdout",
       "text": [
        "\n",
        "right"
       ]
      },
      {
       "output_type": "stream",
       "stream": "stdout",
       "text": [
        "\n",
        "restoration"
       ]
      },
      {
       "output_type": "stream",
       "stream": "stdout",
       "text": [
        "\n",
        "==============================\n",
        "lin_similarity\n",
        "None\n",
        "               revolution        1.0\n",
        "                   worker 0.867659956556\n",
        "                    money 0.795092138737\n",
        "                 idealism 0.718594418474\n",
        "                   theory 0.62934451871\n",
        "                 strategy 0.542738848663\n",
        "                     hair 0.507823131965\n",
        "                      war 0.490875072994\n",
        "                   tactic 0.471798304657\n",
        "               philosophy 0.460650281325\n",
        "                    sugar 0.424255432886\n",
        "              materialism 0.346824731751\n",
        "               capitalism 0.334654457361\n",
        "                 toilette 0.305244618627\n",
        "              imperialism 0.276513933579\n",
        "                   praxis 0.262990660119\n",
        "                      car 0.233451467632\n",
        "                     lion 0.224886183679\n",
        "               television 0.209012044619\n",
        "revolution"
       ]
      },
      {
       "output_type": "stream",
       "stream": "stdout",
       "text": [
        "\n",
        "people"
       ]
      },
      {
       "output_type": "stream",
       "stream": "stdout",
       "text": [
        "\n",
        "right"
       ]
      },
      {
       "output_type": "stream",
       "stream": "stdout",
       "text": [
        "\n",
        "land"
       ]
      },
      {
       "output_type": "stream",
       "stream": "stdout",
       "text": [
        "\n",
        "right"
       ]
      },
      {
       "output_type": "stream",
       "stream": "stdout",
       "text": [
        "\n",
        "peasants"
       ]
      },
      {
       "output_type": "stream",
       "stream": "stdout",
       "text": [
        "\n",
        "right"
       ]
      },
      {
       "output_type": "stream",
       "stream": "stdout",
       "text": [
        "\n",
        "revolution"
       ]
      },
      {
       "output_type": "stream",
       "stream": "stdout",
       "text": [
        "\n",
        "land"
       ]
      },
      {
       "output_type": "stream",
       "stream": "stdout",
       "text": [
        "\n",
        "right"
       ]
      },
      {
       "output_type": "stream",
       "stream": "stdout",
       "text": [
        "\n",
        "right"
       ]
      },
      {
       "output_type": "stream",
       "stream": "stdout",
       "text": [
        "\n",
        "right"
       ]
      },
      {
       "output_type": "stream",
       "stream": "stdout",
       "text": [
        "\n",
        "right"
       ]
      },
      {
       "output_type": "stream",
       "stream": "stdout",
       "text": [
        "\n",
        "land"
       ]
      },
      {
       "output_type": "stream",
       "stream": "stdout",
       "text": [
        "\n",
        "land"
       ]
      },
      {
       "output_type": "stream",
       "stream": "stdout",
       "text": [
        "\n",
        "right"
       ]
      },
      {
       "output_type": "stream",
       "stream": "stdout",
       "text": [
        "\n",
        "right"
       ]
      },
      {
       "output_type": "stream",
       "stream": "stdout",
       "text": [
        "\n",
        "right"
       ]
      },
      {
       "output_type": "stream",
       "stream": "stdout",
       "text": [
        "\n",
        "land"
       ]
      },
      {
       "output_type": "stream",
       "stream": "stdout",
       "text": [
        "\n",
        "==============================\n",
        "jcn_similarity\n",
        "None\n",
        "               revolution     1e+300\n",
        "                   worker 0.363995193783\n",
        "                    money 0.281311340918\n",
        "                   theory 0.195267421204\n",
        "                 idealism 0.164897303372\n",
        "                 strategy 0.148226571771\n",
        "               philosophy 0.12971013597\n",
        "                     hair 0.117188943048\n",
        "                   tactic 0.111546525155\n",
        "                      war 0.106563401763\n",
        "                    sugar 0.0928623916368\n",
        "                      car 0.0903577501322\n",
        "               capitalism 0.0880782305893\n",
        "              materialism 0.0800960300724\n",
        "                   praxis 0.0774154270469\n",
        "               television 0.0747553466838\n",
        "                 toilette 0.069882726556\n",
        "                     lion 0.0689306688111\n",
        "              imperialism 0.066519004511\n",
        "revolution"
       ]
      },
      {
       "output_type": "stream",
       "stream": "stdout",
       "text": [
        "\n",
        "land"
       ]
      },
      {
       "output_type": "stream",
       "stream": "stdout",
       "text": [
        "\n",
        "right"
       ]
      },
      {
       "output_type": "stream",
       "stream": "stdout",
       "text": [
        "\n",
        "land"
       ]
      },
      {
       "output_type": "stream",
       "stream": "stdout",
       "text": [
        "\n",
        "land"
       ]
      },
      {
       "output_type": "stream",
       "stream": "stdout",
       "text": [
        "\n",
        "peasants"
       ]
      },
      {
       "output_type": "stream",
       "stream": "stdout",
       "text": [
        "\n",
        "rent"
       ]
      },
      {
       "output_type": "stream",
       "stream": "stdout",
       "text": [
        "\n",
        "revolution"
       ]
      },
      {
       "output_type": "stream",
       "stream": "stdout",
       "text": [
        "\n",
        "land"
       ]
      },
      {
       "output_type": "stream",
       "stream": "stdout",
       "text": [
        "\n",
        "right"
       ]
      },
      {
       "output_type": "stream",
       "stream": "stdout",
       "text": [
        "\n",
        "right"
       ]
      },
      {
       "output_type": "stream",
       "stream": "stdout",
       "text": [
        "\n",
        "right"
       ]
      },
      {
       "output_type": "stream",
       "stream": "stdout",
       "text": [
        "\n",
        "restoration"
       ]
      },
      {
       "output_type": "stream",
       "stream": "stdout",
       "text": [
        "\n",
        "peasants"
       ]
      },
      {
       "output_type": "stream",
       "stream": "stdout",
       "text": [
        "\n",
        "restoration"
       ]
      },
      {
       "output_type": "stream",
       "stream": "stdout",
       "text": [
        "\n",
        "right"
       ]
      },
      {
       "output_type": "stream",
       "stream": "stdout",
       "text": [
        "\n",
        "right"
       ]
      },
      {
       "output_type": "stream",
       "stream": "stdout",
       "text": [
        "\n",
        "right"
       ]
      },
      {
       "output_type": "stream",
       "stream": "stdout",
       "text": [
        "\n",
        "restoration"
       ]
      },
      {
       "output_type": "stream",
       "stream": "stdout",
       "text": [
        "\n",
        "==============================\n",
        "res_similarity\n",
        "None\n",
        "               revolution 10.3880624692\n",
        "                   worker 9.00601439892\n",
        "                 idealism 7.74297011821\n",
        "                    money 6.89670424966\n",
        "                      war 4.52385364841\n",
        "                     hair 4.40224945514\n",
        "                   theory 4.34768669983\n",
        "              materialism 4.2347889903\n",
        "                   tactic 4.00378311412\n",
        "                 strategy 4.00378311412\n",
        "                    sugar 3.96759837487\n",
        "               philosophy 3.29228159341\n",
        "                 toilette 3.14352023311\n",
        "              imperialism 3.14352023311\n",
        "               capitalism 2.85529368615\n",
        "                     lion 2.33354524374\n",
        "                   praxis 2.33223775508\n",
        "               television 2.30584873145\n",
        "                      car 2.30584873145\n"
       ]
      }
     ],
     "prompt_number": 3
    },
    {
     "cell_type": "code",
     "collapsed": false,
     "input": [
      "print \"$asd$\"\n",
      "for concept in concepts:\n",
      "    print \"*************\"\n",
      "    print concept\n",
      "    best_docs = sorted(documents, key=lambda doc: doc_analyzer.analyze_document(doc)[concept])\n",
      "    print \"*************\"\n",
      "    print [doc.name for doc in best_docs]\n"
     ],
     "language": "python",
     "metadata": {},
     "outputs": [
      {
       "ename": "NameError",
       "evalue": "global name 'doc_analyzer' is not defined",
       "output_type": "pyerr",
       "traceback": [
        "\u001b[1;31m---------------------------------------------------------------------------\u001b[0m\n\u001b[1;31mNameError\u001b[0m                                 Traceback (most recent call last)",
        "\u001b[1;32m<ipython-input-12-1c09dfd3d57b>\u001b[0m in \u001b[0;36m<module>\u001b[1;34m()\u001b[0m\n\u001b[0;32m      3\u001b[0m     \u001b[1;32mprint\u001b[0m \u001b[1;34m\"*************\"\u001b[0m\u001b[1;33m\u001b[0m\u001b[0m\n\u001b[0;32m      4\u001b[0m     \u001b[1;32mprint\u001b[0m \u001b[0mconcept\u001b[0m\u001b[1;33m\u001b[0m\u001b[0m\n\u001b[1;32m----> 5\u001b[1;33m     \u001b[0mbest_docs\u001b[0m \u001b[1;33m=\u001b[0m \u001b[0msorted\u001b[0m\u001b[1;33m(\u001b[0m\u001b[0mdocuments\u001b[0m\u001b[1;33m,\u001b[0m \u001b[0mkey\u001b[0m\u001b[1;33m=\u001b[0m\u001b[1;32mlambda\u001b[0m \u001b[0mdoc\u001b[0m\u001b[1;33m:\u001b[0m \u001b[0mdoc_analyzer\u001b[0m\u001b[1;33m.\u001b[0m\u001b[0manalyze_document\u001b[0m\u001b[1;33m(\u001b[0m\u001b[0mdoc\u001b[0m\u001b[1;33m)\u001b[0m\u001b[1;33m[\u001b[0m\u001b[0mconcept\u001b[0m\u001b[1;33m]\u001b[0m\u001b[1;33m)\u001b[0m\u001b[1;33m\u001b[0m\u001b[0m\n\u001b[0m\u001b[0;32m      6\u001b[0m     \u001b[1;32mprint\u001b[0m \u001b[1;34m\"*************\"\u001b[0m\u001b[1;33m\u001b[0m\u001b[0m\n\u001b[0;32m      7\u001b[0m     \u001b[1;32mprint\u001b[0m \u001b[1;33m[\u001b[0m\u001b[0mdoc\u001b[0m\u001b[1;33m.\u001b[0m\u001b[0mname\u001b[0m \u001b[1;32mfor\u001b[0m \u001b[0mdoc\u001b[0m \u001b[1;32min\u001b[0m \u001b[0mbest_docs\u001b[0m\u001b[1;33m]\u001b[0m\u001b[1;33m\u001b[0m\u001b[0m\n",
        "\u001b[1;32m<ipython-input-12-1c09dfd3d57b>\u001b[0m in \u001b[0;36m<lambda>\u001b[1;34m(doc)\u001b[0m\n\u001b[0;32m      3\u001b[0m     \u001b[1;32mprint\u001b[0m \u001b[1;34m\"*************\"\u001b[0m\u001b[1;33m\u001b[0m\u001b[0m\n\u001b[0;32m      4\u001b[0m     \u001b[1;32mprint\u001b[0m \u001b[0mconcept\u001b[0m\u001b[1;33m\u001b[0m\u001b[0m\n\u001b[1;32m----> 5\u001b[1;33m     \u001b[0mbest_docs\u001b[0m \u001b[1;33m=\u001b[0m \u001b[0msorted\u001b[0m\u001b[1;33m(\u001b[0m\u001b[0mdocuments\u001b[0m\u001b[1;33m,\u001b[0m \u001b[0mkey\u001b[0m\u001b[1;33m=\u001b[0m\u001b[1;32mlambda\u001b[0m \u001b[0mdoc\u001b[0m\u001b[1;33m:\u001b[0m \u001b[0mdoc_analyzer\u001b[0m\u001b[1;33m.\u001b[0m\u001b[0manalyze_document\u001b[0m\u001b[1;33m(\u001b[0m\u001b[0mdoc\u001b[0m\u001b[1;33m)\u001b[0m\u001b[1;33m[\u001b[0m\u001b[0mconcept\u001b[0m\u001b[1;33m]\u001b[0m\u001b[1;33m)\u001b[0m\u001b[1;33m\u001b[0m\u001b[0m\n\u001b[0m\u001b[0;32m      6\u001b[0m     \u001b[1;32mprint\u001b[0m \u001b[1;34m\"*************\"\u001b[0m\u001b[1;33m\u001b[0m\u001b[0m\n\u001b[0;32m      7\u001b[0m     \u001b[1;32mprint\u001b[0m \u001b[1;33m[\u001b[0m\u001b[0mdoc\u001b[0m\u001b[1;33m.\u001b[0m\u001b[0mname\u001b[0m \u001b[1;32mfor\u001b[0m \u001b[0mdoc\u001b[0m \u001b[1;32min\u001b[0m \u001b[0mbest_docs\u001b[0m\u001b[1;33m]\u001b[0m\u001b[1;33m\u001b[0m\u001b[0m\n",
        "\u001b[1;31mNameError\u001b[0m: global name 'doc_analyzer' is not defined"
       ]
      },
      {
       "output_type": "stream",
       "stream": "stdout",
       "text": [
        "$asd$\n",
        "*************\n",
        "war\n"
       ]
      }
     ],
     "prompt_number": 12
    },
    {
     "cell_type": "code",
     "collapsed": false,
     "input": [],
     "language": "python",
     "metadata": {},
     "outputs": []
    }
   ],
   "metadata": {}
  }
 ]
}