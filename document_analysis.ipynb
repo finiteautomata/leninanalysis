{
 "metadata": {
  "name": ""
 },
 "nbformat": 3,
 "nbformat_minor": 0,
 "worksheets": [
  {
   "cells": [
    {
     "cell_type": "raw",
     "metadata": {},
     "source": [
      "First, let's create all the synsets that we are going to use in our analysis."
     ]
    },
    {
     "cell_type": "code",
     "collapsed": false,
     "input": [
      "from interpreter import *\n",
      "from analyzers import similarity\n",
      "from analyzers.document_analyzer import DocumentAnalyzer\n",
      "import string\n",
      "\n",
      "synsets = [wn.synset(word) for word in [\n",
      "           \"war.n.01\",\n",
      "           \"capitalism.n.01\",\n",
      "           \"theory.n.01\",\n",
      "           \"toilet.n.04\",\n",
      "           \"imperialism.n.02\",\n",
      "           \"proletarian.n.01\",\n",
      "           \"practice.n.03\",\n",
      "           \"revolution.n.01\",\n",
      "           \"money.n.01\",\n",
      "           \"philosophy.n.02\",\n",
      "           \"idealism.n.01\",\n",
      "           \"strategy.n.02\",\n",
      "           \"materialism.n.02\",\n",
      "           \"lion.n.01\",\n",
      "           \"television_receiver.n.01\",\n",
      "           \"hair.n.01\",\n",
      "           \"sugar.n.01\",\n",
      "           \"car.n.01\"\n",
      "]]\n",
      "\n",
      "\n",
      "\n",
      "\n",
      "def print_analysis(doc, analyzer):\n",
      "    analysis = analyzer.analyze_document(doc)\n",
      "    sorted_words = sorted(analysis.iteritems(), key= lambda(word, similarity): similarity, reverse=True)\n",
      "    print(\"=\" * 30)\n",
      "    print analyzer.name\n",
      "    for synset, similarity in sorted_words:\n",
      "        print \"%s %s  --  %s \" % (string.rjust(synset,25), \n",
      "                                  string.rjust(str(similarity), 25),\n",
      "                                  string.rjust(analyzer.best_word_for[synset].name, 25))\n",
      "        "
     ],
     "language": "python",
     "metadata": {},
     "outputs": [],
     "prompt_number": 1
    },
    {
     "cell_type": "raw",
     "metadata": {},
     "source": [
      "Let's create the analyzers"
     ]
    },
    {
     "cell_type": "code",
     "collapsed": false,
     "input": [
      "analyzers = [DocumentAnalyzer(synsets=synsets, similarity_function=sim_fun) \n",
      "             for sim_fun in similarity.functions]\n"
     ],
     "language": "python",
     "metadata": {},
     "outputs": [],
     "prompt_number": 2
    },
    {
     "cell_type": "code",
     "collapsed": false,
     "input": [
      "state_and_revolution = Document.query.find({\"name\":{\"$regex\":\"State and Revolution\" }}).next()\n",
      "imperialism_capitalism = Document.query.find({\"name\":{\"$regex\":\"Imperialism.*Capitalism.*\" }}).next()\n",
      "materialism_criticism = Document.query.find({\"name\": \"Lenin: MATERIALISM and EMPIRIO-CRITICISM\"}).next()\n",
      "what_is_to_be_done = Document.query.find({\"name\": {\"$regex\": \".*What Is To Be Done.*\"}}).next()\n",
      "agrarian_programme = Document.query.find({\"name\": u'Lenin: The Agrarian Programme of Social-Democracy in the First Russian Revolution, 1905-1907'}).next()\n",
      "documents = [state_and_revolution, imperialism_capitalism, materialism_criticism, what_is_to_be_done, agrarian_programme]\n",
      "\n"
     ],
     "language": "python",
     "metadata": {},
     "outputs": [],
     "prompt_number": 3
    },
    {
     "cell_type": "raw",
     "metadata": {},
     "source": [
      "Top senses for documents"
     ]
    },
    {
     "cell_type": "code",
     "collapsed": false,
     "input": [
      "for doc in documents:\n",
      "    print \"*****************\"\n",
      "    print doc.name\n",
      "    print \"*****************\"\n",
      "    for index, sense in enumerate(doc.top_senses(),1):\n",
      "        print \"%s\" %  sense\n",
      "    print \"---------------\"\n",
      "    for analyzer in analyzers:\n",
      "        print_analysis(doc, analyzer)\n",
      "    "
     ],
     "language": "python",
     "metadata": {},
     "outputs": [
      {
       "output_type": "stream",
       "stream": "stdout",
       "text": [
        "*****************\n",
        "The State and Revolution\n",
        "*****************\n",
        "Synset('marx.n.03')"
       ]
      },
      {
       "output_type": "stream",
       "stream": "stdout",
       "text": [
        "\n",
        "Synset('revolution.n.01')\n",
        "Synset('plant.n.01')\n",
        "Synset('engels.n.01')\n",
        "Synset('club.n.02')\n",
        "Synset('power.n.01')\n",
        "Synset('party.n.01')\n",
        "Synset('sociable.n.01')\n",
        "Synset('experience.n.03')\n",
        "Synset('bernstein.n.01')\n",
        "Synset('question.n.02')\n",
        "Synset('equality.n.01')\n",
        "Synset('phase.n.01')\n",
        "Synset('commune.n.02')\n",
        "Synset('one.n.01')\n",
        "Synset('democracy.n.02')\n",
        "Synset('class.n.07')\n",
        "Synset('law.n.04')\n",
        "Synset('communism.n.02')\n",
        "Synset('peer.n.01')\n",
        "---------------\n",
        "=============================="
       ]
      },
      {
       "output_type": "stream",
       "stream": "stdout",
       "text": [
        "\n",
        "path_similarity document analyzer\n",
        "None\n",
        "          revolution.n.01                       1.0  --            revolution.n.01 \n",
        "         imperialism.n.02            0.333333333333  --             communism.n.02 \n",
        "         proletarian.n.01                      0.25  --                  peer.n.01 \n",
        "                 war.n.01            0.166666666667  --            experience.n.03 \n",
        "            practice.n.03            0.166666666667  --            experience.n.03 \n",
        "               money.n.01                     0.125  --                 phase.n.01 \n",
        "          philosophy.n.02                     0.125  --                   law.n.04 \n",
        "         materialism.n.02                     0.125  --                   law.n.04 \n",
        "            strategy.n.02                     0.125  --                   law.n.04 \n",
        "            idealism.n.01                     0.125  --                   law.n.04 \n",
        "          capitalism.n.01                     0.125  --                 party.n.01 \n",
        "              toilet.n.04            0.111111111111  --            experience.n.03 \n",
        "                hair.n.01            0.111111111111  --                 plant.n.01 \n",
        " television_receiver.n.01                       0.1  --                 plant.n.01 \n",
        "                 car.n.01                       0.1  --                 plant.n.01 \n",
        "              theory.n.01                       0.1  --            experience.n.03 \n",
        "                lion.n.01           0.0833333333333  --                  peer.n.01 \n",
        "               sugar.n.01           0.0833333333333  --                  peer.n.01 \n",
        "=============================="
       ]
      },
      {
       "output_type": "stream",
       "stream": "stdout",
       "text": [
        "\n",
        "lch_similarity document analyzer\n",
        "None\n",
        "          revolution.n.01             3.63758615973  --            revolution.n.01 \n",
        "         imperialism.n.02             2.53897387106  --             communism.n.02 \n",
        "         proletarian.n.01             2.25129179861  --                  peer.n.01 \n",
        "                 war.n.01              1.8458266905  --            experience.n.03 \n",
        "            practice.n.03              1.8458266905  --            experience.n.03 \n",
        "               money.n.01             1.55814461805  --                 phase.n.01 \n",
        "          philosophy.n.02             1.55814461805  --                   law.n.04 \n",
        "         materialism.n.02             1.55814461805  --                   law.n.04 \n",
        "            strategy.n.02             1.55814461805  --                   law.n.04 \n",
        "            idealism.n.01             1.55814461805  --                   law.n.04 \n",
        "          capitalism.n.01             1.55814461805  --                 party.n.01 \n",
        "              toilet.n.04             1.44036158239  --            experience.n.03 \n",
        "                hair.n.01             1.44036158239  --                 plant.n.01 \n",
        " television_receiver.n.01             1.33500106673  --                 plant.n.01 \n",
        "                 car.n.01             1.33500106673  --                 plant.n.01 \n",
        "              theory.n.01             1.33500106673  --            experience.n.03 \n",
        "                lion.n.01             1.15267950994  --                  peer.n.01 \n",
        "               sugar.n.01             1.15267950994  --                  peer.n.01 \n",
        "=============================="
       ]
      },
      {
       "output_type": "stream",
       "stream": "stdout",
       "text": [
        "\n",
        "lin_similarity document analyzer\n",
        "None\n",
        "          revolution.n.01                       1.0  --            revolution.n.01 \n",
        "         imperialism.n.02            0.720392353354  --             communism.n.02 \n",
        "          philosophy.n.02            0.405088626962  --                   law.n.04 \n",
        "               money.n.01            0.381214020012  --                   one.n.01 \n",
        "            strategy.n.02            0.340509805473  --                   law.n.04 \n",
        "         materialism.n.02            0.321472637881  --                   law.n.04 \n",
        "                 car.n.01            0.308769081534  --                 plant.n.01 \n",
        "            idealism.n.01            0.308702564543  --                   law.n.04 \n",
        "              theory.n.01            0.305328480717  --                   law.n.04 \n",
        "          capitalism.n.01             0.29394209418  --                  club.n.02 \n",
        "         proletarian.n.01             0.28393127113  --                  peer.n.01 \n",
        "                 war.n.01             0.27365843482  --            experience.n.03 \n",
        " television_receiver.n.01             0.26589523901  --                 plant.n.01 \n",
        "            practice.n.03             0.25085798778  --            experience.n.03 \n",
        "                lion.n.01            0.250268807542  --                  peer.n.01 \n",
        "              toilet.n.04            0.222375151204  --            experience.n.03 \n",
        "                hair.n.01            0.210222579299  --                  peer.n.01 \n",
        "               sugar.n.01           0.0895207954547  --                  peer.n.01 \n",
        "=============================="
       ]
      },
      {
       "output_type": "stream",
       "stream": "stdout",
       "text": [
        "\n",
        "jcn_similarity document analyzer\n",
        "None\n",
        "          revolution.n.01                    1e+300  --            revolution.n.01 \n",
        "         imperialism.n.02             0.14975874591  --             communism.n.02 \n",
        "               money.n.01            0.114463788126  --                   one.n.01 \n",
        "          philosophy.n.02            0.103411969458  --                   law.n.04 \n",
        "                 car.n.01           0.0968611991406  --                 plant.n.01 \n",
        "                 war.n.01           0.0925103390667  --            experience.n.03 \n",
        "                hair.n.01           0.0868826421077  --                  peer.n.01 \n",
        "         proletarian.n.01           0.0849595683478  --                  peer.n.01 \n",
        "              theory.n.01           0.0831018766196  --                   law.n.04 \n",
        "            practice.n.03           0.0822216357777  --            experience.n.03 \n",
        " television_receiver.n.01           0.0785401473185  --                 plant.n.01 \n",
        "            strategy.n.02             0.07841412673  --                   law.n.04 \n",
        "                lion.n.01           0.0750424463326  --                  peer.n.01 \n",
        "          capitalism.n.01           0.0729022081709  --                  club.n.02 \n",
        "         materialism.n.02           0.0719531280061  --                   law.n.04 \n",
        "              toilet.n.04           0.0702163836162  --            experience.n.03 \n",
        "            idealism.n.01           0.0678185221973  --                   law.n.04 \n",
        "               sugar.n.01           0.0613168731584  --                  peer.n.01 \n",
        "=============================="
       ]
      },
      {
       "ename": "ValueError",
       "evalue": "max() arg is an empty sequence",
       "output_type": "pyerr",
       "traceback": [
        "\u001b[1;31m---------------------------------------------------------------------------\u001b[0m\n\u001b[1;31mValueError\u001b[0m                                Traceback (most recent call last)",
        "\u001b[1;32m<ipython-input-4-e92a38fd5395>\u001b[0m in \u001b[0;36m<module>\u001b[1;34m()\u001b[0m\n\u001b[0;32m      3\u001b[0m     \u001b[1;32mprint\u001b[0m \u001b[0mdoc\u001b[0m\u001b[1;33m.\u001b[0m\u001b[0mname\u001b[0m\u001b[1;33m\u001b[0m\u001b[0m\n\u001b[0;32m      4\u001b[0m     \u001b[1;32mprint\u001b[0m \u001b[1;34m\"*****************\"\u001b[0m\u001b[1;33m\u001b[0m\u001b[0m\n\u001b[1;32m----> 5\u001b[1;33m     \u001b[1;32mfor\u001b[0m \u001b[0mindex\u001b[0m\u001b[1;33m,\u001b[0m \u001b[0msense\u001b[0m \u001b[1;32min\u001b[0m \u001b[0menumerate\u001b[0m\u001b[1;33m(\u001b[0m\u001b[0mdoc\u001b[0m\u001b[1;33m.\u001b[0m\u001b[0mtop_senses\u001b[0m\u001b[1;33m(\u001b[0m\u001b[1;33m)\u001b[0m\u001b[1;33m,\u001b[0m\u001b[1;36m1\u001b[0m\u001b[1;33m)\u001b[0m\u001b[1;33m:\u001b[0m\u001b[1;33m\u001b[0m\u001b[0m\n\u001b[0m\u001b[0;32m      6\u001b[0m         \u001b[1;32mprint\u001b[0m \u001b[1;34m\"%s\"\u001b[0m \u001b[1;33m%\u001b[0m  \u001b[0msense\u001b[0m\u001b[1;33m\u001b[0m\u001b[0m\n\u001b[0;32m      7\u001b[0m     \u001b[1;32mprint\u001b[0m \u001b[1;34m\"---------------\"\u001b[0m\u001b[1;33m\u001b[0m\u001b[0m\n",
        "\u001b[1;32m/home/marat/projects/tp_lenin/information_value/models.pyc\u001b[0m in \u001b[0;36mtop_senses\u001b[1;34m(self, total_senses)\u001b[0m\n\u001b[0;32m    110\u001b[0m         \u001b[1;32mfor\u001b[0m \u001b[0mword\u001b[0m \u001b[1;32min\u001b[0m \u001b[0mtop_words\u001b[0m\u001b[1;33m:\u001b[0m\u001b[1;33m\u001b[0m\u001b[0m\n\u001b[0;32m    111\u001b[0m             \u001b[1;32mtry\u001b[0m\u001b[1;33m:\u001b[0m\u001b[1;33m\u001b[0m\u001b[0m\n\u001b[1;32m--> 112\u001b[1;33m                 \u001b[0msense\u001b[0m \u001b[1;33m=\u001b[0m \u001b[0mself\u001b[0m\u001b[1;33m.\u001b[0m\u001b[0m__get_sense_for\u001b[0m\u001b[1;33m(\u001b[0m\u001b[0mword\u001b[0m\u001b[1;33m)\u001b[0m\u001b[1;33m\u001b[0m\u001b[0m\n\u001b[0m\u001b[0;32m    113\u001b[0m                 \u001b[0msenses\u001b[0m\u001b[1;33m.\u001b[0m\u001b[0mappend\u001b[0m\u001b[1;33m(\u001b[0m\u001b[0msense\u001b[0m\u001b[1;33m)\u001b[0m\u001b[1;33m\u001b[0m\u001b[0m\n\u001b[0;32m    114\u001b[0m                 \u001b[1;32mif\u001b[0m \u001b[0mlen\u001b[0m\u001b[1;33m(\u001b[0m\u001b[0msenses\u001b[0m\u001b[1;33m)\u001b[0m \u001b[1;33m>=\u001b[0m \u001b[0mtotal_senses\u001b[0m\u001b[1;33m:\u001b[0m\u001b[1;33m\u001b[0m\u001b[0m\n",
        "\u001b[1;32m/home/marat/projects/tp_lenin/information_value/models.pyc\u001b[0m in \u001b[0;36m__get_sense_for\u001b[1;34m(self, word)\u001b[0m\n\u001b[0;32m    122\u001b[0m \u001b[1;33m\u001b[0m\u001b[0m\n\u001b[0;32m    123\u001b[0m         \u001b[1;32mif\u001b[0m \u001b[1;32mnot\u001b[0m \u001b[0mself\u001b[0m\u001b[1;33m.\u001b[0m\u001b[0mrelated_sense\u001b[0m\u001b[1;33m.\u001b[0m\u001b[0mhas_key\u001b[0m\u001b[1;33m(\u001b[0m\u001b[0mword\u001b[0m\u001b[1;33m)\u001b[0m\u001b[1;33m:\u001b[0m\u001b[1;33m\u001b[0m\u001b[0m\n\u001b[1;32m--> 124\u001b[1;33m             \u001b[0msense\u001b[0m \u001b[1;33m=\u001b[0m \u001b[0mwisdom\u001b[0m\u001b[1;33m.\u001b[0m\u001b[0mlesk\u001b[0m\u001b[1;33m(\u001b[0m\u001b[0mself\u001b[0m\u001b[1;33m.\u001b[0m\u001b[0mtext\u001b[0m\u001b[1;33m,\u001b[0m \u001b[0mword\u001b[0m\u001b[1;33m,\u001b[0m \u001b[0mpos\u001b[0m\u001b[1;33m=\u001b[0m\u001b[1;34m'n'\u001b[0m\u001b[1;33m)\u001b[0m\u001b[1;33m\u001b[0m\u001b[0m\n\u001b[0m\u001b[0;32m    125\u001b[0m             \u001b[0mself\u001b[0m\u001b[1;33m.\u001b[0m\u001b[0mrelated_sense\u001b[0m\u001b[1;33m[\u001b[0m\u001b[0mword\u001b[0m\u001b[1;33m]\u001b[0m \u001b[1;33m=\u001b[0m \u001b[0msense\u001b[0m\u001b[1;33m.\u001b[0m\u001b[0mname\u001b[0m\u001b[1;33m\u001b[0m\u001b[0m\n\u001b[0;32m    126\u001b[0m         \u001b[1;32mreturn\u001b[0m \u001b[0mwn\u001b[0m\u001b[1;33m.\u001b[0m\u001b[0msynset\u001b[0m\u001b[1;33m(\u001b[0m\u001b[0mself\u001b[0m\u001b[1;33m.\u001b[0m\u001b[0mrelated_sense\u001b[0m\u001b[1;33m[\u001b[0m\u001b[0mword\u001b[0m\u001b[1;33m]\u001b[0m\u001b[1;33m)\u001b[0m\u001b[1;33m\u001b[0m\u001b[0m\n",
        "\u001b[1;32m/home/marat/.virtualenvs/incc/src/wisdom/wisdom/lesk.pyc\u001b[0m in \u001b[0;36mlesk\u001b[1;34m(context_sentence, ambiguous_word, pos, stem, hyperhypo)\u001b[0m\n\u001b[0;32m     73\u001b[0m         \u001b[0mpos\u001b[0m\u001b[1;33m,\u001b[0m\u001b[1;33m\u001b[0m\u001b[0m\n\u001b[0;32m     74\u001b[0m         \u001b[0mstem\u001b[0m\u001b[1;33m,\u001b[0m\u001b[1;33m\u001b[0m\u001b[0m\n\u001b[1;32m---> 75\u001b[1;33m         functools.partial(__build_dictionary, hyperhypo=hyperhypo))\n\u001b[0m",
        "\u001b[1;32m/home/marat/.virtualenvs/incc/src/wisdom/wisdom/lesk.pyc\u001b[0m in \u001b[0;36mbase_lesk\u001b[1;34m(context_sentence, ambiguous_word, pos, stem, build_dictionary_function)\u001b[0m\n\u001b[0;32m     60\u001b[0m         \u001b[0moverlaps\u001b[0m\u001b[1;33m[\u001b[0m\u001b[0msynset\u001b[0m\u001b[1;33m]\u001b[0m \u001b[1;33m=\u001b[0m \u001b[0mcompute_overlap\u001b[0m\u001b[1;33m(\u001b[0m\u001b[0mcontext_sentence\u001b[0m\u001b[1;33m,\u001b[0m \u001b[0msynset\u001b[0m\u001b[1;33m,\u001b[0m \u001b[0mstem\u001b[0m\u001b[1;33m,\u001b[0m \u001b[0mbuild_dictionary_function\u001b[0m\u001b[1;33m)\u001b[0m\u001b[1;33m\u001b[0m\u001b[0m\n\u001b[0;32m     61\u001b[0m \u001b[1;33m\u001b[0m\u001b[0m\n\u001b[1;32m---> 62\u001b[1;33m     \u001b[0mbest_synset\u001b[0m\u001b[1;33m,\u001b[0m \u001b[0mmax_overlaps\u001b[0m \u001b[1;33m=\u001b[0m \u001b[0mmax\u001b[0m\u001b[1;33m(\u001b[0m\u001b[0moverlaps\u001b[0m\u001b[1;33m.\u001b[0m\u001b[0miteritems\u001b[0m\u001b[1;33m(\u001b[0m\u001b[1;33m)\u001b[0m\u001b[1;33m,\u001b[0m \u001b[0mkey\u001b[0m\u001b[1;33m=\u001b[0m\u001b[1;32mlambda\u001b[0m \u001b[1;33m(\u001b[0m\u001b[0msynset\u001b[0m\u001b[1;33m,\u001b[0m \u001b[0moverlaps\u001b[0m\u001b[1;33m)\u001b[0m\u001b[1;33m:\u001b[0m \u001b[0moverlaps\u001b[0m\u001b[1;33m)\u001b[0m\u001b[1;33m\u001b[0m\u001b[0m\n\u001b[0m\u001b[0;32m     63\u001b[0m     \u001b[1;32mif\u001b[0m \u001b[0mmax_overlaps\u001b[0m \u001b[1;33m==\u001b[0m \u001b[1;36m0\u001b[0m \u001b[1;33m:\u001b[0m\u001b[1;33m\u001b[0m\u001b[0m\n\u001b[0;32m     64\u001b[0m         \u001b[1;32mraise\u001b[0m \u001b[0mNoSenseFound\u001b[0m\u001b[1;33m(\u001b[0m\u001b[1;33m)\u001b[0m\u001b[1;33m\u001b[0m\u001b[0m\n",
        "\u001b[1;31mValueError\u001b[0m: max() arg is an empty sequence"
       ]
      },
      {
       "output_type": "stream",
       "stream": "stdout",
       "text": [
        "\n",
        "res_similarity document analyzer\n",
        "None\n",
        "          revolution.n.01             10.3880624692  --            revolution.n.01 \n",
        "         imperialism.n.02             8.60196873746  --             communism.n.02 \n",
        "          philosophy.n.02             3.29228159341  --                   law.n.04 \n",
        "         materialism.n.02             3.29228159341  --                   law.n.04 \n",
        "            strategy.n.02             3.29228159341  --                   law.n.04 \n",
        "            idealism.n.01             3.29228159341  --                   law.n.04 \n",
        "          capitalism.n.01             2.85529368615  --                  club.n.02 \n",
        "               money.n.01             2.69110280536  --                 phase.n.01 \n",
        "              theory.n.01             2.64452085446  --                   law.n.04 \n",
        "         proletarian.n.01             2.33354524374  --                  marx.n.03 \n",
        " television_receiver.n.01             2.30584873145  --                 plant.n.01 \n",
        "                 car.n.01             2.30584873145  --                 plant.n.01 \n",
        "                lion.n.01             2.22415047123  --                  marx.n.03 \n",
        "              toilet.n.04             2.03632771779  --            revolution.n.01 \n",
        "                 war.n.01             2.03632771779  --            revolution.n.01 \n",
        "            practice.n.03             2.03632771779  --            revolution.n.01 \n",
        "                hair.n.01             1.53183374322  --                  marx.n.03 \n",
        "               sugar.n.01            0.801759114954  --                  marx.n.03 \n",
        "*****************\n",
        "Lenin: Imperialism, the Highest Stage of Capitalism\n",
        "*****************\n"
       ]
      }
     ],
     "prompt_number": 4
    },
    {
     "cell_type": "code",
     "collapsed": false,
     "input": [
      "print \"$asd$\"\n",
      "for (word, synset) in synsets.iteritems():\n",
      "    print \"*************\"\n",
      "    print concept\n",
      "    best_docs = sorted(documents, key=lambda doc: doc_analyzer.analyze_document(doc)[word])\n",
      "    print \"*************\"\n",
      "    print [doc.name for doc in best_docs]\n"
     ],
     "language": "python",
     "metadata": {},
     "outputs": []
    },
    {
     "cell_type": "code",
     "collapsed": false,
     "input": [],
     "language": "python",
     "metadata": {},
     "outputs": [],
     "prompt_number": 1
    },
    {
     "cell_type": "code",
     "collapsed": false,
     "input": [],
     "language": "python",
     "metadata": {},
     "outputs": []
    }
   ],
   "metadata": {}
  }
 ]
}