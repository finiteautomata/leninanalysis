{
 "metadata": {
  "name": ""
 },
 "nbformat": 3,
 "nbformat_minor": 0,
 "worksheets": [
  {
   "cells": [
    {
     "cell_type": "raw",
     "metadata": {},
     "source": [
      "First, let's create all the synsets that we are going to use in our analysis."
     ]
    },
    {
     "cell_type": "code",
     "collapsed": false,
     "input": [
      "from interpreter import *\n",
      "from analyzers import similarity\n",
      "from analyzers.document_analyzer import DocumentAnalyzer\n",
      "import string\n",
      "\n",
      "synsets = dict((word.split(\".\")[0],[wn.synset(word)]) for word in [\n",
      "           \"war.n.01\",\n",
      "           \"capitalism.n.01\",\n",
      "           \"theory.n.01\",\n",
      "           \"toilet.n.04\",\n",
      "           \"imperialism.n.02\",\n",
      "           \"proletarian.n.01\",\n",
      "           \"practice.n.03\",\n",
      "           \"revolution.n.01\",\n",
      "           \"money.n.01\",\n",
      "           \"philosophy.n.02\",\n",
      "           \"idealism.n.01\",\n",
      "           \"strategy.n.02\",\n",
      "           \"materialism.n.02\",\n",
      "           \"lion.n.01\",\n",
      "           \"television_receiver.n.01\",\n",
      "           \"hair.n.01\",\n",
      "           \"sugar.n.01\",\n",
      "           \"car.n.01\"\n",
      "           ])\n",
      "\n",
      "\n",
      "\n",
      "\n",
      "def print_analysis(doc, analyzer):\n",
      "    analysis = analyzer.analyze_document(doc)\n",
      "    sorted_words = sorted(analysis.iteritems(), key= lambda(word, similarity): similarity, reverse=True)\n",
      "    print(\"=\" * 30)\n",
      "    print analyzer.name\n",
      "    for word, similarity in sorted_words:\n",
      "        print \"%s %s\" % (string.rjust(word,25), string.rjust(str(similarity), 10))\n",
      "        "
     ],
     "language": "python",
     "metadata": {},
     "outputs": [],
     "prompt_number": 1
    },
    {
     "cell_type": "raw",
     "metadata": {},
     "source": [
      "Let's create the analyzers"
     ]
    },
    {
     "cell_type": "code",
     "collapsed": false,
     "input": [
      "analyzers = [DocumentAnalyzer(synsets=synsets, similarity_function=sim_fun) \n",
      "             for sim_fun in similarity.functions]\n"
     ],
     "language": "python",
     "metadata": {},
     "outputs": [],
     "prompt_number": 2
    },
    {
     "cell_type": "code",
     "collapsed": false,
     "input": [
      "state_and_revolution = Document.query.find({\"name\":{\"$regex\":\"State and Revolution\" }}).next()\n",
      "imperialism_capitalism = Document.query.find({\"name\":{\"$regex\":\"Imperialism.*Capitalism.*\" }}).next()\n",
      "materialism_criticism = Document.query.find({\"name\": \"Lenin: MATERIALISM and EMPIRIO-CRITICISM\"}).next()\n",
      "what_is_to_be_done = Document.query.find({\"name\": {\"$regex\": \".*What Is To Be Done.*\"}}).next()\n",
      "agrarian_programme = Document.query.find({\"name\": u'Lenin: The Agrarian Programme of Social-Democracy in the First Russian Revolution, 1905-1907'}).next()\n",
      "documents = [state_and_revolution, imperialism_capitalism, materialism_criticism, what_is_to_be_done, agrarian_programme]\n",
      "\n"
     ],
     "language": "python",
     "metadata": {},
     "outputs": [],
     "prompt_number": 3
    },
    {
     "cell_type": "raw",
     "metadata": {},
     "source": [
      "Top words for documents"
     ]
    },
    {
     "cell_type": "code",
     "collapsed": false,
     "input": [
      "for doc in documents:\n",
      "    print \"*****************\"\n",
      "    print doc.name\n",
      "    print \"*****************\"\n",
      "    for index, word in enumerate(doc.top_words(),1):\n",
      "        print \"%s\" %  word[0]\n",
      "    print \"---------------\"\n",
      "    for analyzer in analyzers:\n",
      "        print_analysis(doc, analyzer)\n",
      "    "
     ],
     "language": "python",
     "metadata": {},
     "outputs": [
      {
       "output_type": "stream",
       "stream": "stdout",
       "text": [
        "*****************\n",
        "The State and Revolution\n",
        "*****************\n",
        "kautsky"
       ]
      },
      {
       "output_type": "stream",
       "stream": "stdout",
       "text": [
        "\n",
        "marx\n",
        "revolution\n",
        "works\n",
        "engels\n",
        "society\n",
        "power\n",
        "party\n",
        "social\n",
        "experience\n",
        "bernstein\n",
        "question\n",
        "equality\n",
        "phase\n",
        "1917\n",
        "commune\n",
        "one\n",
        "republic\n",
        "class\n",
        "law\n",
        "---------------\n",
        "experience"
       ]
      },
      {
       "output_type": "stream",
       "stream": "stdout",
       "text": [
        "\n",
        "works"
       ]
      },
      {
       "output_type": "stream",
       "stream": "stdout",
       "text": [
        "\n",
        "revolution"
       ]
      },
      {
       "output_type": "stream",
       "stream": "stdout",
       "text": [
        "\n",
        "power"
       ]
      },
      {
       "output_type": "stream",
       "stream": "stdout",
       "text": [
        "\n",
        "power"
       ]
      },
      {
       "output_type": "stream",
       "stream": "stdout",
       "text": [
        "\n",
        "phase"
       ]
      },
      {
       "output_type": "stream",
       "stream": "stdout",
       "text": [
        "\n",
        "revolution"
       ]
      },
      {
       "output_type": "stream",
       "stream": "stdout",
       "text": [
        "\n",
        "society"
       ]
      },
      {
       "output_type": "stream",
       "stream": "stdout",
       "text": [
        "\n",
        "works"
       ]
      },
      {
       "output_type": "stream",
       "stream": "stdout",
       "text": [
        "\n",
        "party"
       ]
      },
      {
       "output_type": "stream",
       "stream": "stdout",
       "text": [
        "\n",
        "power"
       ]
      },
      {
       "output_type": "stream",
       "stream": "stdout",
       "text": [
        "\n",
        "works"
       ]
      },
      {
       "output_type": "stream",
       "stream": "stdout",
       "text": [
        "\n",
        "works"
       ]
      },
      {
       "output_type": "stream",
       "stream": "stdout",
       "text": [
        "\n",
        "experience"
       ]
      },
      {
       "output_type": "stream",
       "stream": "stdout",
       "text": [
        "\n",
        "party"
       ]
      },
      {
       "output_type": "stream",
       "stream": "stdout",
       "text": [
        "\n",
        "revolution"
       ]
      },
      {
       "output_type": "stream",
       "stream": "stdout",
       "text": [
        "\n",
        "law"
       ]
      },
      {
       "output_type": "stream",
       "stream": "stdout",
       "text": [
        "\n",
        "experience"
       ]
      },
      {
       "output_type": "stream",
       "stream": "stdout",
       "text": [
        "\n",
        "=============================="
       ]
      },
      {
       "output_type": "stream",
       "stream": "stdout",
       "text": [
        "\n",
        "path_similarity\n",
        "None\n",
        "               revolution        1.0\n",
        "               philosophy        0.5\n",
        "              proletarian       0.25\n",
        "                      war       0.25\n",
        "                 practice        0.2\n",
        "                 idealism 0.166666666667\n",
        "                   toilet 0.166666666667\n",
        "              materialism 0.166666666667\n",
        "                 strategy 0.166666666667\n",
        "              imperialism 0.166666666667\n",
        "                   theory 0.142857142857\n",
        "                    money 0.142857142857\n",
        "               capitalism 0.142857142857\n",
        "                     hair 0.111111111111\n",
        "      television_receiver 0.111111111111\n",
        "                      car 0.111111111111\n",
        "                    sugar 0.0909090909091\n",
        "                     lion 0.0833333333333\n",
        "experience"
       ]
      },
      {
       "output_type": "stream",
       "stream": "stdout",
       "text": [
        "\n",
        "works"
       ]
      },
      {
       "output_type": "stream",
       "stream": "stdout",
       "text": [
        "\n",
        "revolution"
       ]
      },
      {
       "output_type": "stream",
       "stream": "stdout",
       "text": [
        "\n",
        "power"
       ]
      },
      {
       "output_type": "stream",
       "stream": "stdout",
       "text": [
        "\n",
        "power"
       ]
      },
      {
       "output_type": "stream",
       "stream": "stdout",
       "text": [
        "\n",
        "phase"
       ]
      },
      {
       "output_type": "stream",
       "stream": "stdout",
       "text": [
        "\n",
        "revolution"
       ]
      },
      {
       "output_type": "stream",
       "stream": "stdout",
       "text": [
        "\n",
        "society"
       ]
      },
      {
       "output_type": "stream",
       "stream": "stdout",
       "text": [
        "\n",
        "works"
       ]
      },
      {
       "output_type": "stream",
       "stream": "stdout",
       "text": [
        "\n",
        "party"
       ]
      },
      {
       "output_type": "stream",
       "stream": "stdout",
       "text": [
        "\n",
        "power"
       ]
      },
      {
       "output_type": "stream",
       "stream": "stdout",
       "text": [
        "\n",
        "works"
       ]
      },
      {
       "output_type": "stream",
       "stream": "stdout",
       "text": [
        "\n",
        "works"
       ]
      },
      {
       "output_type": "stream",
       "stream": "stdout",
       "text": [
        "\n",
        "experience"
       ]
      },
      {
       "output_type": "stream",
       "stream": "stdout",
       "text": [
        "\n",
        "party"
       ]
      },
      {
       "output_type": "stream",
       "stream": "stdout",
       "text": [
        "\n",
        "revolution"
       ]
      },
      {
       "output_type": "stream",
       "stream": "stdout",
       "text": [
        "\n",
        "law"
       ]
      },
      {
       "output_type": "stream",
       "stream": "stdout",
       "text": [
        "\n",
        "experience"
       ]
      },
      {
       "output_type": "stream",
       "stream": "stdout",
       "text": [
        "\n",
        "==============================\n",
        "lch_similarity\n",
        "None\n",
        "               revolution 3.63758615973\n",
        "               philosophy 2.94443897917\n",
        "              proletarian 2.25129179861\n",
        "                      war 2.25129179861\n",
        "                 practice 2.02814824729\n",
        "                 idealism 1.8458266905\n",
        "                   toilet 1.8458266905\n",
        "              materialism 1.8458266905\n",
        "                 strategy 1.8458266905\n",
        "              imperialism 1.8458266905\n",
        "                   theory 1.69167601067\n",
        "                    money 1.69167601067\n",
        "               capitalism 1.69167601067\n",
        "                     hair 1.44036158239\n",
        "      television_receiver 1.44036158239\n",
        "                      car 1.44036158239\n",
        "                    sugar 1.23969088693\n",
        "                     lion 1.15267950994\n",
        "one"
       ]
      },
      {
       "output_type": "stream",
       "stream": "stdout",
       "text": [
        "\n",
        "class"
       ]
      },
      {
       "output_type": "stream",
       "stream": "stdout",
       "text": [
        "\n",
        "revolution"
       ]
      },
      {
       "output_type": "stream",
       "stream": "stdout",
       "text": [
        "\n",
        "power"
       ]
      },
      {
       "output_type": "stream",
       "stream": "stdout",
       "text": [
        "\n",
        "works"
       ]
      },
      {
       "output_type": "stream",
       "stream": "stdout",
       "text": [
        "\n",
        "one"
       ]
      },
      {
       "output_type": "stream",
       "stream": "stdout",
       "text": [
        "\n",
        "class"
       ]
      },
      {
       "output_type": "stream",
       "stream": "stdout",
       "text": [
        "\n",
        "class"
       ]
      },
      {
       "output_type": "stream",
       "stream": "stdout",
       "text": [
        "\n",
        "works"
       ]
      },
      {
       "output_type": "stream",
       "stream": "stdout",
       "text": [
        "\n",
        "power"
       ]
      },
      {
       "output_type": "stream",
       "stream": "stdout",
       "text": [
        "\n",
        "power"
       ]
      },
      {
       "output_type": "stream",
       "stream": "stdout",
       "text": [
        "\n",
        "works"
       ]
      },
      {
       "output_type": "stream",
       "stream": "stdout",
       "text": [
        "\n",
        "works"
       ]
      },
      {
       "output_type": "stream",
       "stream": "stdout",
       "text": [
        "\n",
        "law"
       ]
      },
      {
       "output_type": "stream",
       "stream": "stdout",
       "text": [
        "\n",
        "power"
       ]
      },
      {
       "output_type": "stream",
       "stream": "stdout",
       "text": [
        "\n",
        "revolution"
       ]
      },
      {
       "output_type": "stream",
       "stream": "stdout",
       "text": [
        "\n",
        "law"
       ]
      },
      {
       "output_type": "stream",
       "stream": "stdout",
       "text": [
        "\n",
        "one"
       ]
      },
      {
       "output_type": "stream",
       "stream": "stdout",
       "text": [
        "\n",
        "==============================\n",
        "lin_similarity\n",
        "None\n",
        "               revolution        1.0\n",
        "               philosophy 0.976848075428\n",
        "                 strategy 0.55722227875\n",
        "                      war 0.490875072994\n",
        "                    money 0.381214020012\n",
        "                      car 0.379032002399\n",
        "                   theory 0.371919946823\n",
        "              materialism 0.349363567448\n",
        "                 idealism 0.334333310589\n",
        "      television_receiver 0.332454268431\n",
        "                   toilet 0.318321536281\n",
        "               capitalism 0.317825134317\n",
        "              imperialism 0.283842614195\n",
        "                 practice 0.26395984401\n",
        "              proletarian 0.262319261106\n",
        "                     lion 0.230276741502\n",
        "                     hair 0.201884948371\n",
        "                    sugar 0.0866106005639\n",
        "power"
       ]
      },
      {
       "output_type": "stream",
       "stream": "stdout",
       "text": [
        "\n",
        "power"
       ]
      },
      {
       "output_type": "stream",
       "stream": "stdout",
       "text": [
        "\n",
        "revolution"
       ]
      },
      {
       "output_type": "stream",
       "stream": "stdout",
       "text": [
        "\n",
        "power"
       ]
      },
      {
       "output_type": "stream",
       "stream": "stdout",
       "text": [
        "\n",
        "power"
       ]
      },
      {
       "output_type": "stream",
       "stream": "stdout",
       "text": [
        "\n",
        "one"
       ]
      },
      {
       "output_type": "stream",
       "stream": "stdout",
       "text": [
        "\n",
        "power"
       ]
      },
      {
       "output_type": "stream",
       "stream": "stdout",
       "text": [
        "\n",
        "class"
       ]
      },
      {
       "output_type": "stream",
       "stream": "stdout",
       "text": [
        "\n",
        "works"
       ]
      },
      {
       "output_type": "stream",
       "stream": "stdout",
       "text": [
        "\n",
        "power"
       ]
      },
      {
       "output_type": "stream",
       "stream": "stdout",
       "text": [
        "\n",
        "power"
       ]
      },
      {
       "output_type": "stream",
       "stream": "stdout",
       "text": [
        "\n",
        "works"
       ]
      },
      {
       "output_type": "stream",
       "stream": "stdout",
       "text": [
        "\n",
        "works"
       ]
      },
      {
       "output_type": "stream",
       "stream": "stdout",
       "text": [
        "\n",
        "law"
       ]
      },
      {
       "output_type": "stream",
       "stream": "stdout",
       "text": [
        "\n",
        "power"
       ]
      },
      {
       "output_type": "stream",
       "stream": "stdout",
       "text": [
        "\n",
        "revolution"
       ]
      },
      {
       "output_type": "stream",
       "stream": "stdout",
       "text": [
        "\n",
        "law"
       ]
      },
      {
       "output_type": "stream",
       "stream": "stdout",
       "text": [
        "\n",
        "power"
       ]
      },
      {
       "output_type": "stream",
       "stream": "stdout",
       "text": [
        "\n",
        "==============================\n",
        "jcn_similarity\n",
        "None\n",
        "               revolution     1e+300\n",
        "               philosophy 2.54425354975\n",
        "                    money 0.114463788126\n",
        "                 strategy 0.112589010036\n",
        "                   theory 0.111958604892\n",
        "                      war 0.106563401763\n",
        "                      car 0.0968611991406\n",
        "                 practice 0.0890575424118\n",
        "              materialism 0.082699934766\n",
        "                     hair 0.0825651572344\n",
        "               capitalism 0.0815852680019\n",
        "      television_receiver 0.0785401473185\n",
        "              proletarian 0.0778920065792\n",
        "                 idealism 0.0772844959268\n",
        "                   toilet 0.075141999107\n",
        "              imperialism 0.0749362801747\n",
        "                     lion 0.0672544932413\n",
        "                    sugar 0.0623790510818\n",
        "experience"
       ]
      },
      {
       "output_type": "stream",
       "stream": "stdout",
       "text": [
        "\n",
        "works"
       ]
      },
      {
       "output_type": "stream",
       "stream": "stdout",
       "text": [
        "\n",
        "revolution"
       ]
      },
      {
       "output_type": "stream",
       "stream": "stdout",
       "text": [
        "\n",
        "power"
       ]
      },
      {
       "output_type": "stream",
       "stream": "stdout",
       "text": [
        "\n",
        "works"
       ]
      },
      {
       "output_type": "stream",
       "stream": "stdout",
       "text": [
        "\n",
        "phase"
       ]
      },
      {
       "output_type": "stream",
       "stream": "stdout",
       "text": [
        "\n",
        "revolution"
       ]
      },
      {
       "output_type": "stream",
       "stream": "stdout",
       "text": [
        "\n",
        "society"
       ]
      },
      {
       "output_type": "stream",
       "stream": "stdout",
       "text": [
        "\n",
        "works"
       ]
      },
      {
       "output_type": "stream",
       "stream": "stdout",
       "text": [
        "\n",
        "power"
       ]
      },
      {
       "output_type": "stream",
       "stream": "stdout",
       "text": [
        "\n",
        "power"
       ]
      },
      {
       "output_type": "stream",
       "stream": "stdout",
       "text": [
        "\n",
        "works"
       ]
      },
      {
       "output_type": "stream",
       "stream": "stdout",
       "text": [
        "\n",
        "works"
       ]
      },
      {
       "output_type": "stream",
       "stream": "stdout",
       "text": [
        "\n",
        "law"
       ]
      },
      {
       "output_type": "stream",
       "stream": "stdout",
       "text": [
        "\n",
        "power"
       ]
      },
      {
       "output_type": "stream",
       "stream": "stdout",
       "text": [
        "\n",
        "revolution"
       ]
      },
      {
       "output_type": "stream",
       "stream": "stdout",
       "text": [
        "\n",
        "law"
       ]
      },
      {
       "output_type": "stream",
       "stream": "stdout",
       "text": [
        "\n",
        "experience"
       ]
      },
      {
       "output_type": "stream",
       "stream": "stdout",
       "text": [
        "\n",
        "==============================\n",
        "res_similarity\n",
        "None\n",
        "               revolution 10.3880624692\n",
        "               philosophy 8.29181380916\n",
        "                 strategy 5.58877614988\n",
        "                      war 4.52385364841\n",
        "                 idealism 3.29228159341\n",
        "              materialism 3.29228159341\n",
        "      television_receiver 3.25767902589\n",
        "                      car 3.25767902589\n",
        "                   toilet 3.14352023311\n",
        "               capitalism 2.85529368615\n",
        "                    money 2.69110280536\n",
        "                   theory 2.64452085446\n",
        "              imperialism 2.64452085446\n",
        "              proletarian 2.33354524374\n",
        "                 practice 2.33223775508\n",
        "                     lion 2.22415047123\n",
        "                     hair 1.53183374322\n",
        "                    sugar 0.801759114954\n",
        "*****************\n",
        "Lenin: Imperialism, the Highest Stage of Capitalism\n",
        "*****************\n",
        "enterprises"
       ]
      },
      {
       "output_type": "stream",
       "stream": "stdout",
       "text": [
        "\n",
        "bank\n",
        "imperialism\n",
        "world\n",
        "million\n",
        "colonies\n",
        "kautsky\n",
        "colonial\n",
        "production\n",
        "cent\n",
        "economic\n",
        "company\n",
        "capitalist\n",
        "monopoly\n",
        "big\n",
        "countries\n",
        "policy\n",
        "powers\n",
        "000\n",
        "banks\n",
        "---------------\n",
        "world"
       ]
      },
      {
       "output_type": "stream",
       "stream": "stdout",
       "text": [
        "\n",
        "imperialism"
       ]
      },
      {
       "output_type": "stream",
       "stream": "stdout",
       "text": [
        "\n",
        "production"
       ]
      },
      {
       "output_type": "stream",
       "stream": "stdout",
       "text": [
        "\n",
        "policy"
       ]
      },
      {
       "output_type": "stream",
       "stream": "stdout",
       "text": [
        "\n",
        "powers"
       ]
      },
      {
       "output_type": "stream",
       "stream": "stdout",
       "text": [
        "\n",
        "cent"
       ]
      },
      {
       "output_type": "stream",
       "stream": "stdout",
       "text": [
        "\n",
        "production"
       ]
      },
      {
       "output_type": "stream",
       "stream": "stdout",
       "text": [
        "\n",
        "world"
       ]
      },
      {
       "output_type": "stream",
       "stream": "stdout",
       "text": [
        "\n",
        "world"
       ]
      },
      {
       "output_type": "stream",
       "stream": "stdout",
       "text": [
        "\n",
        "world"
       ]
      },
      {
       "output_type": "stream",
       "stream": "stdout",
       "text": [
        "\n",
        "imperialism"
       ]
      },
      {
       "output_type": "stream",
       "stream": "stdout",
       "text": [
        "\n",
        "bank"
       ]
      },
      {
       "output_type": "stream",
       "stream": "stdout",
       "text": [
        "\n",
        "bank"
       ]
      },
      {
       "output_type": "stream",
       "stream": "stdout",
       "text": [
        "\n",
        "world"
       ]
      },
      {
       "output_type": "stream",
       "stream": "stdout",
       "text": [
        "\n",
        "capitalist"
       ]
      },
      {
       "output_type": "stream",
       "stream": "stdout",
       "text": [
        "\n",
        "production"
       ]
      },
      {
       "output_type": "stream",
       "stream": "stdout",
       "text": [
        "\n",
        "world"
       ]
      },
      {
       "output_type": "stream",
       "stream": "stdout",
       "text": [
        "\n",
        "world"
       ]
      },
      {
       "output_type": "stream",
       "stream": "stdout",
       "text": [
        "\n",
        "==============================\n",
        "path_similarity\n",
        "None\n",
        "              imperialism        1.0\n",
        "                 practice       0.25\n",
        "              proletarian       0.25\n",
        "                     hair        0.2\n",
        "                      war        0.2\n",
        "               revolution 0.166666666667\n",
        "                   theory 0.166666666667\n",
        "                    money 0.166666666667\n",
        "               capitalism 0.166666666667\n",
        "                      car 0.166666666667\n",
        "                 idealism 0.142857142857\n",
        "                   toilet 0.142857142857\n",
        "              materialism 0.142857142857\n",
        "                 strategy 0.142857142857\n",
        "               philosophy 0.142857142857\n",
        "      television_receiver      0.125\n",
        "                     lion 0.111111111111\n",
        "                    sugar 0.0909090909091\n",
        "world"
       ]
      },
      {
       "output_type": "stream",
       "stream": "stdout",
       "text": [
        "\n",
        "imperialism"
       ]
      },
      {
       "output_type": "stream",
       "stream": "stdout",
       "text": [
        "\n",
        "production"
       ]
      },
      {
       "output_type": "stream",
       "stream": "stdout",
       "text": [
        "\n",
        "policy"
       ]
      },
      {
       "output_type": "stream",
       "stream": "stdout",
       "text": [
        "\n",
        "powers"
       ]
      },
      {
       "output_type": "stream",
       "stream": "stdout",
       "text": [
        "\n",
        "cent"
       ]
      },
      {
       "output_type": "stream",
       "stream": "stdout",
       "text": [
        "\n",
        "production"
       ]
      },
      {
       "output_type": "stream",
       "stream": "stdout",
       "text": [
        "\n",
        "world"
       ]
      },
      {
       "output_type": "stream",
       "stream": "stdout",
       "text": [
        "\n",
        "world"
       ]
      },
      {
       "output_type": "stream",
       "stream": "stdout",
       "text": [
        "\n",
        "world"
       ]
      },
      {
       "output_type": "stream",
       "stream": "stdout",
       "text": [
        "\n",
        "imperialism"
       ]
      },
      {
       "output_type": "stream",
       "stream": "stdout",
       "text": [
        "\n",
        "bank"
       ]
      },
      {
       "output_type": "stream",
       "stream": "stdout",
       "text": [
        "\n",
        "bank"
       ]
      },
      {
       "output_type": "stream",
       "stream": "stdout",
       "text": [
        "\n",
        "world"
       ]
      },
      {
       "output_type": "stream",
       "stream": "stdout",
       "text": [
        "\n",
        "capitalist"
       ]
      },
      {
       "output_type": "stream",
       "stream": "stdout",
       "text": [
        "\n",
        "production"
       ]
      },
      {
       "output_type": "stream",
       "stream": "stdout",
       "text": [
        "\n",
        "world"
       ]
      },
      {
       "output_type": "stream",
       "stream": "stdout",
       "text": [
        "\n",
        "world"
       ]
      },
      {
       "output_type": "stream",
       "stream": "stdout",
       "text": [
        "\n",
        "==============================\n",
        "lch_similarity\n",
        "None\n",
        "              imperialism 3.63758615973\n",
        "                 practice 2.25129179861\n",
        "              proletarian 2.25129179861\n",
        "                     hair 2.02814824729\n",
        "                      war 2.02814824729\n",
        "               revolution 1.8458266905\n",
        "                   theory 1.8458266905\n",
        "                    money 1.8458266905\n",
        "               capitalism 1.8458266905\n",
        "                      car 1.8458266905\n",
        "                 idealism 1.69167601067\n",
        "                   toilet 1.69167601067\n",
        "              materialism 1.69167601067\n",
        "                 strategy 1.69167601067\n",
        "               philosophy 1.69167601067\n",
        "      television_receiver 1.55814461805\n",
        "                     lion 1.44036158239\n",
        "                    sugar 1.23969088693\n",
        "world"
       ]
      },
      {
       "output_type": "stream",
       "stream": "stdout",
       "text": [
        "\n",
        "enterprises"
       ]
      },
      {
       "output_type": "stream",
       "stream": "stdout",
       "text": [
        "\n",
        "enterprises"
       ]
      },
      {
       "output_type": "stream",
       "stream": "stdout",
       "text": [
        "\n",
        "policy"
       ]
      },
      {
       "output_type": "stream",
       "stream": "stdout",
       "text": [
        "\n",
        "countries"
       ]
      },
      {
       "output_type": "stream",
       "stream": "stdout",
       "text": [
        "\n",
        "cent"
       ]
      },
      {
       "output_type": "stream",
       "stream": "stdout",
       "text": [
        "\n",
        "enterprises"
       ]
      },
      {
       "output_type": "stream",
       "stream": "stdout",
       "text": [
        "\n",
        "enterprises"
       ]
      },
      {
       "output_type": "stream",
       "stream": "stdout",
       "text": [
        "\n",
        "world"
       ]
      },
      {
       "output_type": "stream",
       "stream": "stdout",
       "text": [
        "\n",
        "world"
       ]
      },
      {
       "output_type": "stream",
       "stream": "stdout",
       "text": [
        "\n",
        "imperialism"
       ]
      },
      {
       "output_type": "stream",
       "stream": "stdout",
       "text": [
        "\n",
        "bank"
       ]
      },
      {
       "output_type": "stream",
       "stream": "stdout",
       "text": [
        "\n",
        "bank"
       ]
      },
      {
       "output_type": "stream",
       "stream": "stdout",
       "text": [
        "\n",
        "world"
       ]
      },
      {
       "output_type": "stream",
       "stream": "stdout",
       "text": [
        "\n",
        "capitalist"
       ]
      },
      {
       "output_type": "stream",
       "stream": "stdout",
       "text": [
        "\n",
        "production"
       ]
      },
      {
       "output_type": "stream",
       "stream": "stdout",
       "text": [
        "\n",
        "world"
       ]
      },
      {
       "output_type": "stream",
       "stream": "stdout",
       "text": [
        "\n",
        "world"
       ]
      },
      {
       "output_type": "stream",
       "stream": "stdout",
       "text": [
        "\n",
        "==============================\n",
        "lin_similarity\n",
        "None\n",
        "              imperialism        1.0\n",
        "                    money 0.733969426851\n",
        "                   theory 0.673087888911\n",
        "                     hair 0.646495819603\n",
        "                     lion 0.616573220457\n",
        "                      car 0.599529711525\n",
        "                      war 0.557969064406\n",
        "               philosophy 0.40983001317\n",
        "                 strategy 0.343853717693\n",
        "      television_receiver 0.329492088647\n",
        "                   toilet 0.324686891115\n",
        "              materialism 0.324451464834\n",
        "               capitalism 0.318309463186\n",
        "                 idealism 0.311448421397\n",
        "              proletarian 0.290977859878\n",
        "                 practice 0.269873184363\n",
        "               revolution 0.224771761091\n",
        "                    sugar 0.0970549647175\n",
        "powers"
       ]
      },
      {
       "output_type": "stream",
       "stream": "stdout",
       "text": [
        "\n",
        "enterprises"
       ]
      },
      {
       "output_type": "stream",
       "stream": "stdout",
       "text": [
        "\n",
        "powers"
       ]
      },
      {
       "output_type": "stream",
       "stream": "stdout",
       "text": [
        "\n",
        "policy"
       ]
      },
      {
       "output_type": "stream",
       "stream": "stdout",
       "text": [
        "\n",
        "countries"
       ]
      },
      {
       "output_type": "stream",
       "stream": "stdout",
       "text": [
        "\n",
        "cent"
       ]
      },
      {
       "output_type": "stream",
       "stream": "stdout",
       "text": [
        "\n",
        "powers"
       ]
      },
      {
       "output_type": "stream",
       "stream": "stdout",
       "text": [
        "\n",
        "enterprises"
       ]
      },
      {
       "output_type": "stream",
       "stream": "stdout",
       "text": [
        "\n",
        "world"
       ]
      },
      {
       "output_type": "stream",
       "stream": "stdout",
       "text": [
        "\n",
        "world"
       ]
      },
      {
       "output_type": "stream",
       "stream": "stdout",
       "text": [
        "\n",
        "imperialism"
       ]
      },
      {
       "output_type": "stream",
       "stream": "stdout",
       "text": [
        "\n",
        "production"
       ]
      },
      {
       "output_type": "stream",
       "stream": "stdout",
       "text": [
        "\n",
        "bank"
       ]
      },
      {
       "output_type": "stream",
       "stream": "stdout",
       "text": [
        "\n",
        "powers"
       ]
      },
      {
       "output_type": "stream",
       "stream": "stdout",
       "text": [
        "\n",
        "capitalist"
       ]
      },
      {
       "output_type": "stream",
       "stream": "stdout",
       "text": [
        "\n",
        "production"
       ]
      },
      {
       "output_type": "stream",
       "stream": "stdout",
       "text": [
        "\n",
        "powers"
       ]
      },
      {
       "output_type": "stream",
       "stream": "stdout",
       "text": [
        "\n",
        "powers"
       ]
      },
      {
       "output_type": "stream",
       "stream": "stdout",
       "text": [
        "\n",
        "==============================\n",
        "jcn_similarity\n",
        "None\n",
        "              imperialism     1e+300\n",
        "                    money 0.220543285308\n",
        "                     hair 0.185089245333\n",
        "                   theory 0.181275716945\n",
        "                     lion 0.148512052197\n",
        "                      car 0.143793273094\n",
        "                      war 0.139514360943\n",
        "               philosophy 0.127161232121\n",
        "      television_receiver 0.0922281130906\n",
        "                 strategy 0.0913511001676\n",
        "                 practice 0.0890575424118\n",
        "              proletarian 0.0879334124634\n",
        "               revolution 0.0828925339577\n",
        "              materialism 0.082699934766\n",
        "               capitalism 0.0817676477438\n",
        "                 idealism 0.0772844959268\n",
        "                   toilet 0.0764739141189\n",
        "                    sugar 0.0670320559584\n",
        "world"
       ]
      },
      {
       "output_type": "stream",
       "stream": "stdout",
       "text": [
        "\n",
        "enterprises"
       ]
      },
      {
       "output_type": "stream",
       "stream": "stdout",
       "text": [
        "\n",
        "enterprises"
       ]
      },
      {
       "output_type": "stream",
       "stream": "stdout",
       "text": [
        "\n",
        "imperialism"
       ]
      },
      {
       "output_type": "stream",
       "stream": "stdout",
       "text": [
        "\n",
        "bank"
       ]
      },
      {
       "output_type": "stream",
       "stream": "stdout",
       "text": [
        "\n",
        "cent"
       ]
      },
      {
       "output_type": "stream",
       "stream": "stdout",
       "text": [
        "\n",
        "enterprises"
       ]
      },
      {
       "output_type": "stream",
       "stream": "stdout",
       "text": [
        "\n",
        "enterprises"
       ]
      },
      {
       "output_type": "stream",
       "stream": "stdout",
       "text": [
        "\n",
        "world"
       ]
      },
      {
       "output_type": "stream",
       "stream": "stdout",
       "text": [
        "\n",
        "world"
       ]
      },
      {
       "output_type": "stream",
       "stream": "stdout",
       "text": [
        "\n",
        "imperialism"
       ]
      },
      {
       "output_type": "stream",
       "stream": "stdout",
       "text": [
        "\n",
        "bank"
       ]
      },
      {
       "output_type": "stream",
       "stream": "stdout",
       "text": [
        "\n",
        "bank"
       ]
      },
      {
       "output_type": "stream",
       "stream": "stdout",
       "text": [
        "\n",
        "world"
       ]
      },
      {
       "output_type": "stream",
       "stream": "stdout",
       "text": [
        "\n",
        "colonial"
       ]
      },
      {
       "output_type": "stream",
       "stream": "stdout",
       "text": [
        "\n",
        "production"
       ]
      },
      {
       "output_type": "stream",
       "stream": "stdout",
       "text": [
        "\n",
        "world"
       ]
      },
      {
       "output_type": "stream",
       "stream": "stdout",
       "text": [
        "\n",
        "world"
       ]
      },
      {
       "output_type": "stream",
       "stream": "stdout",
       "text": [
        "\n",
        "==============================\n",
        "res_similarity\n",
        "None\n",
        "              imperialism 13.7724527325\n",
        "                    money 6.2549318819\n",
        "                   theory 5.678990458\n",
        "                     lion 5.41390363453\n",
        "                      car 5.2056126012\n",
        "                     hair 4.94037581121\n",
        "                      war 4.52385364841\n",
        "                 idealism 3.29228159341\n",
        "              materialism 3.29228159341\n",
        "                 strategy 3.29228159341\n",
        "               philosophy 3.29228159341\n",
        "      television_receiver 3.25767902589\n",
        "                   toilet 3.14352023311\n",
        "               capitalism 2.85529368615\n",
        "              proletarian 2.33354524374\n",
        "                 practice 2.33223775508\n",
        "               revolution 2.03632771779\n",
        "                    sugar 0.801759114954\n",
        "*****************\n",
        "Lenin: MATERIALISM and EMPIRIO-CRITICISM\n",
        "*****************\n",
        "physics"
       ]
      },
      {
       "output_type": "stream",
       "stream": "stdout",
       "text": [
        "\n",
        "social\n",
        "avenarius\n",
        "space\n",
        "time\n",
        "dietzgen\n",
        "berkeley\n",
        "truth\n",
        "rey\n",
        "objective\n",
        "sensation\n",
        "experience\n",
        "pp\n",
        "engels\n",
        "motion\n",
        "marx\n",
        "book\n",
        "works\n",
        "vol\n",
        "general\n",
        "---------------\n",
        "experience"
       ]
      },
      {
       "output_type": "stream",
       "stream": "stdout",
       "text": [
        "\n",
        "works"
       ]
      },
      {
       "output_type": "stream",
       "stream": "stdout",
       "text": [
        "\n",
        "experience"
       ]
      },
      {
       "output_type": "stream",
       "stream": "stdout",
       "text": [
        "\n",
        "sensation"
       ]
      },
      {
       "output_type": "stream",
       "stream": "stdout",
       "text": [
        "\n",
        "space"
       ]
      },
      {
       "output_type": "stream",
       "stream": "stdout",
       "text": [
        "\n",
        "space"
       ]
      },
      {
       "output_type": "stream",
       "stream": "stdout",
       "text": [
        "\n",
        "works"
       ]
      },
      {
       "output_type": "stream",
       "stream": "stdout",
       "text": [
        "\n",
        "book"
       ]
      },
      {
       "output_type": "stream",
       "stream": "stdout",
       "text": [
        "\n",
        "space"
       ]
      },
      {
       "output_type": "stream",
       "stream": "stdout",
       "text": [
        "\n",
        "sensation"
       ]
      },
      {
       "output_type": "stream",
       "stream": "stdout",
       "text": [
        "\n",
        "experience"
       ]
      },
      {
       "output_type": "stream",
       "stream": "stdout",
       "text": [
        "\n",
        "works"
       ]
      },
      {
       "output_type": "stream",
       "stream": "stdout",
       "text": [
        "\n",
        "works"
       ]
      },
      {
       "output_type": "stream",
       "stream": "stdout",
       "text": [
        "\n",
        "physics"
       ]
      },
      {
       "output_type": "stream",
       "stream": "stdout",
       "text": [
        "\n",
        "sensation"
       ]
      },
      {
       "output_type": "stream",
       "stream": "stdout",
       "text": [
        "\n",
        "experience"
       ]
      },
      {
       "output_type": "stream",
       "stream": "stdout",
       "text": [
        "\n",
        "physics"
       ]
      },
      {
       "output_type": "stream",
       "stream": "stdout",
       "text": [
        "\n",
        "experience"
       ]
      },
      {
       "output_type": "stream",
       "stream": "stdout",
       "text": [
        "\n",
        "==============================\n",
        "path_similarity\n",
        "None\n",
        "               revolution       0.25\n",
        "                 practice        0.2\n",
        "              proletarian        0.2\n",
        "                 idealism 0.166666666667\n",
        "                   toilet 0.166666666667\n",
        "              materialism 0.166666666667\n",
        "                 strategy 0.166666666667\n",
        "                      war 0.166666666667\n",
        "               philosophy 0.166666666667\n",
        "                    money 0.142857142857\n",
        "              imperialism 0.142857142857\n",
        "               capitalism 0.142857142857\n",
        "                   theory      0.125\n",
        "                     hair      0.125\n",
        "      television_receiver 0.111111111111\n",
        "                      car 0.111111111111\n",
        "                    sugar 0.0833333333333\n",
        "                     lion 0.0769230769231\n",
        "experience"
       ]
      },
      {
       "output_type": "stream",
       "stream": "stdout",
       "text": [
        "\n",
        "works"
       ]
      },
      {
       "output_type": "stream",
       "stream": "stdout",
       "text": [
        "\n",
        "experience"
       ]
      },
      {
       "output_type": "stream",
       "stream": "stdout",
       "text": [
        "\n",
        "sensation"
       ]
      },
      {
       "output_type": "stream",
       "stream": "stdout",
       "text": [
        "\n",
        "space"
       ]
      },
      {
       "output_type": "stream",
       "stream": "stdout",
       "text": [
        "\n",
        "space"
       ]
      },
      {
       "output_type": "stream",
       "stream": "stdout",
       "text": [
        "\n",
        "works"
       ]
      },
      {
       "output_type": "stream",
       "stream": "stdout",
       "text": [
        "\n",
        "book"
       ]
      },
      {
       "output_type": "stream",
       "stream": "stdout",
       "text": [
        "\n",
        "space"
       ]
      },
      {
       "output_type": "stream",
       "stream": "stdout",
       "text": [
        "\n",
        "sensation"
       ]
      },
      {
       "output_type": "stream",
       "stream": "stdout",
       "text": [
        "\n",
        "experience"
       ]
      },
      {
       "output_type": "stream",
       "stream": "stdout",
       "text": [
        "\n",
        "works"
       ]
      },
      {
       "output_type": "stream",
       "stream": "stdout",
       "text": [
        "\n",
        "works"
       ]
      },
      {
       "output_type": "stream",
       "stream": "stdout",
       "text": [
        "\n",
        "physics"
       ]
      },
      {
       "output_type": "stream",
       "stream": "stdout",
       "text": [
        "\n",
        "sensation"
       ]
      },
      {
       "output_type": "stream",
       "stream": "stdout",
       "text": [
        "\n",
        "experience"
       ]
      },
      {
       "output_type": "stream",
       "stream": "stdout",
       "text": [
        "\n",
        "physics"
       ]
      },
      {
       "output_type": "stream",
       "stream": "stdout",
       "text": [
        "\n",
        "experience"
       ]
      },
      {
       "output_type": "stream",
       "stream": "stdout",
       "text": [
        "\n",
        "==============================\n",
        "lch_similarity\n",
        "None\n",
        "               revolution 2.25129179861\n",
        "                 practice 2.02814824729\n",
        "              proletarian 2.02814824729\n",
        "                 idealism 1.8458266905\n",
        "                   toilet 1.8458266905\n",
        "              materialism 1.8458266905\n",
        "                 strategy 1.8458266905\n",
        "                      war 1.8458266905\n",
        "               philosophy 1.8458266905\n",
        "                    money 1.69167601067\n",
        "              imperialism 1.69167601067\n",
        "               capitalism 1.69167601067\n",
        "                   theory 1.55814461805\n",
        "                     hair 1.55814461805\n",
        "      television_receiver 1.44036158239\n",
        "                      car 1.44036158239\n",
        "                    sugar 1.15267950994\n",
        "                     lion 1.07263680226\n",
        "experience"
       ]
      },
      {
       "output_type": "stream",
       "stream": "stdout",
       "text": [
        "\n",
        "works"
       ]
      },
      {
       "output_type": "stream",
       "stream": "stdout",
       "text": [
        "\n",
        "motion"
       ]
      },
      {
       "output_type": "stream",
       "stream": "stdout",
       "text": [
        "\n",
        "sensation"
       ]
      },
      {
       "output_type": "stream",
       "stream": "stdout",
       "text": [
        "\n",
        "space"
       ]
      },
      {
       "output_type": "stream",
       "stream": "stdout",
       "text": [
        "\n",
        "time"
       ]
      },
      {
       "output_type": "stream",
       "stream": "stdout",
       "text": [
        "\n",
        "motion"
       ]
      },
      {
       "output_type": "stream",
       "stream": "stdout",
       "text": [
        "\n",
        "social"
       ]
      },
      {
       "output_type": "stream",
       "stream": "stdout",
       "text": [
        "\n",
        "general"
       ]
      },
      {
       "output_type": "stream",
       "stream": "stdout",
       "text": [
        "\n",
        "general"
       ]
      },
      {
       "output_type": "stream",
       "stream": "stdout",
       "text": [
        "\n",
        "time"
       ]
      },
      {
       "output_type": "stream",
       "stream": "stdout",
       "text": [
        "\n",
        "objective"
       ]
      },
      {
       "output_type": "stream",
       "stream": "stdout",
       "text": [
        "\n",
        "objective"
       ]
      },
      {
       "output_type": "stream",
       "stream": "stdout",
       "text": [
        "\n",
        "physics"
       ]
      },
      {
       "output_type": "stream",
       "stream": "stdout",
       "text": [
        "\n",
        "general"
       ]
      },
      {
       "output_type": "stream",
       "stream": "stdout",
       "text": [
        "\n",
        "motion"
       ]
      },
      {
       "output_type": "stream",
       "stream": "stdout",
       "text": [
        "\n",
        "physics"
       ]
      },
      {
       "output_type": "stream",
       "stream": "stdout",
       "text": [
        "\n",
        "experience"
       ]
      },
      {
       "output_type": "stream",
       "stream": "stdout",
       "text": [
        "\n",
        "==============================\n",
        "lin_similarity\n",
        "None\n",
        "               philosophy 0.619941000616\n",
        "                 strategy 0.529421413479\n",
        "                   theory 0.529419405948\n",
        "               revolution 0.501528714411\n",
        "                      car 0.379201045998\n",
        "                    money 0.378850360998\n",
        "                      war 0.352309191252\n",
        "              materialism 0.340082790393\n",
        "      television_receiver 0.332584311437\n",
        "                 idealism 0.325824183018\n",
        "                 practice 0.319651726399\n",
        "                   toilet 0.296346253722\n",
        "               capitalism 0.27940619133\n",
        "              proletarian 0.275623403177\n",
        "              imperialism 0.260526055611\n",
        "                     lion 0.243481690164\n",
        "                     hair 0.203310572065\n",
        "                    sugar 0.0931898726307\n",
        "experience"
       ]
      },
      {
       "output_type": "stream",
       "stream": "stdout",
       "text": [
        "\n",
        "motion"
       ]
      },
      {
       "output_type": "stream",
       "stream": "stdout",
       "text": [
        "\n",
        "motion"
       ]
      },
      {
       "output_type": "stream",
       "stream": "stdout",
       "text": [
        "\n",
        "sensation"
       ]
      },
      {
       "output_type": "stream",
       "stream": "stdout",
       "text": [
        "\n",
        "space"
       ]
      },
      {
       "output_type": "stream",
       "stream": "stdout",
       "text": [
        "\n",
        "time"
       ]
      },
      {
       "output_type": "stream",
       "stream": "stdout",
       "text": [
        "\n",
        "motion"
       ]
      },
      {
       "output_type": "stream",
       "stream": "stdout",
       "text": [
        "\n",
        "social"
       ]
      },
      {
       "output_type": "stream",
       "stream": "stdout",
       "text": [
        "\n",
        "space"
       ]
      },
      {
       "output_type": "stream",
       "stream": "stdout",
       "text": [
        "\n",
        "general"
       ]
      },
      {
       "output_type": "stream",
       "stream": "stdout",
       "text": [
        "\n",
        "time"
       ]
      },
      {
       "output_type": "stream",
       "stream": "stdout",
       "text": [
        "\n",
        "works"
       ]
      },
      {
       "output_type": "stream",
       "stream": "stdout",
       "text": [
        "\n",
        "works"
       ]
      },
      {
       "output_type": "stream",
       "stream": "stdout",
       "text": [
        "\n",
        "physics"
       ]
      },
      {
       "output_type": "stream",
       "stream": "stdout",
       "text": [
        "\n",
        "general"
       ]
      },
      {
       "output_type": "stream",
       "stream": "stdout",
       "text": [
        "\n",
        "motion"
       ]
      },
      {
       "output_type": "stream",
       "stream": "stdout",
       "text": [
        "\n",
        "physics"
       ]
      },
      {
       "output_type": "stream",
       "stream": "stdout",
       "text": [
        "\n",
        "experience"
       ]
      },
      {
       "output_type": "stream",
       "stream": "stdout",
       "text": [
        "\n",
        "==============================\n",
        "jcn_similarity\n",
        "None\n",
        "               philosophy 0.145932703696\n",
        "                   theory 0.128286683846\n",
        "               revolution 0.12410710513\n",
        "                      war 0.116614732958\n",
        "                    money 0.113321204917\n",
        "                 practice 0.100726315955\n",
        "                 strategy 0.100652051627\n",
        "                      car 0.0968611991406\n",
        "                     hair 0.088588450972\n",
        "                   toilet 0.0832824361253\n",
        "              proletarian 0.08152775037\n",
        "      television_receiver 0.0785401473185\n",
        "              materialism 0.0782651156903\n",
        "                 idealism 0.0733978223994\n",
        "                     lion 0.0723523602638\n",
        "               capitalism 0.0678992095349\n",
        "              imperialism 0.0666118194652\n",
        "                    sugar 0.0640882561837\n",
        "physics"
       ]
      },
      {
       "output_type": "stream",
       "stream": "stdout",
       "text": [
        "\n",
        "works"
       ]
      },
      {
       "output_type": "stream",
       "stream": "stdout",
       "text": [
        "\n",
        "time"
       ]
      },
      {
       "output_type": "stream",
       "stream": "stdout",
       "text": [
        "\n",
        "sensation"
       ]
      },
      {
       "output_type": "stream",
       "stream": "stdout",
       "text": [
        "\n",
        "space"
       ]
      },
      {
       "output_type": "stream",
       "stream": "stdout",
       "text": [
        "\n",
        "space"
       ]
      },
      {
       "output_type": "stream",
       "stream": "stdout",
       "text": [
        "\n",
        "motion"
       ]
      },
      {
       "output_type": "stream",
       "stream": "stdout",
       "text": [
        "\n",
        "social"
       ]
      },
      {
       "output_type": "stream",
       "stream": "stdout",
       "text": [
        "\n",
        "space"
       ]
      },
      {
       "output_type": "stream",
       "stream": "stdout",
       "text": [
        "\n",
        "sensation"
       ]
      },
      {
       "output_type": "stream",
       "stream": "stdout",
       "text": [
        "\n",
        "physics"
       ]
      },
      {
       "output_type": "stream",
       "stream": "stdout",
       "text": [
        "\n",
        "objective"
       ]
      },
      {
       "output_type": "stream",
       "stream": "stdout",
       "text": [
        "\n",
        "objective"
       ]
      },
      {
       "output_type": "stream",
       "stream": "stdout",
       "text": [
        "\n",
        "physics"
       ]
      },
      {
       "output_type": "stream",
       "stream": "stdout",
       "text": [
        "\n",
        "sensation"
       ]
      },
      {
       "output_type": "stream",
       "stream": "stdout",
       "text": [
        "\n",
        "motion"
       ]
      },
      {
       "output_type": "stream",
       "stream": "stdout",
       "text": [
        "\n",
        "physics"
       ]
      },
      {
       "output_type": "stream",
       "stream": "stdout",
       "text": [
        "\n",
        "physics"
       ]
      },
      {
       "output_type": "stream",
       "stream": "stdout",
       "text": [
        "\n",
        "==============================\n",
        "res_similarity\n",
        "None\n",
        "                 strategy 5.58877614988\n",
        "               philosophy 5.58877614988\n",
        "                   theory 4.38484522248\n",
        "               revolution 4.05348916032\n",
        "                 idealism 3.29228159341\n",
        "              materialism 3.29228159341\n",
        "      television_receiver 3.25767902589\n",
        "                      car 3.25767902589\n",
        "                   toilet 3.14352023311\n",
        "               capitalism 2.85529368615\n",
        "                    money 2.69110280536\n",
        "              imperialism 2.64452085446\n",
        "              proletarian 2.33354524374\n",
        "                 practice 2.33223775508\n",
        "                      war 2.33223775508\n",
        "                     lion 2.22415047123\n",
        "                     hair 1.53183374322\n",
        "                    sugar 0.801759114954\n",
        "*****************\n",
        "Lenin: What Is To Be Done?\n",
        "*****************\n",
        "local"
       ]
      },
      {
       "output_type": "stream",
       "stream": "stdout",
       "text": [
        "\n",
        "organisation\n",
        "abroad\n",
        "union\n",
        "criticism\n",
        "economic\n",
        "political\n",
        "revolutionaries\n",
        "freedom\n",
        "newspapers\n",
        "workers\n",
        "nadezhdin\n",
        "consciousness\n",
        "newspaper\n",
        "bourgeois\n",
        "masses\n",
        "martynov\n",
        "would\n",
        "movement\n",
        "german\n",
        "---------------\n",
        "organisation"
       ]
      },
      {
       "output_type": "stream",
       "stream": "stdout",
       "text": [
        "\n",
        "organisation"
       ]
      },
      {
       "output_type": "stream",
       "stream": "stdout",
       "text": [
        "\n",
        "union"
       ]
      },
      {
       "output_type": "stream",
       "stream": "stdout",
       "text": [
        "\n",
        "consciousness"
       ]
      },
      {
       "output_type": "stream",
       "stream": "stdout",
       "text": [
        "\n",
        "local"
       ]
      },
      {
       "output_type": "stream",
       "stream": "stdout",
       "text": [
        "\n",
        "masses"
       ]
      },
      {
       "output_type": "stream",
       "stream": "stdout",
       "text": [
        "\n",
        "organisation"
       ]
      },
      {
       "output_type": "stream",
       "stream": "stdout",
       "text": [
        "\n",
        "masses"
       ]
      },
      {
       "output_type": "stream",
       "stream": "stdout",
       "text": [
        "\n",
        "newspapers"
       ]
      },
      {
       "output_type": "stream",
       "stream": "stdout",
       "text": [
        "\n",
        "workers"
       ]
      },
      {
       "output_type": "stream",
       "stream": "stdout",
       "text": [
        "\n",
        "movement"
       ]
      },
      {
       "output_type": "stream",
       "stream": "stdout",
       "text": [
        "\n",
        "local"
       ]
      },
      {
       "output_type": "stream",
       "stream": "stdout",
       "text": [
        "\n",
        "local"
       ]
      },
      {
       "output_type": "stream",
       "stream": "stdout",
       "text": [
        "\n",
        "organisation"
       ]
      },
      {
       "output_type": "stream",
       "stream": "stdout",
       "text": [
        "\n",
        "workers"
       ]
      },
      {
       "output_type": "stream",
       "stream": "stdout",
       "text": [
        "\n",
        "organisation"
       ]
      },
      {
       "output_type": "stream",
       "stream": "stdout",
       "text": [
        "\n",
        "organisation"
       ]
      },
      {
       "output_type": "stream",
       "stream": "stdout",
       "text": [
        "\n",
        "organisation"
       ]
      },
      {
       "output_type": "stream",
       "stream": "stdout",
       "text": [
        "\n",
        "==============================\n",
        "path_similarity\n",
        "None\n",
        "              proletarian        1.0\n",
        "               revolution       0.25\n",
        "                 practice        0.2\n",
        "                   toilet 0.166666666667\n",
        "                   theory 0.166666666667\n",
        "              imperialism 0.166666666667\n",
        "               capitalism 0.166666666667\n",
        "                      war 0.166666666667\n",
        "                 idealism      0.125\n",
        "                    money      0.125\n",
        "              materialism      0.125\n",
        "                 strategy      0.125\n",
        "               philosophy      0.125\n",
        "                      car      0.125\n",
        "                     hair 0.111111111111\n",
        "      television_receiver 0.111111111111\n",
        "                    sugar 0.0909090909091\n",
        "                     lion 0.0833333333333\n",
        "organisation"
       ]
      },
      {
       "output_type": "stream",
       "stream": "stdout",
       "text": [
        "\n",
        "organisation"
       ]
      },
      {
       "output_type": "stream",
       "stream": "stdout",
       "text": [
        "\n",
        "union"
       ]
      },
      {
       "output_type": "stream",
       "stream": "stdout",
       "text": [
        "\n",
        "consciousness"
       ]
      },
      {
       "output_type": "stream",
       "stream": "stdout",
       "text": [
        "\n",
        "local"
       ]
      },
      {
       "output_type": "stream",
       "stream": "stdout",
       "text": [
        "\n",
        "masses"
       ]
      },
      {
       "output_type": "stream",
       "stream": "stdout",
       "text": [
        "\n",
        "organisation"
       ]
      },
      {
       "output_type": "stream",
       "stream": "stdout",
       "text": [
        "\n",
        "masses"
       ]
      },
      {
       "output_type": "stream",
       "stream": "stdout",
       "text": [
        "\n",
        "newspapers"
       ]
      },
      {
       "output_type": "stream",
       "stream": "stdout",
       "text": [
        "\n",
        "workers"
       ]
      },
      {
       "output_type": "stream",
       "stream": "stdout",
       "text": [
        "\n",
        "movement"
       ]
      },
      {
       "output_type": "stream",
       "stream": "stdout",
       "text": [
        "\n",
        "local"
       ]
      },
      {
       "output_type": "stream",
       "stream": "stdout",
       "text": [
        "\n",
        "local"
       ]
      },
      {
       "output_type": "stream",
       "stream": "stdout",
       "text": [
        "\n",
        "organisation"
       ]
      },
      {
       "output_type": "stream",
       "stream": "stdout",
       "text": [
        "\n",
        "workers"
       ]
      },
      {
       "output_type": "stream",
       "stream": "stdout",
       "text": [
        "\n",
        "organisation"
       ]
      },
      {
       "output_type": "stream",
       "stream": "stdout",
       "text": [
        "\n",
        "organisation"
       ]
      },
      {
       "output_type": "stream",
       "stream": "stdout",
       "text": [
        "\n",
        "organisation"
       ]
      },
      {
       "output_type": "stream",
       "stream": "stdout",
       "text": [
        "\n",
        "==============================\n",
        "lch_similarity\n",
        "None\n",
        "              proletarian 3.63758615973\n",
        "               revolution 2.25129179861\n",
        "                 practice 2.02814824729\n",
        "                   toilet 1.8458266905\n",
        "                   theory 1.8458266905\n",
        "              imperialism 1.8458266905\n",
        "               capitalism 1.8458266905\n",
        "                      war 1.8458266905\n",
        "                 idealism 1.55814461805\n",
        "                    money 1.55814461805\n",
        "              materialism 1.55814461805\n",
        "                 strategy 1.55814461805\n",
        "               philosophy 1.55814461805\n",
        "                      car 1.55814461805\n",
        "                     hair 1.44036158239\n",
        "      television_receiver 1.44036158239\n",
        "                    sugar 1.23969088693\n",
        "                     lion 1.15267950994\n",
        "organisation"
       ]
      },
      {
       "output_type": "stream",
       "stream": "stdout",
       "text": [
        "\n",
        "movement"
       ]
      },
      {
       "output_type": "stream",
       "stream": "stdout",
       "text": [
        "\n",
        "movement"
       ]
      },
      {
       "output_type": "stream",
       "stream": "stdout",
       "text": [
        "\n",
        "consciousness"
       ]
      },
      {
       "output_type": "stream",
       "stream": "stdout",
       "text": [
        "\n",
        "local"
       ]
      },
      {
       "output_type": "stream",
       "stream": "stdout",
       "text": [
        "\n",
        "organisation"
       ]
      },
      {
       "output_type": "stream",
       "stream": "stdout",
       "text": [
        "\n",
        "movement"
       ]
      },
      {
       "output_type": "stream",
       "stream": "stdout",
       "text": [
        "\n",
        "organisation"
       ]
      },
      {
       "output_type": "stream",
       "stream": "stdout",
       "text": [
        "\n",
        "workers"
       ]
      },
      {
       "output_type": "stream",
       "stream": "stdout",
       "text": [
        "\n",
        "workers"
       ]
      },
      {
       "output_type": "stream",
       "stream": "stdout",
       "text": [
        "\n",
        "movement"
       ]
      },
      {
       "output_type": "stream",
       "stream": "stdout",
       "text": [
        "\n",
        "newspapers"
       ]
      },
      {
       "output_type": "stream",
       "stream": "stdout",
       "text": [
        "\n",
        "local"
       ]
      },
      {
       "output_type": "stream",
       "stream": "stdout",
       "text": [
        "\n",
        "organisation"
       ]
      },
      {
       "output_type": "stream",
       "stream": "stdout",
       "text": [
        "\n",
        "workers"
       ]
      },
      {
       "output_type": "stream",
       "stream": "stdout",
       "text": [
        "\n",
        "organisation"
       ]
      },
      {
       "output_type": "stream",
       "stream": "stdout",
       "text": [
        "\n",
        "organisation"
       ]
      },
      {
       "output_type": "stream",
       "stream": "stdout",
       "text": [
        "\n",
        "organisation"
       ]
      },
      {
       "output_type": "stream",
       "stream": "stdout",
       "text": [
        "\n",
        "==============================\n",
        "lin_similarity\n",
        "None\n",
        "              proletarian        1.0\n",
        "                      car 0.702880218461\n",
        "                   theory 0.576851690261\n",
        "              imperialism 0.53254850484\n",
        "                      war 0.522421412305\n",
        "               revolution 0.501528714411\n",
        "                     lion 0.491490657562\n",
        "                    sugar 0.461833980698\n",
        "               capitalism 0.366071452787\n",
        "      television_receiver 0.356914166707\n",
        "               philosophy 0.34298820812\n",
        "                   toilet 0.331203589827\n",
        "                 practice 0.319651726399\n",
        "                 strategy 0.28584438696\n",
        "              materialism 0.269184993399\n",
        "                 idealism 0.25805678512\n",
        "                     hair 0.248092928538\n",
        "                    money 0.0997957160373\n",
        "organisation"
       ]
      },
      {
       "output_type": "stream",
       "stream": "stdout",
       "text": [
        "\n",
        "movement"
       ]
      },
      {
       "output_type": "stream",
       "stream": "stdout",
       "text": [
        "\n",
        "movement"
       ]
      },
      {
       "output_type": "stream",
       "stream": "stdout",
       "text": [
        "\n",
        "consciousness"
       ]
      },
      {
       "output_type": "stream",
       "stream": "stdout",
       "text": [
        "\n",
        "local"
       ]
      },
      {
       "output_type": "stream",
       "stream": "stdout",
       "text": [
        "\n",
        "organisation"
       ]
      },
      {
       "output_type": "stream",
       "stream": "stdout",
       "text": [
        "\n",
        "movement"
       ]
      },
      {
       "output_type": "stream",
       "stream": "stdout",
       "text": [
        "\n",
        "organisation"
       ]
      },
      {
       "output_type": "stream",
       "stream": "stdout",
       "text": [
        "\n",
        "workers"
       ]
      },
      {
       "output_type": "stream",
       "stream": "stdout",
       "text": [
        "\n",
        "workers"
       ]
      },
      {
       "output_type": "stream",
       "stream": "stdout",
       "text": [
        "\n",
        "movement"
       ]
      },
      {
       "output_type": "stream",
       "stream": "stdout",
       "text": [
        "\n",
        "workers"
       ]
      },
      {
       "output_type": "stream",
       "stream": "stdout",
       "text": [
        "\n",
        "local"
       ]
      },
      {
       "output_type": "stream",
       "stream": "stdout",
       "text": [
        "\n",
        "organisation"
       ]
      },
      {
       "output_type": "stream",
       "stream": "stdout",
       "text": [
        "\n",
        "workers"
       ]
      },
      {
       "output_type": "stream",
       "stream": "stdout",
       "text": [
        "\n",
        "organisation"
       ]
      },
      {
       "output_type": "stream",
       "stream": "stdout",
       "text": [
        "\n",
        "organisation"
       ]
      },
      {
       "output_type": "stream",
       "stream": "stdout",
       "text": [
        "\n",
        "organisation"
       ]
      },
      {
       "output_type": "stream",
       "stream": "stdout",
       "text": [
        "\n",
        "==============================\n",
        "jcn_similarity\n",
        "None\n",
        "              proletarian     1e+300\n",
        "                      car 0.205033607022\n",
        "                   theory 0.135687824974\n",
        "               revolution 0.12410710513\n",
        "                      war 0.12090313989\n",
        "                     hair 0.107698235698\n",
        "               capitalism 0.101121795595\n",
        "                 practice 0.100726315955\n",
        "               philosophy 0.0987027000784\n",
        "                     lion 0.097708241356\n",
        "              imperialism 0.0943185135905\n",
        "                    sugar 0.0929714058017\n",
        "                    money 0.0929667353193\n",
        "      television_receiver 0.0873062903722\n",
        "                   toilet 0.0832824361253\n",
        "                 strategy 0.0756762882437\n",
        "              materialism 0.0696412241652\n",
        "                 idealism 0.0657608810485\n",
        "organisation"
       ]
      },
      {
       "output_type": "stream",
       "stream": "stdout",
       "text": [
        "\n",
        "organisation"
       ]
      },
      {
       "output_type": "stream",
       "stream": "stdout",
       "text": [
        "\n",
        "union"
       ]
      },
      {
       "output_type": "stream",
       "stream": "stdout",
       "text": [
        "\n",
        "consciousness"
       ]
      },
      {
       "output_type": "stream",
       "stream": "stdout",
       "text": [
        "\n",
        "local"
       ]
      },
      {
       "output_type": "stream",
       "stream": "stdout",
       "text": [
        "\n",
        "organisation"
       ]
      },
      {
       "output_type": "stream",
       "stream": "stdout",
       "text": [
        "\n",
        "organisation"
       ]
      },
      {
       "output_type": "stream",
       "stream": "stdout",
       "text": [
        "\n",
        "organisation"
       ]
      },
      {
       "output_type": "stream",
       "stream": "stdout",
       "text": [
        "\n",
        "local"
       ]
      },
      {
       "output_type": "stream",
       "stream": "stdout",
       "text": [
        "\n",
        "workers"
       ]
      },
      {
       "output_type": "stream",
       "stream": "stdout",
       "text": [
        "\n",
        "movement"
       ]
      },
      {
       "output_type": "stream",
       "stream": "stdout",
       "text": [
        "\n",
        "local"
       ]
      },
      {
       "output_type": "stream",
       "stream": "stdout",
       "text": [
        "\n",
        "local"
       ]
      },
      {
       "output_type": "stream",
       "stream": "stdout",
       "text": [
        "\n",
        "organisation"
       ]
      },
      {
       "output_type": "stream",
       "stream": "stdout",
       "text": [
        "\n",
        "workers"
       ]
      },
      {
       "output_type": "stream",
       "stream": "stdout",
       "text": [
        "\n",
        "organisation"
       ]
      },
      {
       "output_type": "stream",
       "stream": "stdout",
       "text": [
        "\n",
        "organisation"
       ]
      },
      {
       "output_type": "stream",
       "stream": "stdout",
       "text": [
        "\n",
        "organisation"
       ]
      },
      {
       "output_type": "stream",
       "stream": "stdout",
       "text": [
        "\n",
        "==============================\n",
        "res_similarity\n",
        "None\n",
        "              proletarian 9.6949152886\n",
        "              imperialism 6.03942612003\n",
        "                      car 5.76892251967\n",
        "                   theory 5.02343378939\n",
        "                     lion 4.94601169072\n",
        "                    sugar 4.61519673162\n",
        "                      war 4.52385364841\n",
        "               revolution 4.05348916032\n",
        "      television_receiver 3.25767902589\n",
        "                   toilet 3.14352023311\n",
        "               capitalism 2.85529368615\n",
        "                 idealism 2.64452085446\n",
        "              materialism 2.64452085446\n",
        "                 strategy 2.64452085446\n",
        "               philosophy 2.64452085446\n",
        "                 practice 2.33223775508\n",
        "                     hair 1.53183374322\n",
        "                    money 0.596229207898\n",
        "*****************\n",
        "Lenin: The Agrarian Programme of Social-Democracy in the First Russian Revolution, 1905-1907\n",
        "*****************\n",
        "rent"
       ]
      },
      {
       "output_type": "stream",
       "stream": "stdout",
       "text": [
        "\n",
        "dessiatins\n",
        "000\n",
        "land\n",
        "maslov\n",
        "peasants\n",
        "capital\n",
        "revolution\n",
        "marx\n",
        "people\n",
        "nationalisation\n",
        "plekhanov\n",
        "restoration\n",
        "right\n",
        "latifundia\n",
        "private\n",
        "farming\n",
        "free\n",
        "central\n",
        "lands\n",
        "---------------\n",
        "right"
       ]
      },
      {
       "output_type": "stream",
       "stream": "stdout",
       "text": [
        "\n",
        "land"
       ]
      },
      {
       "output_type": "stream",
       "stream": "stdout",
       "text": [
        "\n",
        "revolution"
       ]
      },
      {
       "output_type": "stream",
       "stream": "stdout",
       "text": [
        "\n",
        "revolution"
       ]
      },
      {
       "output_type": "stream",
       "stream": "stdout",
       "text": [
        "\n",
        "land"
       ]
      },
      {
       "output_type": "stream",
       "stream": "stdout",
       "text": [
        "\n",
        "people"
       ]
      },
      {
       "output_type": "stream",
       "stream": "stdout",
       "text": [
        "\n",
        "revolution"
       ]
      },
      {
       "output_type": "stream",
       "stream": "stdout",
       "text": [
        "\n",
        "people"
       ]
      },
      {
       "output_type": "stream",
       "stream": "stdout",
       "text": [
        "\n",
        "land"
       ]
      },
      {
       "output_type": "stream",
       "stream": "stdout",
       "text": [
        "\n",
        "land"
       ]
      },
      {
       "output_type": "stream",
       "stream": "stdout",
       "text": [
        "\n",
        "revolution"
       ]
      },
      {
       "output_type": "stream",
       "stream": "stdout",
       "text": [
        "\n",
        "restoration"
       ]
      },
      {
       "output_type": "stream",
       "stream": "stdout",
       "text": [
        "\n",
        "restoration"
       ]
      },
      {
       "output_type": "stream",
       "stream": "stdout",
       "text": [
        "\n",
        "right"
       ]
      },
      {
       "output_type": "stream",
       "stream": "stdout",
       "text": [
        "\n",
        "peasants"
       ]
      },
      {
       "output_type": "stream",
       "stream": "stdout",
       "text": [
        "\n",
        "revolution"
       ]
      },
      {
       "output_type": "stream",
       "stream": "stdout",
       "text": [
        "\n",
        "right"
       ]
      },
      {
       "output_type": "stream",
       "stream": "stdout",
       "text": [
        "\n",
        "right"
       ]
      },
      {
       "output_type": "stream",
       "stream": "stdout",
       "text": [
        "\n",
        "==============================\n",
        "path_similarity\n",
        "None\n",
        "               revolution        1.0\n",
        "              proletarian       0.25\n",
        "                      war       0.25\n",
        "                 practice        0.2\n",
        "               capitalism 0.166666666667\n",
        "                   toilet 0.142857142857\n",
        "                     hair 0.142857142857\n",
        "                    money      0.125\n",
        "      television_receiver      0.125\n",
        "                      car      0.125\n",
        "                 idealism 0.111111111111\n",
        "              materialism 0.111111111111\n",
        "                 strategy 0.111111111111\n",
        "              imperialism 0.111111111111\n",
        "               philosophy 0.111111111111\n",
        "                   theory        0.1\n",
        "                    sugar 0.0909090909091\n",
        "                     lion 0.0714285714286\n",
        "right"
       ]
      },
      {
       "output_type": "stream",
       "stream": "stdout",
       "text": [
        "\n",
        "land"
       ]
      },
      {
       "output_type": "stream",
       "stream": "stdout",
       "text": [
        "\n",
        "revolution"
       ]
      },
      {
       "output_type": "stream",
       "stream": "stdout",
       "text": [
        "\n",
        "revolution"
       ]
      },
      {
       "output_type": "stream",
       "stream": "stdout",
       "text": [
        "\n",
        "land"
       ]
      },
      {
       "output_type": "stream",
       "stream": "stdout",
       "text": [
        "\n",
        "people"
       ]
      },
      {
       "output_type": "stream",
       "stream": "stdout",
       "text": [
        "\n",
        "revolution"
       ]
      },
      {
       "output_type": "stream",
       "stream": "stdout",
       "text": [
        "\n",
        "people"
       ]
      },
      {
       "output_type": "stream",
       "stream": "stdout",
       "text": [
        "\n",
        "land"
       ]
      },
      {
       "output_type": "stream",
       "stream": "stdout",
       "text": [
        "\n",
        "land"
       ]
      },
      {
       "output_type": "stream",
       "stream": "stdout",
       "text": [
        "\n",
        "revolution"
       ]
      },
      {
       "output_type": "stream",
       "stream": "stdout",
       "text": [
        "\n",
        "restoration"
       ]
      },
      {
       "output_type": "stream",
       "stream": "stdout",
       "text": [
        "\n",
        "restoration"
       ]
      },
      {
       "output_type": "stream",
       "stream": "stdout",
       "text": [
        "\n",
        "right"
       ]
      },
      {
       "output_type": "stream",
       "stream": "stdout",
       "text": [
        "\n",
        "peasants"
       ]
      },
      {
       "output_type": "stream",
       "stream": "stdout",
       "text": [
        "\n",
        "revolution"
       ]
      },
      {
       "output_type": "stream",
       "stream": "stdout",
       "text": [
        "\n",
        "right"
       ]
      },
      {
       "output_type": "stream",
       "stream": "stdout",
       "text": [
        "\n",
        "right"
       ]
      },
      {
       "output_type": "stream",
       "stream": "stdout",
       "text": [
        "\n",
        "==============================\n",
        "lch_similarity\n",
        "None\n",
        "               revolution 3.63758615973\n",
        "              proletarian 2.25129179861\n",
        "                      war 2.25129179861\n",
        "                 practice 2.02814824729\n",
        "               capitalism 1.8458266905\n",
        "                   toilet 1.69167601067\n",
        "                     hair 1.69167601067\n",
        "                    money 1.55814461805\n",
        "      television_receiver 1.55814461805\n",
        "                      car 1.55814461805\n",
        "                 idealism 1.44036158239\n",
        "              materialism 1.44036158239\n",
        "                 strategy 1.44036158239\n",
        "              imperialism 1.44036158239\n",
        "               philosophy 1.44036158239\n",
        "                   theory 1.33500106673\n",
        "                    sugar 1.23969088693\n",
        "                     lion 0.998528830111\n",
        "right"
       ]
      },
      {
       "output_type": "stream",
       "stream": "stdout",
       "text": [
        "\n",
        "land"
       ]
      },
      {
       "output_type": "stream",
       "stream": "stdout",
       "text": [
        "\n",
        "revolution"
       ]
      },
      {
       "output_type": "stream",
       "stream": "stdout",
       "text": [
        "\n",
        "right"
       ]
      },
      {
       "output_type": "stream",
       "stream": "stdout",
       "text": [
        "\n",
        "land"
       ]
      },
      {
       "output_type": "stream",
       "stream": "stdout",
       "text": [
        "\n",
        "people"
       ]
      },
      {
       "output_type": "stream",
       "stream": "stdout",
       "text": [
        "\n",
        "right"
       ]
      },
      {
       "output_type": "stream",
       "stream": "stdout",
       "text": [
        "\n",
        "people"
       ]
      },
      {
       "output_type": "stream",
       "stream": "stdout",
       "text": [
        "\n",
        "land"
       ]
      },
      {
       "output_type": "stream",
       "stream": "stdout",
       "text": [
        "\n",
        "private"
       ]
      },
      {
       "output_type": "stream",
       "stream": "stdout",
       "text": [
        "\n",
        "right"
       ]
      },
      {
       "output_type": "stream",
       "stream": "stdout",
       "text": [
        "\n",
        "restoration"
       ]
      },
      {
       "output_type": "stream",
       "stream": "stdout",
       "text": [
        "\n",
        "restoration"
       ]
      },
      {
       "output_type": "stream",
       "stream": "stdout",
       "text": [
        "\n",
        "right"
       ]
      },
      {
       "output_type": "stream",
       "stream": "stdout",
       "text": [
        "\n",
        "peasants"
       ]
      },
      {
       "output_type": "stream",
       "stream": "stdout",
       "text": [
        "\n",
        "revolution"
       ]
      },
      {
       "output_type": "stream",
       "stream": "stdout",
       "text": [
        "\n",
        "right"
       ]
      },
      {
       "output_type": "stream",
       "stream": "stdout",
       "text": [
        "\n",
        "right"
       ]
      },
      {
       "output_type": "stream",
       "stream": "stdout",
       "text": [
        "\n",
        "==============================\n",
        "lin_similarity\n",
        "None\n",
        "               revolution        1.0\n",
        "              proletarian 0.867659956556\n",
        "                      war 0.490875072994\n",
        "               philosophy 0.443652880388\n",
        "                 strategy 0.36735103879\n",
        "              materialism 0.345291527293\n",
        "               capitalism 0.334654457361\n",
        "                   theory 0.332444641747\n",
        "                 idealism 0.330602235825\n",
        "                   toilet 0.305244618627\n",
        "                 practice 0.262990660119\n",
        "              imperialism 0.260257522168\n",
        "                      car 0.233451467632\n",
        "                     lion 0.216175868952\n",
        "      television_receiver 0.20808367602\n",
        "                     hair 0.185792500123\n",
        "                    sugar 0.0930896185493\n",
        "                    money 0.0889000537897\n",
        "right"
       ]
      },
      {
       "output_type": "stream",
       "stream": "stdout",
       "text": [
        "\n",
        "land"
       ]
      },
      {
       "output_type": "stream",
       "stream": "stdout",
       "text": [
        "\n",
        "revolution"
       ]
      },
      {
       "output_type": "stream",
       "stream": "stdout",
       "text": [
        "\n",
        "right"
       ]
      },
      {
       "output_type": "stream",
       "stream": "stdout",
       "text": [
        "\n",
        "land"
       ]
      },
      {
       "output_type": "stream",
       "stream": "stdout",
       "text": [
        "\n",
        "people"
       ]
      },
      {
       "output_type": "stream",
       "stream": "stdout",
       "text": [
        "\n",
        "right"
       ]
      },
      {
       "output_type": "stream",
       "stream": "stdout",
       "text": [
        "\n",
        "people"
       ]
      },
      {
       "output_type": "stream",
       "stream": "stdout",
       "text": [
        "\n",
        "land"
       ]
      },
      {
       "output_type": "stream",
       "stream": "stdout",
       "text": [
        "\n",
        "land"
       ]
      },
      {
       "output_type": "stream",
       "stream": "stdout",
       "text": [
        "\n",
        "right"
       ]
      },
      {
       "output_type": "stream",
       "stream": "stdout",
       "text": [
        "\n",
        "land"
       ]
      },
      {
       "output_type": "stream",
       "stream": "stdout",
       "text": [
        "\n",
        "land"
       ]
      },
      {
       "output_type": "stream",
       "stream": "stdout",
       "text": [
        "\n",
        "right"
       ]
      },
      {
       "output_type": "stream",
       "stream": "stdout",
       "text": [
        "\n",
        "peasants"
       ]
      },
      {
       "output_type": "stream",
       "stream": "stdout",
       "text": [
        "\n",
        "revolution"
       ]
      },
      {
       "output_type": "stream",
       "stream": "stdout",
       "text": [
        "\n",
        "right"
       ]
      },
      {
       "output_type": "stream",
       "stream": "stdout",
       "text": [
        "\n",
        "right"
       ]
      },
      {
       "output_type": "stream",
       "stream": "stdout",
       "text": [
        "\n",
        "==============================\n",
        "jcn_similarity\n",
        "None\n",
        "               revolution     1e+300\n",
        "              proletarian 0.363995193783\n",
        "               philosophy 0.121107347414\n",
        "                      war 0.106563401763\n",
        "                   theory 0.0941575304702\n",
        "                      car 0.0903577501322\n",
        "                     hair 0.0884432572523\n",
        "                 strategy 0.0881843470125\n",
        "               capitalism 0.0880782305893\n",
        "                    money 0.0818262709787\n",
        "              materialism 0.0800960300724\n",
        "                 practice 0.0774154270469\n",
        "                 idealism 0.075005750215\n",
        "      television_receiver 0.0742092466431\n",
        "                   toilet 0.069882726556\n",
        "                     lion 0.0689306688111\n",
        "              imperialism 0.066519004511\n",
        "                    sugar 0.0640122327597\n",
        "right"
       ]
      },
      {
       "output_type": "stream",
       "stream": "stdout",
       "text": [
        "\n",
        "land"
       ]
      },
      {
       "output_type": "stream",
       "stream": "stdout",
       "text": [
        "\n",
        "revolution"
       ]
      },
      {
       "output_type": "stream",
       "stream": "stdout",
       "text": [
        "\n",
        "right"
       ]
      },
      {
       "output_type": "stream",
       "stream": "stdout",
       "text": [
        "\n",
        "rent"
       ]
      },
      {
       "output_type": "stream",
       "stream": "stdout",
       "text": [
        "\n",
        "rent"
       ]
      },
      {
       "output_type": "stream",
       "stream": "stdout",
       "text": [
        "\n",
        "rent"
       ]
      },
      {
       "output_type": "stream",
       "stream": "stdout",
       "text": [
        "\n",
        "land"
       ]
      },
      {
       "output_type": "stream",
       "stream": "stdout",
       "text": [
        "\n",
        "peasants"
       ]
      },
      {
       "output_type": "stream",
       "stream": "stdout",
       "text": [
        "\n",
        "peasants"
       ]
      },
      {
       "output_type": "stream",
       "stream": "stdout",
       "text": [
        "\n",
        "right"
       ]
      },
      {
       "output_type": "stream",
       "stream": "stdout",
       "text": [
        "\n",
        "restoration"
       ]
      },
      {
       "output_type": "stream",
       "stream": "stdout",
       "text": [
        "\n",
        "restoration"
       ]
      },
      {
       "output_type": "stream",
       "stream": "stdout",
       "text": [
        "\n",
        "right"
       ]
      },
      {
       "output_type": "stream",
       "stream": "stdout",
       "text": [
        "\n",
        "peasants"
       ]
      },
      {
       "output_type": "stream",
       "stream": "stdout",
       "text": [
        "\n",
        "revolution"
       ]
      },
      {
       "output_type": "stream",
       "stream": "stdout",
       "text": [
        "\n",
        "right"
       ]
      },
      {
       "output_type": "stream",
       "stream": "stdout",
       "text": [
        "\n",
        "right"
       ]
      },
      {
       "output_type": "stream",
       "stream": "stdout",
       "text": [
        "\n",
        "=============================="
       ]
      },
      {
       "output_type": "stream",
       "stream": "stdout",
       "text": [
        "\n",
        "res_similarity\n",
        "None\n",
        "               revolution 10.3880624692\n",
        "              proletarian 9.00601439892\n",
        "                      war 4.52385364841\n",
        "                 idealism 3.29228159341\n",
        "              materialism 3.29228159341\n",
        "                 strategy 3.29228159341\n",
        "               philosophy 3.29228159341\n",
        "                   toilet 3.14352023311\n",
        "               capitalism 2.85529368615\n",
        "                   theory 2.64452085446\n",
        "              imperialism 2.64452085446\n",
        "                 practice 2.33223775508\n",
        "      television_receiver 2.30584873145\n",
        "                      car 2.30584873145\n",
        "                     lion 2.22415047123\n",
        "                     hair 1.53183374322\n",
        "                    sugar 0.801759114954\n",
        "                    money 0.596229207898\n"
       ]
      }
     ],
     "prompt_number": 4
    },
    {
     "cell_type": "code",
     "collapsed": false,
     "input": [
      "print \"$asd$\"\n",
      "for (word, synset) in synsets.iteritems():\n",
      "    print \"*************\"\n",
      "    print concept\n",
      "    best_docs = sorted(documents, key=lambda doc: doc_analyzer.analyze_document(doc)[word])\n",
      "    print \"*************\"\n",
      "    print [doc.name for doc in best_docs]\n"
     ],
     "language": "python",
     "metadata": {},
     "outputs": [
      {
       "ename": "NameError",
       "evalue": "name 'concept' is not defined",
       "output_type": "pyerr",
       "traceback": [
        "\u001b[1;31m---------------------------------------------------------------------------\u001b[0m\n\u001b[1;31mNameError\u001b[0m                                 Traceback (most recent call last)",
        "\u001b[1;32m<ipython-input-5-cfcc5bb90f18>\u001b[0m in \u001b[0;36m<module>\u001b[1;34m()\u001b[0m\n\u001b[0;32m      2\u001b[0m \u001b[1;32mfor\u001b[0m \u001b[1;33m(\u001b[0m\u001b[0mword\u001b[0m\u001b[1;33m,\u001b[0m \u001b[0msynset\u001b[0m\u001b[1;33m)\u001b[0m \u001b[1;32min\u001b[0m \u001b[0msynsets\u001b[0m\u001b[1;33m.\u001b[0m\u001b[0miteritems\u001b[0m\u001b[1;33m(\u001b[0m\u001b[1;33m)\u001b[0m\u001b[1;33m:\u001b[0m\u001b[1;33m\u001b[0m\u001b[0m\n\u001b[0;32m      3\u001b[0m     \u001b[1;32mprint\u001b[0m \u001b[1;34m\"*************\"\u001b[0m\u001b[1;33m\u001b[0m\u001b[0m\n\u001b[1;32m----> 4\u001b[1;33m     \u001b[1;32mprint\u001b[0m \u001b[0mconcept\u001b[0m\u001b[1;33m\u001b[0m\u001b[0m\n\u001b[0m\u001b[0;32m      5\u001b[0m     \u001b[0mbest_docs\u001b[0m \u001b[1;33m=\u001b[0m \u001b[0msorted\u001b[0m\u001b[1;33m(\u001b[0m\u001b[0mdocuments\u001b[0m\u001b[1;33m,\u001b[0m \u001b[0mkey\u001b[0m\u001b[1;33m=\u001b[0m\u001b[1;32mlambda\u001b[0m \u001b[0mdoc\u001b[0m\u001b[1;33m:\u001b[0m \u001b[0mdoc_analyzer\u001b[0m\u001b[1;33m.\u001b[0m\u001b[0manalyze_document\u001b[0m\u001b[1;33m(\u001b[0m\u001b[0mdoc\u001b[0m\u001b[1;33m)\u001b[0m\u001b[1;33m[\u001b[0m\u001b[0mword\u001b[0m\u001b[1;33m]\u001b[0m\u001b[1;33m)\u001b[0m\u001b[1;33m\u001b[0m\u001b[0m\n\u001b[0;32m      6\u001b[0m     \u001b[1;32mprint\u001b[0m \u001b[1;34m\"*************\"\u001b[0m\u001b[1;33m\u001b[0m\u001b[0m\n",
        "\u001b[1;31mNameError\u001b[0m: name 'concept' is not defined"
       ]
      },
      {
       "output_type": "stream",
       "stream": "stdout",
       "text": [
        "$asd$\n",
        "*************\n"
       ]
      }
     ],
     "prompt_number": 5
    },
    {
     "cell_type": "code",
     "collapsed": false,
     "input": [],
     "language": "python",
     "metadata": {},
     "outputs": []
    }
   ],
   "metadata": {}
  }
 ]
}