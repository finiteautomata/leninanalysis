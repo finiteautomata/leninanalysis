{
 "metadata": {
  "name": ""
 },
 "nbformat": 3,
 "nbformat_minor": 0,
 "worksheets": [
  {
   "cells": [
    {
     "cell_type": "raw",
     "metadata": {},
     "source": [
      "Now, create Document Analyzer"
     ]
    },
    {
     "cell_type": "code",
     "collapsed": false,
     "input": [
      "from interpreter import *\n",
      "from analyzers.document_analyzer import DocumentAnalyzer\n",
      "\n",
      "\n",
      "doc_analyzer = DocumentAnalyzer(concepts=[\"war\", \"capitalism\", \"theory\", \"toilette\", \"imperialism\", \"worker\", \"praxis\", \"revolution\", \"money\", \"philosophy\", \"idealism\"])"
     ],
     "language": "python",
     "metadata": {},
     "outputs": [],
     "prompt_number": 8
    },
    {
     "cell_type": "code",
     "collapsed": false,
     "input": [
      "state_and_revolution = Document.query.find({\"name\":{\"$regex\":\"State and Revolution\" }}).next()\n",
      "imperialism_capitalism = Document.query.find({\"name\":{\"$regex\":\"Imperialism.*Capitalism.*\" }}).next()\n",
      "materialism_criticism = Document.query.find({\"name\": \"Lenin: MATERIALISM and EMPIRIO-CRITICISM\"}).next()"
     ],
     "language": "python",
     "metadata": {},
     "outputs": [],
     "prompt_number": 9
    },
    {
     "cell_type": "raw",
     "metadata": {},
     "source": [
      "Let's see their top words\n"
     ]
    },
    {
     "cell_type": "code",
     "collapsed": false,
     "input": [
      "print state_and_revolution.top_words()\n",
      "print imperialism_capitalism.top_words()\n",
      "print materialism_criticism.top_words()"
     ],
     "language": "python",
     "metadata": {},
     "outputs": [
      {
       "output_type": "stream",
       "stream": "stdout",
       "text": [
        "[(u'kautsky', 0.05), (u'marx', 0.05), (u'revolution', 0.05), (u'works', 0.05), (u'engels', 0.05), (u'society', 0.05), (u'power', 0.05), (u'party', 0.05), (u'social', 0.05), (u'experience', 0.05), (u'bernstein', 0.05), (u'question', 0.05), (u'equality', 0.05), (u'phase', 0.05), (u'1917', 0.05), (u'commune', 0.05), (u'one', 0.05), (u'republic', 0.05), (u'class', 0.05), (u'law', 0.05)]\n",
        "[(u'enterprises', 0.05), (u'bank', 0.05), (u'imperialism', 0.05), (u'world', 0.05), (u'million', 0.05), (u'colonies', 0.05), (u'kautsky', 0.05), (u'colonial', 0.05), (u'production', 0.05), (u'cent', 0.05), (u'economic', 0.05), (u'company', 0.05), (u'capitalist', 0.05), (u'monopoly', 0.05), (u'big', 0.05), (u'countries', 0.05), (u'policy', 0.05), (u'powers', 0.05), (u'000', 0.05), (u'banks', 0.05)]"
       ]
      },
      {
       "output_type": "stream",
       "stream": "stdout",
       "text": [
        "\n",
        "[(u'physics', 0.05), (u'social', 0.05), (u'avenarius', 0.05), (u'space', 0.05), (u'time', 0.05), (u'dietzgen', 0.05), (u'berkeley', 0.05), (u'truth', 0.05), (u'rey', 0.05), (u'objective', 0.05), (u'sensation', 0.05), (u'experience', 0.05), (u'pp', 0.05), (u'engels', 0.05), (u'motion', 0.05), (u'marx', 0.05), (u'book', 0.05), (u'works', 0.05), (u'vol', 0.05), (u'general', 0.05)]"
       ]
      },
      {
       "output_type": "stream",
       "stream": "stdout",
       "text": [
        "\n"
       ]
      }
     ],
     "prompt_number": 10
    },
    {
     "cell_type": "code",
     "collapsed": false,
     "input": [
      "doc_analyzer.analyze_document(state_and_revolution)"
     ],
     "language": "python",
     "metadata": {},
     "outputs": [
      {
       "metadata": {},
       "output_type": "pyout",
       "prompt_number": 15,
       "text": [
        "{u'_id': ObjectId('52a3aeb52b5f941389e418fc'),\n",
        " u'capitalism': 0.08500180375180377,\n",
        " u'document_id': ObjectId('51f9afe92b5f9417d8ed047c'),\n",
        " u'idealism': 0.09763888888888891,\n",
        " u'imperialism': 0.09798035298035299,\n",
        " u'money': 0.07807720057720059,\n",
        " u'philosophy': 0.11194444444444446,\n",
        " u'praxis': 0.09878968253968255,\n",
        " u'revolution': 0.1491504329004329,\n",
        " u'theory': 0.10736111111111112,\n",
        " u'toilette': 0.07437576312576312,\n",
        " u'war': 0.11502344877344878,\n",
        " u'worker': 0.09527777777777778}"
       ]
      }
     ],
     "prompt_number": 15
    },
    {
     "cell_type": "code",
     "collapsed": false,
     "input": [
      "doc_analyzer.analyze_document(imperialism_capitalism)\n"
     ],
     "language": "python",
     "metadata": {},
     "outputs": [
      {
       "metadata": {},
       "output_type": "pyout",
       "prompt_number": 16,
       "text": [
        "{u'_id': ObjectId('52a3aedb2b5f941389e418fd'),\n",
        " u'capitalism': 0.08259670884670885,\n",
        " u'document_id': ObjectId('51f9aff92b5f9417d8ed0488'),\n",
        " u'idealism': 0.08428446553446553,\n",
        " u'imperialism': 0.14525849150849154,\n",
        " u'money': 0.0844022644022644,\n",
        " u'philosophy': 0.08831224331224333,\n",
        " u'praxis': 0.09347277722277723,\n",
        " u'revolution': 0.09966450216450216,\n",
        " u'theory': 0.08950271950271951,\n",
        " u'toilette': 0.07101752414252416,\n",
        " u'war': 0.10532106782106783,\n",
        " u'worker': 0.1073400210900211}"
       ]
      }
     ],
     "prompt_number": 16
    },
    {
     "cell_type": "code",
     "collapsed": false,
     "input": [
      "doc_analyzer.analyze_document(materialism_criticism)"
     ],
     "language": "python",
     "metadata": {},
     "outputs": [
      {
       "metadata": {},
       "output_type": "pyout",
       "prompt_number": 17,
       "text": [
        "{u'_id': ObjectId('52a4e8442b5f94157f9ed036'),\n",
        " u'capitalism': 0.06250721500721501,\n",
        " u'document_id': ObjectId('51f9b0332b5f9417d8ed04a8'),\n",
        " u'idealism': 0.08011904761904762,\n",
        " u'imperialism': 0.07698287823287824,\n",
        " u'money': 0.060979437229437244,\n",
        " u'philosophy': 0.08628968253968254,\n",
        " u'praxis': 0.07617063492063492,\n",
        " u'revolution': 0.0966504329004329,\n",
        " u'theory': 0.0842063492063492,\n",
        " u'toilette': 0.056489898989898986,\n",
        " u'war': 0.09071608946608947,\n",
        " u'worker': 0.07539862914862916}"
       ]
      }
     ],
     "prompt_number": 17
    },
    {
     "cell_type": "code",
     "collapsed": false,
     "input": [],
     "language": "python",
     "metadata": {},
     "outputs": []
    }
   ],
   "metadata": {}
  }
 ]
}