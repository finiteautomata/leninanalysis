{
 "metadata": {
  "name": ""
 },
 "nbformat": 3,
 "nbformat_minor": 0,
 "worksheets": [
  {
   "cells": [
    {
     "cell_type": "raw",
     "metadata": {},
     "source": [
      "Now, create Document Analyzer"
     ]
    },
    {
     "cell_type": "code",
     "collapsed": false,
     "input": [
      "from interpreter import *\n",
      "from analyzers.document_analyzer import DocumentAnalyzer\n",
      "\n",
      "concepts=[\"war\", \"capitalism\", \"theory\", \"toilette\",\n",
      "          \"imperialism\", \"worker\", \"praxis\", \"revolution\", \n",
      "          \"money\", \"philosophy\", \"idealism\", \"strategy\", \"materialism\"]\n",
      "\n",
      "doc_analyzer = DocumentAnalyzer(concepts=concepts)"
     ],
     "language": "python",
     "metadata": {},
     "outputs": [],
     "prompt_number": 8
    },
    {
     "cell_type": "code",
     "collapsed": false,
     "input": [
      "state_and_revolution = Document.query.find({\"name\":{\"$regex\":\"State and Revolution\" }}).next()\n",
      "imperialism_capitalism = Document.query.find({\"name\":{\"$regex\":\"Imperialism.*Capitalism.*\" }}).next()\n",
      "materialism_criticism = Document.query.find({\"name\": \"Lenin: MATERIALISM and EMPIRIO-CRITICISM\"}).next()\n",
      "what_is_to_be_done = Document.query.find({\"name\": {\"$regex\": \".*What Is To Be Done.*\"}}).next()\n",
      "documents = [state_and_revolution, imperialism_capitalism, materialism_criticism, what_is_to_be_done]"
     ],
     "language": "python",
     "metadata": {},
     "outputs": [],
     "prompt_number": 9
    },
    {
     "cell_type": "raw",
     "metadata": {},
     "source": [
      "Let's see their top words\n"
     ]
    },
    {
     "cell_type": "code",
     "collapsed": false,
     "input": [
      "for doc in documents:\n",
      "    print \"*****************\"\n",
      "    print doc.name\n",
      "    print \"*****************\"\n",
      "    for word, _ in doc.top_words():\n",
      "        print word\n",
      "    print doc_analyzer.analyze_document(doc)\n",
      "    "
     ],
     "language": "python",
     "metadata": {},
     "outputs": [
      {
       "output_type": "stream",
       "stream": "stdout",
       "text": [
        "*****************\n",
        "The State and Revolution\n",
        "*****************\n",
        "kautsky"
       ]
      },
      {
       "output_type": "stream",
       "stream": "stdout",
       "text": [
        "\n",
        "marx\n",
        "revolution\n",
        "works\n",
        "engels\n",
        "society\n",
        "power\n",
        "party\n",
        "social\n",
        "experience\n",
        "bernstein\n",
        "question\n",
        "equality\n",
        "phase\n",
        "1917\n",
        "commune\n",
        "one\n",
        "republic\n",
        "class\n",
        "law\n",
        "{u'idealism': 0.2, u'revolution': 1.0, u'theory': 0.3333333333333333, u'money': 0.14285714285714285, u'praxis': 0.2, u'philosophy': 0.5, u'worker': 0.3333333333333333, u'toilette': 0.16666666666666666, u'capitalism': 0.14285714285714285, u'imperialism': 0.25, u'strategy': 0.16666666666666666, u'war': 0.25, u'materialism': 0.16666666666666666}\n",
        "*****************\n",
        "Lenin: Imperialism, the Highest Stage of Capitalism\n",
        "*****************\n",
        "enterprises"
       ]
      },
      {
       "output_type": "stream",
       "stream": "stdout",
       "text": [
        "\n",
        "bank\n",
        "imperialism\n",
        "world\n",
        "million\n",
        "colonies\n",
        "kautsky\n",
        "colonial\n",
        "production\n",
        "cent\n",
        "economic\n",
        "company\n",
        "capitalist\n",
        "monopoly\n",
        "big\n",
        "countries\n",
        "policy\n",
        "powers\n",
        "000\n",
        "banks\n",
        "{u'idealism': 0.2, u'revolution': 0.25, u'theory': 0.2, u'money': 0.2, u'praxis': 0.25, u'philosophy': 0.2, u'worker': 0.3333333333333333, u'toilette': 0.14285714285714285, u'capitalism': 0.16666666666666666, u'imperialism': 1.0, u'strategy': 0.3333333333333333, u'war': 0.25, u'materialism': 0.14285714285714285}\n",
        "*****************\n",
        "Lenin: MATERIALISM and EMPIRIO-CRITICISM\n",
        "*****************\n",
        "physics"
       ]
      },
      {
       "output_type": "stream",
       "stream": "stdout",
       "text": [
        "\n",
        "social\n",
        "avenarius\n",
        "space\n",
        "time\n",
        "dietzgen\n",
        "berkeley\n",
        "truth\n",
        "rey\n",
        "objective\n",
        "sensation\n",
        "experience\n",
        "pp\n",
        "engels\n",
        "motion\n",
        "marx\n",
        "book\n",
        "works\n",
        "vol\n",
        "general\n",
        "{u'idealism': 0.2, u'revolution': 0.3333333333333333, u'theory': 0.25, u'money': 0.14285714285714285, u'praxis': 0.2, u'philosophy': 0.25, u'worker': 0.25, u'toilette': 0.16666666666666666, u'capitalism': 0.14285714285714285, u'imperialism': 0.25, u'strategy': 0.16666666666666666, u'war': 0.25, u'materialism': 0.16666666666666666}\n",
        "*****************\n",
        "Lenin: What Is To Be Done?\n",
        "*****************\n",
        "local"
       ]
      },
      {
       "output_type": "stream",
       "stream": "stdout",
       "text": [
        "\n",
        "organisation\n",
        "abroad\n",
        "union\n",
        "criticism\n",
        "economic\n",
        "political\n",
        "revolutionaries\n",
        "freedom\n",
        "newspapers\n",
        "workers\n",
        "nadezhdin\n",
        "consciousness\n",
        "newspaper\n",
        "bourgeois\n",
        "masses\n",
        "martynov\n",
        "would\n",
        "movement\n",
        "german\n",
        "{u'idealism': 0.14285714285714285, u'revolution': 0.3333333333333333, u'theory': 0.16666666666666666, u'money': 0.125, u'praxis': 0.2, u'philosophy': 0.16666666666666666, u'worker': 1.0, u'toilette': 0.16666666666666666, u'capitalism': 0.16666666666666666, u'imperialism': 0.25, u'strategy': 0.125, u'war': 0.5, u'materialism': 0.14285714285714285}\n"
       ]
      }
     ],
     "prompt_number": 10
    },
    {
     "cell_type": "code",
     "collapsed": false,
     "input": [
      "\n",
      "for concept in concepts:\n",
      "    print \"*************\"\n",
      "    print concept\n",
      "    best_docs = sorted(documents, key=lambda doc: doc_analyzer.analyze_document(doc)[concept])\n",
      "    print \"*************\"\n",
      "    print [doc.name for doc in best_docs]\n"
     ],
     "language": "python",
     "metadata": {},
     "outputs": [
      {
       "output_type": "stream",
       "stream": "stdout",
       "text": [
        "*************\n",
        "war\n",
        "*************\n",
        "[u'The State and Revolution', u'Lenin: Imperialism, the Highest Stage of Capitalism', u'Lenin: MATERIALISM and EMPIRIO-CRITICISM', u'Lenin: What Is To Be Done?']\n",
        "*************\n",
        "capitalism\n",
        "*************\n",
        "[u'The State and Revolution', u'Lenin: MATERIALISM and EMPIRIO-CRITICISM', u'Lenin: Imperialism, the Highest Stage of Capitalism', u'Lenin: What Is To Be Done?']\n",
        "*************\n",
        "theory\n",
        "*************\n",
        "[u'Lenin: What Is To Be Done?', u'Lenin: Imperialism, the Highest Stage of Capitalism', u'Lenin: MATERIALISM and EMPIRIO-CRITICISM', u'The State and Revolution']\n",
        "*************\n",
        "toilette\n",
        "*************\n",
        "[u'Lenin: Imperialism, the Highest Stage of Capitalism', u'The State and Revolution', u'Lenin: MATERIALISM and EMPIRIO-CRITICISM', u'Lenin: What Is To Be Done?']\n",
        "*************\n",
        "imperialism\n",
        "*************\n",
        "[u'The State and Revolution', u'Lenin: MATERIALISM and EMPIRIO-CRITICISM', u'Lenin: What Is To Be Done?', u'Lenin: Imperialism, the Highest Stage of Capitalism']\n",
        "*************\n",
        "worker\n",
        "*************\n",
        "[u'Lenin: MATERIALISM and EMPIRIO-CRITICISM', u'The State and Revolution', u'Lenin: Imperialism, the Highest Stage of Capitalism', u'Lenin: What Is To Be Done?']\n",
        "*************\n",
        "praxis\n",
        "*************\n",
        "[u'The State and Revolution', u'Lenin: MATERIALISM and EMPIRIO-CRITICISM', u'Lenin: What Is To Be Done?', u'Lenin: Imperialism, the Highest Stage of Capitalism']\n",
        "*************\n",
        "revolution\n",
        "*************\n",
        "[u'Lenin: Imperialism, the Highest Stage of Capitalism', u'Lenin: MATERIALISM and EMPIRIO-CRITICISM', u'Lenin: What Is To Be Done?', u'The State and Revolution']\n",
        "*************\n",
        "money\n",
        "*************\n",
        "[u'Lenin: What Is To Be Done?', u'The State and Revolution', u'Lenin: MATERIALISM and EMPIRIO-CRITICISM', u'Lenin: Imperialism, the Highest Stage of Capitalism']\n",
        "*************\n",
        "philosophy\n",
        "*************\n",
        "[u'Lenin: What Is To Be Done?', u'Lenin: Imperialism, the Highest Stage of Capitalism', u'Lenin: MATERIALISM and EMPIRIO-CRITICISM', u'The State and Revolution']\n",
        "*************\n",
        "idealism\n",
        "*************\n",
        "[u'Lenin: What Is To Be Done?', u'The State and Revolution', u'Lenin: Imperialism, the Highest Stage of Capitalism', u'Lenin: MATERIALISM and EMPIRIO-CRITICISM']\n",
        "*************\n",
        "strategy\n",
        "*************\n",
        "[u'Lenin: What Is To Be Done?', u'The State and Revolution', u'Lenin: MATERIALISM and EMPIRIO-CRITICISM', u'Lenin: Imperialism, the Highest Stage of Capitalism']\n",
        "*************\n",
        "materialism\n",
        "*************\n",
        "[u'Lenin: Imperialism, the Highest Stage of Capitalism', u'Lenin: What Is To Be Done?', u'The State and Revolution', u'Lenin: MATERIALISM and EMPIRIO-CRITICISM']\n"
       ]
      }
     ],
     "prompt_number": 12
    },
    {
     "cell_type": "code",
     "collapsed": false,
     "input": [],
     "language": "python",
     "metadata": {},
     "outputs": []
    }
   ],
   "metadata": {}
  }
 ]
}