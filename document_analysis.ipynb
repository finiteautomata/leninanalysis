{
 "metadata": {
  "name": ""
 },
 "nbformat": 3,
 "nbformat_minor": 0,
 "worksheets": [
  {
   "cells": [
    {
     "cell_type": "raw",
     "metadata": {},
     "source": [
      "Now, create Document Analyzer"
     ]
    },
    {
     "cell_type": "code",
     "collapsed": false,
     "input": [
      "from interpreter import *\n",
      "from analyzers import similarity\n",
      "from analyzers.document_analyzer import DocumentAnalyzer\n",
      "import string\n",
      "\n",
      "concepts=[\"war\", \"capitalism\", \"theory\", \"toilette\",\n",
      "          \"imperialism\", \"worker\", \"praxis\", \"revolution\", \n",
      "          \"money\", \"philosophy\", \"idealism\", \"strategy\", \"materialism\", \"lion\",\n",
      "          \"television\", \"hair\", \"sugar\", \"tactic\", \"car\"]\n",
      "\n",
      "\n",
      "analyzers = [DocumentAnalyzer(concepts=concepts, similarity_function=sim_fun) \n",
      "             for sim_fun in similarity.functions]\n",
      "\n",
      "def print_analysis(doc, analyzer):\n",
      "    analysis = analyzer.analyze_document(doc)\n",
      "    sorted_words = sorted(analysis.iteritems(), key= lambda(word, similarity): similarity, reverse=True)\n",
      "    print(\"=\" * 30)\n",
      "    print analyzer.name\n",
      "    for word, similarity in sorted_words:\n",
      "        print \"%s %s\" % (string.rjust(word,25), string.rjust(str(similarity), 10))\n",
      "        "
     ],
     "language": "python",
     "metadata": {},
     "outputs": [],
     "prompt_number": 2
    },
    {
     "cell_type": "code",
     "collapsed": false,
     "input": [
      "state_and_revolution = Document.query.find({\"name\":{\"$regex\":\"State and Revolution\" }}).next()\n",
      "imperialism_capitalism = Document.query.find({\"name\":{\"$regex\":\"Imperialism.*Capitalism.*\" }}).next()\n",
      "materialism_criticism = Document.query.find({\"name\": \"Lenin: MATERIALISM and EMPIRIO-CRITICISM\"}).next()\n",
      "what_is_to_be_done = Document.query.find({\"name\": {\"$regex\": \".*What Is To Be Done.*\"}}).next()\n",
      "agrarian_programme = Document.query.find({\"name\": u'Lenin: The Agrarian Programme of Social-Democracy in the First Russian Revolution, 1905-1907'}).next()\n",
      "documents = [state_and_revolution, imperialism_capitalism, materialism_criticism, what_is_to_be_done, agrarian_programme]\n",
      "\n"
     ],
     "language": "python",
     "metadata": {},
     "outputs": [],
     "prompt_number": 3
    },
    {
     "cell_type": "raw",
     "metadata": {},
     "source": [
      "Top words for documents"
     ]
    },
    {
     "cell_type": "code",
     "collapsed": false,
     "input": [
      "print \"$asd$\"\n",
      "for doc in documents:\n",
      "    print \"*****************\"\n",
      "    print doc.name\n",
      "    print \"*****************\"\n",
      "    for index, word in enumerate(doc.top_words(),1):\n",
      "        print \"%s & %s \\\\\\\\ \\hline\" % (index, word[0])\n",
      "    #print \"Path Analysis\"\n",
      "    #print doc_analyzer.analyze_document(doc)\n",
      "    #for analyzer in analyzers:\n",
      "    #    print_analysis(doc, analyzer)\n",
      "    "
     ],
     "language": "python",
     "metadata": {},
     "outputs": [
      {
       "output_type": "stream",
       "stream": "stdout",
       "text": [
        "$asd$\n",
        "*****************\n",
        "The State and Revolution\n",
        "*****************\n",
        "1 & kautsky \\\\ \\hline"
       ]
      },
      {
       "output_type": "stream",
       "stream": "stdout",
       "text": [
        "\n",
        "2 & marx \\\\ \\hline\n",
        "3 & revolution \\\\ \\hline\n",
        "4 & works \\\\ \\hline\n",
        "5 & engels \\\\ \\hline\n",
        "6 & society \\\\ \\hline\n",
        "7 & power \\\\ \\hline\n",
        "8 & party \\\\ \\hline\n",
        "9 & social \\\\ \\hline\n",
        "10 & experience \\\\ \\hline\n",
        "11 & bernstein \\\\ \\hline\n",
        "12 & question \\\\ \\hline\n",
        "13 & equality \\\\ \\hline\n",
        "14 & phase \\\\ \\hline\n",
        "15 & 1917 \\\\ \\hline\n",
        "16 & commune \\\\ \\hline\n",
        "17 & one \\\\ \\hline\n",
        "18 & republic \\\\ \\hline\n",
        "19 & class \\\\ \\hline\n",
        "20 & law \\\\ \\hline\n",
        "*****************\n",
        "Lenin: Imperialism, the Highest Stage of Capitalism\n",
        "*****************\n",
        "1 & enterprises \\\\ \\hline"
       ]
      },
      {
       "output_type": "stream",
       "stream": "stdout",
       "text": [
        "\n",
        "2 & bank \\\\ \\hline\n",
        "3 & imperialism \\\\ \\hline\n",
        "4 & world \\\\ \\hline\n",
        "5 & million \\\\ \\hline\n",
        "6 & colonies \\\\ \\hline\n",
        "7 & kautsky \\\\ \\hline\n",
        "8 & colonial \\\\ \\hline\n",
        "9 & production \\\\ \\hline\n",
        "10 & cent \\\\ \\hline\n",
        "11 & economic \\\\ \\hline\n",
        "12 & company \\\\ \\hline\n",
        "13 & capitalist \\\\ \\hline\n",
        "14 & monopoly \\\\ \\hline\n",
        "15 & big \\\\ \\hline\n",
        "16 & countries \\\\ \\hline\n",
        "17 & policy \\\\ \\hline\n",
        "18 & powers \\\\ \\hline\n",
        "19 & 000 \\\\ \\hline\n",
        "20 & banks \\\\ \\hline\n",
        "*****************\n",
        "Lenin: MATERIALISM and EMPIRIO-CRITICISM\n",
        "*****************\n",
        "1 & physics \\\\ \\hline"
       ]
      },
      {
       "output_type": "stream",
       "stream": "stdout",
       "text": [
        "\n",
        "2 & social \\\\ \\hline\n",
        "3 & avenarius \\\\ \\hline\n",
        "4 & space \\\\ \\hline\n",
        "5 & time \\\\ \\hline\n",
        "6 & dietzgen \\\\ \\hline\n",
        "7 & berkeley \\\\ \\hline\n",
        "8 & truth \\\\ \\hline\n",
        "9 & rey \\\\ \\hline\n",
        "10 & objective \\\\ \\hline\n",
        "11 & sensation \\\\ \\hline\n",
        "12 & experience \\\\ \\hline\n",
        "13 & pp \\\\ \\hline\n",
        "14 & engels \\\\ \\hline\n",
        "15 & motion \\\\ \\hline\n",
        "16 & marx \\\\ \\hline\n",
        "17 & book \\\\ \\hline\n",
        "18 & works \\\\ \\hline\n",
        "19 & vol \\\\ \\hline\n",
        "20 & general \\\\ \\hline\n",
        "*****************\n",
        "Lenin: What Is To Be Done?\n",
        "*****************\n",
        "1 & local \\\\ \\hline"
       ]
      },
      {
       "output_type": "stream",
       "stream": "stdout",
       "text": [
        "\n",
        "2 & organisation \\\\ \\hline\n",
        "3 & abroad \\\\ \\hline\n",
        "4 & union \\\\ \\hline\n",
        "5 & criticism \\\\ \\hline\n",
        "6 & economic \\\\ \\hline\n",
        "7 & political \\\\ \\hline\n",
        "8 & revolutionaries \\\\ \\hline\n",
        "9 & freedom \\\\ \\hline\n",
        "10 & newspapers \\\\ \\hline\n",
        "11 & workers \\\\ \\hline\n",
        "12 & nadezhdin \\\\ \\hline\n",
        "13 & consciousness \\\\ \\hline\n",
        "14 & newspaper \\\\ \\hline\n",
        "15 & bourgeois \\\\ \\hline\n",
        "16 & masses \\\\ \\hline\n",
        "17 & martynov \\\\ \\hline\n",
        "18 & would \\\\ \\hline\n",
        "19 & movement \\\\ \\hline\n",
        "20 & german \\\\ \\hline\n",
        "*****************\n",
        "Lenin: The Agrarian Programme of Social-Democracy in the First Russian Revolution, 1905-1907\n",
        "*****************\n",
        "1 & rent \\\\ \\hline"
       ]
      },
      {
       "output_type": "stream",
       "stream": "stdout",
       "text": [
        "\n",
        "2 & dessiatins \\\\ \\hline\n",
        "3 & 000 \\\\ \\hline\n",
        "4 & land \\\\ \\hline\n",
        "5 & maslov \\\\ \\hline\n",
        "6 & peasants \\\\ \\hline\n",
        "7 & capital \\\\ \\hline\n",
        "8 & revolution \\\\ \\hline\n",
        "9 & marx \\\\ \\hline\n",
        "10 & people \\\\ \\hline\n",
        "11 & nationalisation \\\\ \\hline\n",
        "12 & plekhanov \\\\ \\hline\n",
        "13 & restoration \\\\ \\hline\n",
        "14 & right \\\\ \\hline\n",
        "15 & latifundia \\\\ \\hline\n",
        "16 & private \\\\ \\hline\n",
        "17 & farming \\\\ \\hline\n",
        "18 & free \\\\ \\hline\n",
        "19 & central \\\\ \\hline\n",
        "20 & lands \\\\ \\hline\n"
       ]
      }
     ],
     "prompt_number": 14
    },
    {
     "cell_type": "code",
     "collapsed": false,
     "input": [
      "print \"$asd$\"\n",
      "for concept in concepts:\n",
      "    print \"*************\"\n",
      "    print concept\n",
      "    best_docs = sorted(documents, key=lambda doc: doc_analyzer.analyze_document(doc)[concept])\n",
      "    print \"*************\"\n",
      "    print [doc.name for doc in best_docs]\n"
     ],
     "language": "python",
     "metadata": {},
     "outputs": [
      {
       "ename": "NameError",
       "evalue": "global name 'doc_analyzer' is not defined",
       "output_type": "pyerr",
       "traceback": [
        "\u001b[1;31m---------------------------------------------------------------------------\u001b[0m\n\u001b[1;31mNameError\u001b[0m                                 Traceback (most recent call last)",
        "\u001b[1;32m<ipython-input-12-1c09dfd3d57b>\u001b[0m in \u001b[0;36m<module>\u001b[1;34m()\u001b[0m\n\u001b[0;32m      3\u001b[0m     \u001b[1;32mprint\u001b[0m \u001b[1;34m\"*************\"\u001b[0m\u001b[1;33m\u001b[0m\u001b[0m\n\u001b[0;32m      4\u001b[0m     \u001b[1;32mprint\u001b[0m \u001b[0mconcept\u001b[0m\u001b[1;33m\u001b[0m\u001b[0m\n\u001b[1;32m----> 5\u001b[1;33m     \u001b[0mbest_docs\u001b[0m \u001b[1;33m=\u001b[0m \u001b[0msorted\u001b[0m\u001b[1;33m(\u001b[0m\u001b[0mdocuments\u001b[0m\u001b[1;33m,\u001b[0m \u001b[0mkey\u001b[0m\u001b[1;33m=\u001b[0m\u001b[1;32mlambda\u001b[0m \u001b[0mdoc\u001b[0m\u001b[1;33m:\u001b[0m \u001b[0mdoc_analyzer\u001b[0m\u001b[1;33m.\u001b[0m\u001b[0manalyze_document\u001b[0m\u001b[1;33m(\u001b[0m\u001b[0mdoc\u001b[0m\u001b[1;33m)\u001b[0m\u001b[1;33m[\u001b[0m\u001b[0mconcept\u001b[0m\u001b[1;33m]\u001b[0m\u001b[1;33m)\u001b[0m\u001b[1;33m\u001b[0m\u001b[0m\n\u001b[0m\u001b[0;32m      6\u001b[0m     \u001b[1;32mprint\u001b[0m \u001b[1;34m\"*************\"\u001b[0m\u001b[1;33m\u001b[0m\u001b[0m\n\u001b[0;32m      7\u001b[0m     \u001b[1;32mprint\u001b[0m \u001b[1;33m[\u001b[0m\u001b[0mdoc\u001b[0m\u001b[1;33m.\u001b[0m\u001b[0mname\u001b[0m \u001b[1;32mfor\u001b[0m \u001b[0mdoc\u001b[0m \u001b[1;32min\u001b[0m \u001b[0mbest_docs\u001b[0m\u001b[1;33m]\u001b[0m\u001b[1;33m\u001b[0m\u001b[0m\n",
        "\u001b[1;32m<ipython-input-12-1c09dfd3d57b>\u001b[0m in \u001b[0;36m<lambda>\u001b[1;34m(doc)\u001b[0m\n\u001b[0;32m      3\u001b[0m     \u001b[1;32mprint\u001b[0m \u001b[1;34m\"*************\"\u001b[0m\u001b[1;33m\u001b[0m\u001b[0m\n\u001b[0;32m      4\u001b[0m     \u001b[1;32mprint\u001b[0m \u001b[0mconcept\u001b[0m\u001b[1;33m\u001b[0m\u001b[0m\n\u001b[1;32m----> 5\u001b[1;33m     \u001b[0mbest_docs\u001b[0m \u001b[1;33m=\u001b[0m \u001b[0msorted\u001b[0m\u001b[1;33m(\u001b[0m\u001b[0mdocuments\u001b[0m\u001b[1;33m,\u001b[0m \u001b[0mkey\u001b[0m\u001b[1;33m=\u001b[0m\u001b[1;32mlambda\u001b[0m \u001b[0mdoc\u001b[0m\u001b[1;33m:\u001b[0m \u001b[0mdoc_analyzer\u001b[0m\u001b[1;33m.\u001b[0m\u001b[0manalyze_document\u001b[0m\u001b[1;33m(\u001b[0m\u001b[0mdoc\u001b[0m\u001b[1;33m)\u001b[0m\u001b[1;33m[\u001b[0m\u001b[0mconcept\u001b[0m\u001b[1;33m]\u001b[0m\u001b[1;33m)\u001b[0m\u001b[1;33m\u001b[0m\u001b[0m\n\u001b[0m\u001b[0;32m      6\u001b[0m     \u001b[1;32mprint\u001b[0m \u001b[1;34m\"*************\"\u001b[0m\u001b[1;33m\u001b[0m\u001b[0m\n\u001b[0;32m      7\u001b[0m     \u001b[1;32mprint\u001b[0m \u001b[1;33m[\u001b[0m\u001b[0mdoc\u001b[0m\u001b[1;33m.\u001b[0m\u001b[0mname\u001b[0m \u001b[1;32mfor\u001b[0m \u001b[0mdoc\u001b[0m \u001b[1;32min\u001b[0m \u001b[0mbest_docs\u001b[0m\u001b[1;33m]\u001b[0m\u001b[1;33m\u001b[0m\u001b[0m\n",
        "\u001b[1;31mNameError\u001b[0m: global name 'doc_analyzer' is not defined"
       ]
      },
      {
       "output_type": "stream",
       "stream": "stdout",
       "text": [
        "$asd$\n",
        "*************\n",
        "war\n"
       ]
      }
     ],
     "prompt_number": 12
    },
    {
     "cell_type": "code",
     "collapsed": false,
     "input": [],
     "language": "python",
     "metadata": {},
     "outputs": []
    }
   ],
   "metadata": {}
  }
 ]
}