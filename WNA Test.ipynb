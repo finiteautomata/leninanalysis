{
 "metadata": {
  "name": ""
 },
 "nbformat": 3,
 "nbformat_minor": 0,
 "worksheets": [
  {
   "cells": [
    {
     "cell_type": "raw",
     "metadata": {},
     "source": [
      "Creo un analyzador para la palabra 'war'"
     ]
    },
    {
     "cell_type": "code",
     "collapsed": false,
     "input": [
      "from interpreter import *\n",
      "analyzer =  WordNetAnalyzer.create_analyzer_for('war')"
     ],
     "language": "python",
     "metadata": {},
     "outputs": [],
     "prompt_number": 1
    },
    {
     "cell_type": "raw",
     "metadata": {},
     "source": [
      "Analizo las palabras 'war' y 'theory' con el analizador"
     ]
    },
    {
     "cell_type": "code",
     "collapsed": false,
     "input": [
      "analyzer.judge_word('war')"
     ],
     "language": "python",
     "metadata": {},
     "outputs": [
      {
       "metadata": {},
       "output_type": "pyout",
       "prompt_number": 2,
       "text": [
        "1.0"
       ]
      }
     ],
     "prompt_number": 2
    },
    {
     "cell_type": "code",
     "collapsed": false,
     "input": [
      "analyzer.judge_word('theory')"
     ],
     "language": "python",
     "metadata": {},
     "outputs": [
      {
       "metadata": {},
       "output_type": "pyout",
       "prompt_number": 3,
       "text": [
        "0.1111111111111111"
       ]
      }
     ],
     "prompt_number": 3
    },
    {
     "cell_type": "raw",
     "metadata": {},
     "source": [
      "Por default, el analizador cruza todos los synsets de la palabra contra los synsets del constructor. El segundo parametro cambia el funcionamiento."
     ]
    },
    {
     "cell_type": "code",
     "collapsed": false,
     "input": [
      "analyzer.judge_word('theory', take_only_first_synset = True) "
     ],
     "language": "python",
     "metadata": {},
     "outputs": [
      {
       "metadata": {},
       "output_type": "pyout",
       "prompt_number": 4,
       "text": [
        "0.09090909090909091"
       ]
      }
     ],
     "prompt_number": 4
    },
    {
     "cell_type": "raw",
     "metadata": {},
     "source": [
      "Por default se utiliza 'path similarity'. El tercer parametro del constructor permite las opciones 'lch' y 'wup', o tambi\u00e9n puede configurarse as\u00ed:"
     ]
    },
    {
     "cell_type": "code",
     "collapsed": false,
     "input": [
      "analyzer.set_similarity('lch')"
     ],
     "language": "python",
     "metadata": {},
     "outputs": [],
     "prompt_number": 5
    },
    {
     "cell_type": "raw",
     "metadata": {},
     "source": [
      "Ahora las distancias no est\u00e1n m\u00e1s entre 0 y 1"
     ]
    },
    {
     "cell_type": "code",
     "collapsed": false,
     "input": [
      "analyzer.judge_word('war')"
     ],
     "language": "python",
     "metadata": {},
     "outputs": [
      {
       "metadata": {},
       "output_type": "pyout",
       "prompt_number": 8,
       "text": [
        "3.6375861597263857"
       ]
      }
     ],
     "prompt_number": 8
    },
    {
     "cell_type": "code",
     "collapsed": false,
     "input": [
      "analyzer.judge_word('bomb')"
     ],
     "language": "python",
     "metadata": {},
     "outputs": [
      {
       "metadata": {},
       "output_type": "pyout",
       "prompt_number": 9,
       "text": [
        "1.55814461804655"
       ]
      }
     ],
     "prompt_number": 9
    },
    {
     "cell_type": "raw",
     "metadata": {},
     "source": [
      "El metodo judge_doc calcula esta similaridad para todas las top words de un documento"
     ]
    },
    {
     "cell_type": "code",
     "collapsed": false,
     "input": [
      "war_doc = DocumentList(\"war\").documents[7]\n",
      "war_doc\n"
     ],
     "language": "python",
     "metadata": {},
     "outputs": [
      {
       "metadata": {},
       "output_type": "pyout",
       "prompt_number": 10,
       "text": [
        "Doc(1908, Ind - The Agrarian Question in Russia Towards the Close of..., 27165 tks, 99 res: IVR(1400 window size, 3172 iv-words)) IVR(1500 window size, 3172 iv-words)) IVR(1600 window size, 3172 iv-words)) IVR(1700 window size, 3172 iv-words)) IVR(1800 window size, 3172 iv-words)) IVR(1900 window size, 3172 iv-words)) IVR(2000 window size, 3172 iv-words)) IVR(100 window size, 3172 iv-words)) IVR(2100 window size, 3172 iv-words)) IVR(2200 window size, 3172 iv-words)) IVR(2300 window size, 3172 iv-words)) IVR(2400 window size, 3172 iv-words)) IVR(2500 window size, 3172 iv-words)) IVR(2600 window size, 3172 iv-words)) IVR(200 window size, 3172 iv-words)) IVR(2700 window size, 3172 iv-words)) IVR(2800 window size, 3172 iv-words)) IVR(2900 window size, 3172 iv-words)) IVR(300 window size, 3172 iv-words)) IVR(3000 window size, 3172 iv-words)) IVR(3100 window size, 3172 iv-words)) IVR(3200 window size, 3172 iv-words)) IVR(400 window size, 3172 iv-words)) IVR(3300 window size, 3172 iv-words)) IVR(3400 window size, 3172 iv-words)) IVR(3500 window size, 3172 iv-words)) IVR(500 window size, 3172 iv-words)) IVR(3600 window size, 3172 iv-words)) IVR(3700 window size, 3172 iv-words)) IVR(3800 window size, 3172 iv-words)) IVR(600 window size, 3172 iv-words)) IVR(3900 window size, 3172 iv-words)) IVR(700 window size, 3172 iv-words)) IVR(4000 window size, 3172 iv-words)) IVR(4100 window size, 3172 iv-words)) IVR(800 window size, 3172 iv-words)) IVR(4200 window size, 3172 iv-words)) IVR(4300 window size, 3172 iv-words)) IVR(4400 window size, 3172 iv-words)) IVR(900 window size, 3172 iv-words)) IVR(4500 window size, 3172 iv-words)) IVR(1000 window size, 3172 iv-words)) IVR(4600 window size, 3172 iv-words)) IVR(4700 window size, 3172 iv-words)) IVR(1100 window size, 3172 iv-words)) IVR(4800 window size, 3172 iv-words)) IVR(4900 window size, 3172 iv-words)) IVR(1200 window size, 3172 iv-words)) IVR(5000 window size, 3172 iv-words)) IVR(5100 window size, 3172 iv-words)) IVR(1300 window size, 3172 iv-words)) IVR(5200 window size, 3172 iv-words)) IVR(5300 window size, 3172 iv-words)) IVR(5400 window size, 3172 iv-words)) IVR(6600 window size, 3172 iv-words)) IVR(5500 window size, 3172 iv-words)) IVR(6700 window size, 3172 iv-words)) IVR(5600 window size, 3172 iv-words)) IVR(6800 window size, 3172 iv-words)) IVR(5700 window size, 3172 iv-words)) IVR(6900 window size, 3172 iv-words)) IVR(7000 window size, 3172 iv-words)) IVR(5800 window size, 3172 iv-words)) IVR(7100 window size, 3172 iv-words)) IVR(5900 window size, 3172 iv-words)) IVR(7200 window size, 3172 iv-words)) IVR(6000 window size, 3172 iv-words)) IVR(7300 window size, 3172 iv-words)) IVR(6100 window size, 3172 iv-words)) IVR(7400 window size, 3172 iv-words)) IVR(6200 window size, 3172 iv-words)) IVR(7500 window size, 3172 iv-words)) IVR(6300 window size, 3172 iv-words)) IVR(7600 window size, 3172 iv-words)) IVR(6400 window size, 3172 iv-words)) IVR(7700 window size, 3172 iv-words)) IVR(6500 window size, 3172 iv-words)) IVR(7800 window size, 3172 iv-words)) IVR(7900 window size, 3172 iv-words)) IVR(9200 window size, 3172 iv-words)) IVR(8000 window size, 3172 iv-words)) IVR(9300 window size, 3172 iv-words)) IVR(8100 window size, 3172 iv-words)) IVR(9400 window size, 3172 iv-words)) IVR(8200 window size, 3172 iv-words)) IVR(9500 window size, 3172 iv-words)) IVR(8300 window size, 3172 iv-words)) IVR(9600 window size, 3172 iv-words)) IVR(8400 window size, 3172 iv-words)) IVR(9700 window size, 3172 iv-words)) IVR(8500 window size, 3172 iv-words)) IVR(9800 window size, 3172 iv-words)) IVR(8600 window size, 3172 iv-words)) IVR(9900 window size, 3172 iv-words)) IVR(8700 window size, 3172 iv-words)) IVR(8800 window size, 3172 iv-words)) IVR(8900 window size, 3172 iv-words)) IVR(9000 window size, 3172 iv-words)) IVR(9100 window size, 3172 iv-words))"
       ]
      }
     ],
     "prompt_number": 10
    },
    {
     "cell_type": "code",
     "collapsed": false,
     "input": [
      "theo_doc = DocumentList(\"EMPIRIO\").documents[0]\n",
      "theo_doc"
     ],
     "language": "python",
     "metadata": {},
     "outputs": [
      {
       "metadata": {},
       "output_type": "pyout",
       "prompt_number": 11,
       "text": [
        "Doc(1908, Ind - MATERIALISM and EMPIRIO-CRITICISM..., 129053 tks, 99 res: IVR(1400 window size, 9235 iv-words)) IVR(1500 window size, 9235 iv-words)) IVR(1600 window size, 9235 iv-words)) IVR(1700 window size, 9235 iv-words)) IVR(1800 window size, 9235 iv-words)) IVR(1900 window size, 9235 iv-words)) IVR(2000 window size, 9235 iv-words)) IVR(2100 window size, 9235 iv-words)) IVR(2200 window size, 9235 iv-words)) IVR(2300 window size, 9235 iv-words)) IVR(2400 window size, 9235 iv-words)) IVR(2500 window size, 9235 iv-words)) IVR(100 window size, 9235 iv-words)) IVR(2600 window size, 9235 iv-words)) IVR(2700 window size, 9235 iv-words)) IVR(2800 window size, 9235 iv-words)) IVR(2900 window size, 9235 iv-words)) IVR(3000 window size, 9235 iv-words)) IVR(3100 window size, 9235 iv-words)) IVR(3200 window size, 9235 iv-words)) IVR(3300 window size, 9235 iv-words)) IVR(3400 window size, 9235 iv-words)) IVR(200 window size, 9235 iv-words)) IVR(3500 window size, 9235 iv-words)) IVR(3600 window size, 9235 iv-words)) IVR(3700 window size, 9235 iv-words)) IVR(3800 window size, 9235 iv-words)) IVR(3900 window size, 9235 iv-words)) IVR(4000 window size, 9235 iv-words)) IVR(4100 window size, 9235 iv-words)) IVR(300 window size, 9235 iv-words)) IVR(4200 window size, 9235 iv-words)) IVR(4300 window size, 9235 iv-words)) IVR(4400 window size, 9235 iv-words)) IVR(4500 window size, 9235 iv-words)) IVR(4600 window size, 9235 iv-words)) IVR(4700 window size, 9235 iv-words)) IVR(4800 window size, 9235 iv-words)) IVR(4900 window size, 9235 iv-words)) IVR(400 window size, 9235 iv-words)) IVR(5000 window size, 9235 iv-words)) IVR(5100 window size, 9235 iv-words)) IVR(5200 window size, 9235 iv-words)) IVR(5300 window size, 9235 iv-words)) IVR(5400 window size, 9235 iv-words)) IVR(5500 window size, 9235 iv-words)) IVR(5600 window size, 9235 iv-words)) IVR(500 window size, 9235 iv-words)) IVR(5700 window size, 9235 iv-words)) IVR(5800 window size, 9235 iv-words)) IVR(5900 window size, 9235 iv-words)) IVR(6000 window size, 9235 iv-words)) IVR(6100 window size, 9235 iv-words)) IVR(600 window size, 9235 iv-words)) IVR(6200 window size, 9235 iv-words)) IVR(6300 window size, 9235 iv-words)) IVR(6400 window size, 9235 iv-words)) IVR(6500 window size, 9235 iv-words)) IVR(6600 window size, 9235 iv-words)) IVR(6700 window size, 9235 iv-words)) IVR(700 window size, 9235 iv-words)) IVR(6800 window size, 9235 iv-words)) IVR(6900 window size, 9235 iv-words)) IVR(7000 window size, 9235 iv-words)) IVR(7100 window size, 9235 iv-words)) IVR(7200 window size, 9235 iv-words)) IVR(800 window size, 9235 iv-words)) IVR(7300 window size, 9235 iv-words)) IVR(7400 window size, 9235 iv-words)) IVR(7500 window size, 9235 iv-words)) IVR(900 window size, 9235 iv-words)) IVR(7600 window size, 9235 iv-words)) IVR(7700 window size, 9235 iv-words)) IVR(7800 window size, 9235 iv-words)) IVR(1000 window size, 9235 iv-words)) IVR(7900 window size, 9235 iv-words)) IVR(8000 window size, 9235 iv-words)) IVR(8100 window size, 9235 iv-words)) IVR(8200 window size, 9235 iv-words)) IVR(1100 window size, 9235 iv-words)) IVR(8300 window size, 9235 iv-words)) IVR(8400 window size, 9235 iv-words)) IVR(8500 window size, 9235 iv-words)) IVR(8600 window size, 9235 iv-words)) IVR(1200 window size, 9235 iv-words)) IVR(8700 window size, 9235 iv-words)) IVR(8800 window size, 9235 iv-words)) IVR(8900 window size, 9235 iv-words)) IVR(1300 window size, 9235 iv-words)) IVR(9000 window size, 9235 iv-words)) IVR(9200 window size, 9235 iv-words)) IVR(9100 window size, 9235 iv-words)) IVR(9300 window size, 9235 iv-words)) IVR(9400 window size, 9235 iv-words)) IVR(9500 window size, 9235 iv-words)) IVR(9600 window size, 9235 iv-words)) IVR(9700 window size, 9235 iv-words)) IVR(9800 window size, 9235 iv-words)) IVR(9900 window size, 9235 iv-words))"
       ]
      }
     ],
     "prompt_number": 11
    },
    {
     "cell_type": "code",
     "collapsed": false,
     "input": [
      "analyzer.judge_doc(war_doc)"
     ],
     "language": "python",
     "metadata": {},
     "outputs": [
      {
       "output_type": "pyout",
       "prompt_number": 10,
       "text": [
        "1.2329680293855727"
       ]
      }
     ],
     "prompt_number": 10
    },
    {
     "cell_type": "code",
     "collapsed": false,
     "input": [
      "analyzer.judge_doc(theo_doc)"
     ],
     "language": "python",
     "metadata": {},
     "outputs": [
      {
       "output_type": "pyout",
       "prompt_number": 11,
       "text": [
        "1.3290777105074723"
       ]
      }
     ],
     "prompt_number": 11
    },
    {
     "cell_type": "code",
     "collapsed": false,
     "input": [
      "analyzer.set_similarity('path')\n",
      "analyzer.judge_doc(war_doc)"
     ],
     "language": "python",
     "metadata": {},
     "outputs": [
      {
       "output_type": "pyout",
       "prompt_number": 12,
       "text": [
        "0.09926337551337552"
       ]
      }
     ],
     "prompt_number": 12
    },
    {
     "cell_type": "code",
     "collapsed": false,
     "input": [
      "analyzer.judge_doc(theo_doc)"
     ],
     "language": "python",
     "metadata": {},
     "outputs": [
      {
       "output_type": "pyout",
       "prompt_number": 13,
       "text": [
        "0.11406496281496283"
       ]
      }
     ],
     "prompt_number": 13
    },
    {
     "cell_type": "code",
     "collapsed": false,
     "input": [
      "war_doc.top_words()"
     ],
     "language": "python",
     "metadata": {},
     "outputs": [
      {
       "output_type": "pyout",
       "prompt_number": 14,
       "text": [
        "[(u'land', 0.05),\n",
        " (u'per', 0.05),\n",
        " (u'cent', 0.05),\n",
        " (u'peasants', 0.05),\n",
        " (u'households', 0.05),\n",
        " (u'total', 0.05),\n",
        " (u'one', 0.05),\n",
        " (u'dessiatines', 0.05),\n",
        " (u'agriculture', 0.05),\n",
        " (u'uyezd', 0.05),\n",
        " (u'renting', 0.05),\n",
        " (u'groups', 0.05),\n",
        " (u'allotment', 0.05),\n",
        " (u'relations', 0.05),\n",
        " (u'economic', 0.05),\n",
        " (u'workers', 0.05),\n",
        " (u'capital', 0.05),\n",
        " (u'rent', 0.05),\n",
        " (u'labourers', 0.05),\n",
        " (u'russia', 0.05)]"
       ]
      }
     ],
     "prompt_number": 14
    },
    {
     "cell_type": "code",
     "collapsed": false,
     "input": [
      "theo_doc.top_words()"
     ],
     "language": "python",
     "metadata": {},
     "outputs": [
      {
       "output_type": "pyout",
       "prompt_number": 15,
       "text": [
        "[(u'physics', 0.05),\n",
        " (u'social', 0.05),\n",
        " (u'avenarius', 0.05),\n",
        " (u'kant', 0.05),\n",
        " (u'time', 0.05),\n",
        " (u'space', 0.05),\n",
        " (u'berkeley', 0.05),\n",
        " (u'dietzgen', 0.05),\n",
        " (u'truth', 0.05),\n",
        " (u'mach', 0.05),\n",
        " (u'rey', 0.05),\n",
        " (u'objective', 0.05),\n",
        " (u'matter', 0.05),\n",
        " (u'experience', 0.05),\n",
        " (u'sensation', 0.05),\n",
        " (u'engels', 0.05),\n",
        " (u'motion', 0.05),\n",
        " (u'idealist', 0.05),\n",
        " (u'book', 0.05),\n",
        " (u'necessity', 0.05)]"
       ]
      }
     ],
     "prompt_number": 15
    },
    {
     "cell_type": "code",
     "collapsed": false,
     "input": [],
     "language": "python",
     "metadata": {},
     "outputs": []
    }
   ],
   "metadata": {}
  }
 ]
}